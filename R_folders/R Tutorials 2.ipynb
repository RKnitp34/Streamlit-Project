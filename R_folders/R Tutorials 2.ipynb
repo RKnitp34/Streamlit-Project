{
 "cells": [
  {
   "cell_type": "code",
   "execution_count": null,
   "id": "ca88cb02",
   "metadata": {},
   "outputs": [],
   "source": [
    "# This is an example snippet!\n",
    "# To create your own, add a new snippet block to the\n",
    "# snippets.json file in your jupyter nbextensions directory:\n",
    "# /nbextensions/snippets/snippets.json\n",
    "import this"
   ]
  },
  {
   "cell_type": "code",
   "execution_count": null,
   "id": "2296ac4c",
   "metadata": {},
   "outputs": [],
   "source": [
    "# This is an example snippet!\n",
    "# To create your own, add a new snippet block to the\n",
    "# snippets.json file in your jupyter nbextensions directory:\n",
    "# /nbextensions/snippets/snippets.json\n",
    "import this"
   ]
  },
  {
   "cell_type": "markdown",
   "id": "fd01ff43",
   "metadata": {},
   "source": [
    "## Mean , Median and Mode"
   ]
  },
  {
   "cell_type": "code",
   "execution_count": 3,
   "id": "48635666",
   "metadata": {},
   "outputs": [
    {
     "data": {
      "text/html": [
       "8.22"
      ],
      "text/latex": [
       "8.22"
      ],
      "text/markdown": [
       "8.22"
      ],
      "text/plain": [
       "[1] 8.22"
      ]
     },
     "metadata": {},
     "output_type": "display_data"
    },
    {
     "data": {
      "text/html": [
       "5.6"
      ],
      "text/latex": [
       "5.6"
      ],
      "text/markdown": [
       "5.6"
      ],
      "text/plain": [
       "[1] 5.6"
      ]
     },
     "metadata": {},
     "output_type": "display_data"
    }
   ],
   "source": [
    "# Create a vector. \n",
    "x <- c(12,7,3,4.2,18,2,54,-21,8,-5,NA)\n",
    "y <- c(12,7,3,4.2,18,2,54,-21,8,-5)\n",
    "mean(x ,na.rm = TRUE)\n",
    "median(y,na.rm=TRUE)"
   ]
  },
  {
   "cell_type": "code",
   "execution_count": 7,
   "id": "7aeb9617",
   "metadata": {},
   "outputs": [
    {
     "name": "stdout",
     "output_type": "stream",
     "text": [
      "[1] 2\n",
      "[1] \"it\"\n"
     ]
    }
   ],
   "source": [
    "# Create the function.\n",
    "getmode <- function(v) {\n",
    "   uniqv <- unique(v)\n",
    "   uniqv[which.max(tabulate(match(v, uniqv)))]\n",
    "}\n",
    "\n",
    "# Create the vector with numbers.\n",
    "v <- c(2,1,2,3,1,2,3,4,1,5,5,3,2,3)\n",
    "\n",
    "# Calculate the mode using the user function.\n",
    "result <- getmode(v)\n",
    "print(result)\n",
    "\n",
    "# Create the vector with characters.\n",
    "charv <- c(\"o\",\"it\",\"the\",\"it\",\"it\")\n",
    "\n",
    "# Calculate the mode using the user function.\n",
    "result <- getmode(charv)\n",
    "print(result)"
   ]
  },
  {
   "cell_type": "code",
   "execution_count": null,
   "id": "414523a0",
   "metadata": {},
   "outputs": [],
   "source": []
  }
 ],
 "metadata": {
  "kernelspec": {
   "display_name": "R",
   "language": "R",
   "name": "ir"
  },
  "language_info": {
   "codemirror_mode": "r",
   "file_extension": ".r",
   "mimetype": "text/x-r-source",
   "name": "R",
   "pygments_lexer": "r",
   "version": "4.2.1"
  }
 },
 "nbformat": 4,
 "nbformat_minor": 5
}
