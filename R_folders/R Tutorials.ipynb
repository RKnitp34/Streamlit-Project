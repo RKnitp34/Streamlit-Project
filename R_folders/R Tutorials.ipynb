{
 "cells": [
  {
   "cell_type": "code",
   "execution_count": null,
   "id": "188f5268",
   "metadata": {},
   "outputs": [],
   "source": [
    "# This is an example snippet!\n",
    "# To create your own, add a new snippet block to the\n",
    "# snippets.json file in your jupyter nbextensions directory:\n",
    "# /nbextensions/snippets/snippets.json\n",
    "import this"
   ]
  },
  {
   "cell_type": "code",
   "execution_count": null,
   "id": "8ab04372",
   "metadata": {},
   "outputs": [],
   "source": []
  },
  {
   "cell_type": "markdown",
   "id": "b5361db4",
   "metadata": {},
   "source": [
    "## R Basics"
   ]
  },
  {
   "cell_type": "markdown",
   "id": "9d6a7e8f",
   "metadata": {},
   "source": [
    "R is a programming language.\n",
    "\n",
    "R is often used for statistical computing and graphical presentation to analyze and visualize data."
   ]
  },
  {
   "cell_type": "code",
   "execution_count": 1,
   "id": "0e3e2336",
   "metadata": {},
   "outputs": [
    {
     "data": {
      "text/html": [
       "'Hello World'"
      ],
      "text/latex": [
       "'Hello World'"
      ],
      "text/markdown": [
       "'Hello World'"
      ],
      "text/plain": [
       "[1] \"Hello World\""
      ]
     },
     "metadata": {},
     "output_type": "display_data"
    },
    {
     "data": {
      "text/html": [
       "10"
      ],
      "text/latex": [
       "10"
      ],
      "text/markdown": [
       "10"
      ],
      "text/plain": [
       "[1] 10"
      ]
     },
     "metadata": {},
     "output_type": "display_data"
    }
   ],
   "source": [
    "\"Hello World\"\n",
    "5 + 5 "
   ]
  },
  {
   "cell_type": "code",
   "execution_count": 2,
   "id": "a1eae489",
   "metadata": {},
   "outputs": [
    {
     "name": "stdout",
     "output_type": "stream",
     "text": [
      "[1] \"hello world\"\n"
     ]
    }
   ],
   "source": [
    "print(\"hello world\")"
   ]
  },
  {
   "cell_type": "code",
   "execution_count": 3,
   "id": "2db5c772",
   "metadata": {},
   "outputs": [
    {
     "name": "stdout",
     "output_type": "stream",
     "text": [
      " [1]  1  2  3  4  5  6  7  8  9 10\n"
     ]
    },
    {
     "data": {
      "text/html": [
       "<style>\n",
       ".list-inline {list-style: none; margin:0; padding: 0}\n",
       ".list-inline>li {display: inline-block}\n",
       ".list-inline>li:not(:last-child)::after {content: \"\\00b7\"; padding: 0 .5ex}\n",
       "</style>\n",
       "<ol class=list-inline><li>1</li><li>2</li><li>3</li><li>4</li><li>5</li><li>6</li><li>7</li><li>8</li><li>9</li><li>10</li></ol>\n"
      ],
      "text/latex": [
       "\\begin{enumerate*}\n",
       "\\item 1\n",
       "\\item 2\n",
       "\\item 3\n",
       "\\item 4\n",
       "\\item 5\n",
       "\\item 6\n",
       "\\item 7\n",
       "\\item 8\n",
       "\\item 9\n",
       "\\item 10\n",
       "\\end{enumerate*}\n"
      ],
      "text/markdown": [
       "1. 1\n",
       "2. 2\n",
       "3. 3\n",
       "4. 4\n",
       "5. 5\n",
       "6. 6\n",
       "7. 7\n",
       "8. 8\n",
       "9. 9\n",
       "10. 10\n",
       "\n",
       "\n"
      ],
      "text/plain": [
       " [1]  1  2  3  4  5  6  7  8  9 10"
      ]
     },
     "metadata": {},
     "output_type": "display_data"
    }
   ],
   "source": [
    "print(1:10)\n",
    "1:10 "
   ]
  },
  {
   "cell_type": "code",
   "execution_count": 4,
   "id": "8d19eb23",
   "metadata": {},
   "outputs": [
    {
     "data": {
      "image/png": "[encoded data removed]",
      "text/plain": [
       "plot without title"
      ]
     },
     "metadata": {
      "image/png": {
       "height": 420,
       "width": 420
      }
     },
     "output_type": "display_data"
    }
   ],
   "source": [
    "plot(1:10)"
   ]
  },
  {
   "cell_type": "markdown",
   "id": "7c7af4a6",
   "metadata": {},
   "source": [
    "**Why Use R?**\n",
    "\n",
    "- It is a great resource for data analysis, data visualization, data science and machine learning\n",
    "- It provides many statistical techniques (such as statistical tests, classification, clustering and data reduction)\n",
    "- It is easy to draw graphs in R, like pie charts, histograms, box plot, scatter plot, etc++\n",
    "- It works on different platforms (Windows, Mac, Linux)\n",
    "- It is open-source and free\n",
    "- It has a large community support\n",
    "- It has many packages (libraries of functions) that can be used to solve different problems- "
   ]
  },
  {
   "cell_type": "markdown",
   "id": "bf2630df",
   "metadata": {},
   "source": [
    "And there are times you must use the print() function to output code, for example when working with for loops"
   ]
  },
  {
   "cell_type": "code",
   "execution_count": 5,
   "id": "fdf7d0f7",
   "metadata": {},
   "outputs": [
    {
     "name": "stdout",
     "output_type": "stream",
     "text": [
      "[1] 1\n",
      "[1] 2\n",
      "[1] 3\n",
      "[1] 4\n",
      "[1] 5\n"
     ]
    }
   ],
   "source": [
    "for (i in (1:5)){print(i)}"
   ]
  },
  {
   "cell_type": "markdown",
   "id": "5b0f6900",
   "metadata": {},
   "source": [
    "**Comments**\n",
    "\n",
    "Comments can be used to explain R code, and to make it more readable. It can also be used to prevent execution when testing alternative code.\n",
    "\n",
    "Comments starts with a #. When executing code, R will ignore anything that starts with #."
   ]
  },
  {
   "cell_type": "code",
   "execution_count": 6,
   "id": "ba22af9c",
   "metadata": {},
   "outputs": [
    {
     "data": {
      "text/html": [
       "'rakesh'"
      ],
      "text/latex": [
       "'rakesh'"
      ],
      "text/markdown": [
       "'rakesh'"
      ],
      "text/plain": [
       "[1] \"rakesh\""
      ]
     },
     "metadata": {},
     "output_type": "display_data"
    }
   ],
   "source": [
    "# This is rakesh.\n",
    "\"rakesh\" "
   ]
  },
  {
   "cell_type": "markdown",
   "id": "bf883669",
   "metadata": {},
   "source": [
    "**Variables in R**\n",
    "\n",
    "To assign a value to a variable, use the <- sign. To output (or print) the variable value, just type the variable name:"
   ]
  },
  {
   "cell_type": "code",
   "execution_count": 7,
   "id": "2041b57e",
   "metadata": {},
   "outputs": [
    {
     "data": {
      "text/html": [
       "'rakesh kumar'"
      ],
      "text/latex": [
       "'rakesh kumar'"
      ],
      "text/markdown": [
       "'rakesh kumar'"
      ],
      "text/plain": [
       "[1] \"rakesh kumar\""
      ]
     },
     "metadata": {},
     "output_type": "display_data"
    },
    {
     "data": {
      "text/html": [
       "34"
      ],
      "text/latex": [
       "34"
      ],
      "text/markdown": [
       "34"
      ],
      "text/plain": [
       "[1] 34"
      ]
     },
     "metadata": {},
     "output_type": "display_data"
    },
    {
     "data": {
      "text/html": [
       "'NIT PATNA'"
      ],
      "text/latex": [
       "'NIT PATNA'"
      ],
      "text/markdown": [
       "'NIT PATNA'"
      ],
      "text/plain": [
       "[1] \"NIT PATNA\""
      ]
     },
     "metadata": {},
     "output_type": "display_data"
    }
   ],
   "source": [
    "name <- \"rakesh kumar\"\n",
    "roll <- 34\n",
    "college <-\"NIT PATNA\"\n",
    "\n",
    "name \n",
    "roll \n",
    "college"
   ]
  },
  {
   "cell_type": "markdown",
   "id": "d131e30f",
   "metadata": {},
   "source": [
    "In other programming language, it is common to use = as an assignment operator. In R, we can use both = and <- as assignment operators.\n",
    "\n",
    "However, <- is preferred in most cases because the = operator can be forbidden in some context in R."
   ]
  },
  {
   "cell_type": "markdown",
   "id": "4ac060af",
   "metadata": {},
   "source": [
    "**For concatenate elements R using paste function.**"
   ]
  },
  {
   "cell_type": "code",
   "execution_count": 8,
   "id": "72ffcbaf",
   "metadata": {},
   "outputs": [
    {
     "data": {
      "text/html": [
       "'R mainly used in Data science'"
      ],
      "text/latex": [
       "'R mainly used in Data science'"
      ],
      "text/markdown": [
       "'R mainly used in Data science'"
      ],
      "text/plain": [
       "[1] \"R mainly used in Data science\""
      ]
     },
     "metadata": {},
     "output_type": "display_data"
    }
   ],
   "source": [
    "domain <- \"Data science\"\n",
    "paste(\"R mainly used in\",domain) "
   ]
  },
  {
   "cell_type": "code",
   "execution_count": 9,
   "id": "82f48c93",
   "metadata": {},
   "outputs": [
    {
     "data": {
      "text/html": [
       "'you are very good analyst'"
      ],
      "text/latex": [
       "'you are very good analyst'"
      ],
      "text/markdown": [
       "'you are very good analyst'"
      ],
      "text/plain": [
       "[1] \"you are very good analyst\""
      ]
     },
     "metadata": {},
     "output_type": "display_data"
    }
   ],
   "source": [
    "input1 <- 'you are very good'\n",
    "input2 <- \"analyst\"\n",
    "paste(input1 , input2)"
   ]
  },
  {
   "cell_type": "markdown",
   "id": "85ab8cdf",
   "metadata": {},
   "source": [
    "**Multiple Variables**\n",
    "\n",
    "R allows you to assign the same value to multiple variables in one line:"
   ]
  },
  {
   "cell_type": "code",
   "execution_count": 10,
   "id": "0b68e9da",
   "metadata": {},
   "outputs": [
    {
     "data": {
      "text/html": [
       "'variables names'"
      ],
      "text/latex": [
       "'variables names'"
      ],
      "text/markdown": [
       "'variables names'"
      ],
      "text/plain": [
       "[1] \"variables names\""
      ]
     },
     "metadata": {},
     "output_type": "display_data"
    },
    {
     "data": {
      "text/html": [
       "'variables names'"
      ],
      "text/latex": [
       "'variables names'"
      ],
      "text/markdown": [
       "'variables names'"
      ],
      "text/plain": [
       "[1] \"variables names\""
      ]
     },
     "metadata": {},
     "output_type": "display_data"
    }
   ],
   "source": [
    "var1<-var2<-\"variables names\"\n",
    "var1 \n",
    "var2 "
   ]
  },
  {
   "cell_type": "markdown",
   "id": "ab393749",
   "metadata": {},
   "source": [
    "Remember that variable names are case-sensitive!"
   ]
  },
  {
   "cell_type": "markdown",
   "id": "d00b4f4c",
   "metadata": {},
   "source": [
    "**Data Types**\n",
    "\n",
    "In R, variables do not need to be declared with any particular type, and can even change type after they have been set:"
   ]
  },
  {
   "cell_type": "markdown",
   "id": "aab2aeeb",
   "metadata": {},
   "source": [
    "We can use the class() function to check the data type of a variable:"
   ]
  },
  {
   "cell_type": "code",
   "execution_count": 11,
   "id": "13e84d9d",
   "metadata": {},
   "outputs": [
    {
     "data": {
      "text/html": [
       "'numeric'"
      ],
      "text/latex": [
       "'numeric'"
      ],
      "text/markdown": [
       "'numeric'"
      ],
      "text/plain": [
       "[1] \"numeric\""
      ]
     },
     "metadata": {},
     "output_type": "display_data"
    },
    {
     "data": {
      "text/html": [
       "'integer'"
      ],
      "text/latex": [
       "'integer'"
      ],
      "text/markdown": [
       "'integer'"
      ],
      "text/plain": [
       "[1] \"integer\""
      ]
     },
     "metadata": {},
     "output_type": "display_data"
    },
    {
     "data": {
      "text/html": [
       "'complex'"
      ],
      "text/latex": [
       "'complex'"
      ],
      "text/markdown": [
       "'complex'"
      ],
      "text/plain": [
       "[1] \"complex\""
      ]
     },
     "metadata": {},
     "output_type": "display_data"
    },
    {
     "data": {
      "text/html": [
       "'character'"
      ],
      "text/latex": [
       "'character'"
      ],
      "text/markdown": [
       "'character'"
      ],
      "text/plain": [
       "[1] \"character\""
      ]
     },
     "metadata": {},
     "output_type": "display_data"
    },
    {
     "data": {
      "text/html": [
       "'logical'"
      ],
      "text/latex": [
       "'logical'"
      ],
      "text/markdown": [
       "'logical'"
      ],
      "text/plain": [
       "[1] \"logical\""
      ]
     },
     "metadata": {},
     "output_type": "display_data"
    }
   ],
   "source": [
    "# numeric\n",
    "x <- 10.5\n",
    "class(x)\n",
    "\n",
    "# integer\n",
    "x <- 1000L\n",
    "class(x)\n",
    "\n",
    "# complex\n",
    "x <- 9i + 3\n",
    "class(x)\n",
    "\n",
    "# character/string\n",
    "x <- \"R is exciting\"\n",
    "class(x)\n",
    "\n",
    "# logical/boolean\n",
    "x <- TRUE\n",
    "class(x)"
   ]
  },
  {
   "cell_type": "markdown",
   "id": "211c6b51",
   "metadata": {},
   "source": [
    "**Type Conversion**\n",
    "\n",
    "You can convert from one type to another with the following functions:\n",
    "\n",
    "- as.numeric()\n",
    "- as.integer()\n",
    "- as.complex()"
   ]
  },
  {
   "cell_type": "code",
   "execution_count": 12,
   "id": "6eefbce5",
   "metadata": {},
   "outputs": [
    {
     "data": {
      "text/html": [
       "1"
      ],
      "text/latex": [
       "1"
      ],
      "text/markdown": [
       "1"
      ],
      "text/plain": [
       "[1] 1"
      ]
     },
     "metadata": {},
     "output_type": "display_data"
    },
    {
     "data": {
      "text/html": [
       "2"
      ],
      "text/latex": [
       "2"
      ],
      "text/markdown": [
       "2"
      ],
      "text/plain": [
       "[1] 2"
      ]
     },
     "metadata": {},
     "output_type": "display_data"
    },
    {
     "data": {
      "text/html": [
       "'numeric'"
      ],
      "text/latex": [
       "'numeric'"
      ],
      "text/markdown": [
       "'numeric'"
      ],
      "text/plain": [
       "[1] \"numeric\""
      ]
     },
     "metadata": {},
     "output_type": "display_data"
    },
    {
     "data": {
      "text/html": [
       "'integer'"
      ],
      "text/latex": [
       "'integer'"
      ],
      "text/markdown": [
       "'integer'"
      ],
      "text/plain": [
       "[1] \"integer\""
      ]
     },
     "metadata": {},
     "output_type": "display_data"
    }
   ],
   "source": [
    "x <- 1L # integer\n",
    "y <- 2 # numeric\n",
    "\n",
    "# convert from integer to numeric:\n",
    "a <- as.numeric(x)\n",
    "\n",
    "# convert from numeric to integer:\n",
    "b <- as.integer(y)\n",
    "\n",
    "# print values of x and y\n",
    "x\n",
    "y\n",
    "\n",
    "# print the class name of a and b\n",
    "class(a)\n",
    "class(b)"
   ]
  },
  {
   "cell_type": "markdown",
   "id": "a445ad97",
   "metadata": {},
   "source": [
    "**R Math**"
   ]
  },
  {
   "cell_type": "code",
   "execution_count": 13,
   "id": "f91b632d",
   "metadata": {},
   "outputs": [
    {
     "data": {
      "text/html": [
       "3"
      ],
      "text/latex": [
       "3"
      ],
      "text/markdown": [
       "3"
      ],
      "text/plain": [
       "[1] 3"
      ]
     },
     "metadata": {},
     "output_type": "display_data"
    },
    {
     "data": {
      "text/html": [
       "1"
      ],
      "text/latex": [
       "1"
      ],
      "text/markdown": [
       "1"
      ],
      "text/plain": [
       "[1] 1"
      ]
     },
     "metadata": {},
     "output_type": "display_data"
    },
    {
     "data": {
      "text/html": [
       "78"
      ],
      "text/latex": [
       "78"
      ],
      "text/markdown": [
       "78"
      ],
      "text/plain": [
       "[1] 78"
      ]
     },
     "metadata": {},
     "output_type": "display_data"
    },
    {
     "data": {
      "text/html": [
       "4"
      ],
      "text/latex": [
       "4"
      ],
      "text/markdown": [
       "4"
      ],
      "text/plain": [
       "[1] 4"
      ]
     },
     "metadata": {},
     "output_type": "display_data"
    },
    {
     "data": {
      "text/html": [
       "3"
      ],
      "text/latex": [
       "3"
      ],
      "text/markdown": [
       "3"
      ],
      "text/plain": [
       "[1] 3"
      ]
     },
     "metadata": {},
     "output_type": "display_data"
    },
    {
     "data": {
      "text/html": [
       "4"
      ],
      "text/latex": [
       "4"
      ],
      "text/markdown": [
       "4"
      ],
      "text/plain": [
       "[1] 4"
      ]
     },
     "metadata": {},
     "output_type": "display_data"
    }
   ],
   "source": [
    "\n",
    "max(1,2,3)\n",
    "min(1,2,3)\n",
    "abs(-78)\n",
    "sqrt(16)\n",
    "floor(3.45)\n",
    "ceiling(3.45)"
   ]
  },
  {
   "cell_type": "markdown",
   "id": "0530ecdd",
   "metadata": {},
   "source": [
    "**String Literals**\n",
    "\n",
    "A character, or strings, are used for storing text. A string is surrounded by either single quotation marks, or double quotation marks:\n",
    "\n",
    "\"hello\" is the same as 'hello':"
   ]
  },
  {
   "cell_type": "code",
   "execution_count": 14,
   "id": "6f3147d2",
   "metadata": {},
   "outputs": [
    {
     "data": {
      "text/html": [
       "'Rakesh Kumar'"
      ],
      "text/latex": [
       "'Rakesh Kumar'"
      ],
      "text/markdown": [
       "'Rakesh Kumar'"
      ],
      "text/plain": [
       "[1] \"Rakesh Kumar\""
      ]
     },
     "metadata": {},
     "output_type": "display_data"
    }
   ],
   "source": [
    "str <- \"Rakesh Kumar\"\n",
    "str "
   ]
  },
  {
   "cell_type": "code",
   "execution_count": 15,
   "id": "1ebf87f8",
   "metadata": {},
   "outputs": [
    {
     "name": "stdout",
     "output_type": "stream",
     "text": [
      "[1] \"R is cool but \\npythons is great\"\n",
      "R is cool but \n",
      "pythons is greatNULL\n"
     ]
    }
   ],
   "source": [
    "str<-\"R is cool but \n",
    "pythons is great\"\n",
    "\n",
    "print(str)\n",
    "print(cat(str))"
   ]
  },
  {
   "cell_type": "markdown",
   "id": "43d8fa70",
   "metadata": {},
   "source": [
    "R will add a \"\\n\" at the end of each line break. This is called an escape character, and the n character indicates a new line."
   ]
  },
  {
   "cell_type": "markdown",
   "id": "21bdf8e1",
   "metadata": {},
   "source": [
    "For line break use cat()."
   ]
  },
  {
   "cell_type": "markdown",
   "id": "35347f67",
   "metadata": {},
   "source": [
    "**nchar**:> numbers of characters in strings"
   ]
  },
  {
   "cell_type": "code",
   "execution_count": 17,
   "id": "46163ffc",
   "metadata": {},
   "outputs": [
    {
     "data": {
      "text/html": [
       "6"
      ],
      "text/latex": [
       "6"
      ],
      "text/markdown": [
       "6"
      ],
      "text/plain": [
       "[1] 6"
      ]
     },
     "metadata": {},
     "output_type": "display_data"
    },
    {
     "data": {
      "text/html": [
       "22"
      ],
      "text/latex": [
       "22"
      ],
      "text/markdown": [
       "22"
      ],
      "text/plain": [
       "[1] 22"
      ]
     },
     "metadata": {},
     "output_type": "display_data"
    }
   ],
   "source": [
    "nchar(\"rakesh\")\n",
    "nchar(\"rakesh analyst analyst\")"
   ]
  },
  {
   "cell_type": "markdown",
   "id": "63aa8fd3",
   "metadata": {},
   "source": [
    "**grepl()** function to check if a character or a sequence of characters are present in a string:"
   ]
  },
  {
   "cell_type": "code",
   "execution_count": 18,
   "id": "271c62e9",
   "metadata": {},
   "outputs": [
    {
     "data": {
      "text/html": [
       "TRUE"
      ],
      "text/latex": [
       "TRUE"
      ],
      "text/markdown": [
       "TRUE"
      ],
      "text/plain": [
       "[1] TRUE"
      ]
     },
     "metadata": {},
     "output_type": "display_data"
    },
    {
     "data": {
      "text/html": [
       "TRUE"
      ],
      "text/latex": [
       "TRUE"
      ],
      "text/markdown": [
       "TRUE"
      ],
      "text/plain": [
       "[1] TRUE"
      ]
     },
     "metadata": {},
     "output_type": "display_data"
    },
    {
     "data": {
      "text/html": [
       "FALSE"
      ],
      "text/latex": [
       "FALSE"
      ],
      "text/markdown": [
       "FALSE"
      ],
      "text/plain": [
       "[1] FALSE"
      ]
     },
     "metadata": {},
     "output_type": "display_data"
    }
   ],
   "source": [
    "str <- 'Hi there , i am whatsapp'\n",
    "grepl('H' ,str) \n",
    "grepl('what' ,str)\n",
    "grepl('rakesh' ,str)"
   ]
  },
  {
   "cell_type": "markdown",
   "id": "41fe782f",
   "metadata": {},
   "source": [
    "**Boolean and Logical**"
   ]
  },
  {
   "cell_type": "code",
   "execution_count": 19,
   "id": "1e440f61",
   "metadata": {},
   "outputs": [
    {
     "name": "stdout",
     "output_type": "stream",
     "text": [
      "[1] \"b is greater than a\"\n"
     ]
    }
   ],
   "source": [
    "a <- 10\n",
    "b <- 20\n",
    "\n",
    "if (b > a) {\n",
    "  print (\"b is greater than a\")\n",
    "} else {\n",
    "  print(\"b is not greater than a\")\n",
    "}"
   ]
  },
  {
   "cell_type": "code",
   "execution_count": 20,
   "id": "72275f57",
   "metadata": {},
   "outputs": [
    {
     "data": {
      "text/html": [
       "3"
      ],
      "text/latex": [
       "3"
      ],
      "text/markdown": [
       "3"
      ],
      "text/plain": [
       "[1] 3"
      ]
     },
     "metadata": {},
     "output_type": "display_data"
    },
    {
     "data": {
      "text/html": [
       "3"
      ],
      "text/latex": [
       "3"
      ],
      "text/markdown": [
       "3"
      ],
      "text/plain": [
       "[1] 3"
      ]
     },
     "metadata": {},
     "output_type": "display_data"
    },
    {
     "data": {
      "text/html": [
       "10"
      ],
      "text/latex": [
       "10"
      ],
      "text/markdown": [
       "10"
      ],
      "text/plain": [
       "[1] 10"
      ]
     },
     "metadata": {},
     "output_type": "display_data"
    }
   ],
   "source": [
    "var1 <- 3 \n",
    "3 -> var2 \n",
    "var1 \n",
    "var2 \n",
    "\n",
    "var5<<-10\n",
    "var5"
   ]
  },
  {
   "cell_type": "markdown",
   "id": "c962424b",
   "metadata": {},
   "source": [
    "Note: <<- is a global assigner. You will learn more about this in the Global Variable chapter.\n",
    "\n",
    "It is also possible to turn the direction of the assignment operator.\n",
    "\n",
    "x <- 3 is equal to 3 -> x"
   ]
  },
  {
   "cell_type": "code",
   "execution_count": 21,
   "id": "2dff5f7a",
   "metadata": {},
   "outputs": [
    {
     "data": {
      "text/html": [
       "1"
      ],
      "text/latex": [
       "1"
      ],
      "text/markdown": [
       "1"
      ],
      "text/plain": [
       "[1] 1"
      ]
     },
     "metadata": {},
     "output_type": "display_data"
    },
    {
     "data": {
      "text/html": [
       "0"
      ],
      "text/latex": [
       "0"
      ],
      "text/markdown": [
       "0"
      ],
      "text/plain": [
       "[1] 0"
      ]
     },
     "metadata": {},
     "output_type": "display_data"
    },
    {
     "data": {
      "text/html": [
       "4"
      ],
      "text/latex": [
       "4"
      ],
      "text/markdown": [
       "4"
      ],
      "text/plain": [
       "[1] 4"
      ]
     },
     "metadata": {},
     "output_type": "display_data"
    },
    {
     "data": {
      "text/html": [
       "81"
      ],
      "text/latex": [
       "81"
      ],
      "text/markdown": [
       "81"
      ],
      "text/plain": [
       "[1] 81"
      ]
     },
     "metadata": {},
     "output_type": "display_data"
    },
    {
     "data": {
      "text/html": [
       "7"
      ],
      "text/latex": [
       "7"
      ],
      "text/markdown": [
       "7"
      ],
      "text/plain": [
       "[1] 7"
      ]
     },
     "metadata": {},
     "output_type": "display_data"
    }
   ],
   "source": [
    "5%%2\n",
    "10%%2\n",
    "2^2\n",
    "3^4\n",
    "15 %/% 2\n",
    "\n",
    "# the integer divison (%/%) rounds the result down to the nearest whole number"
   ]
  },
  {
   "attachments": {
    "image.png": {
     "image/png": "[encoded data removed]"
    }
   },
   "cell_type": "markdown",
   "id": "fde3f09d",
   "metadata": {},
   "source": [
    "![image.png](attachment:image.png)"
   ]
  },
  {
   "attachments": {
    "image.png": {
     "image/png": "[encoded data removed]"
    }
   },
   "cell_type": "markdown",
   "id": "45bff4b4",
   "metadata": {},
   "source": [
    "**R Miscellaneous Operators**\n",
    "\n",
    "![image.png](attachment:image.png)"
   ]
  },
  {
   "cell_type": "markdown",
   "id": "0adff461",
   "metadata": {},
   "source": [
    "**IF ELSE**"
   ]
  },
  {
   "cell_type": "code",
   "execution_count": 22,
   "id": "fe64033c",
   "metadata": {},
   "outputs": [
    {
     "name": "stdout",
     "output_type": "stream",
     "text": [
      "[1] \"Above ten\"\n",
      "[1] \"and also above 20!\"\n"
     ]
    }
   ],
   "source": [
    "x <- 41\n",
    "\n",
    "if (x > 10) {\n",
    "  print(\"Above ten\")\n",
    "  if (x > 20) {\n",
    "    print(\"and also above 20!\")\n",
    "  } else {\n",
    "    print(\"but not above 20.\")\n",
    "  }\n",
    "} else {\n",
    "  print(\"below 10.\")\n",
    "}"
   ]
  },
  {
   "cell_type": "markdown",
   "id": "fe1fb789",
   "metadata": {},
   "source": [
    "**While Loop**\n",
    "\n",
    "**Print 1 to 10**\n"
   ]
  },
  {
   "cell_type": "raw",
   "id": "75a89a01",
   "metadata": {},
   "source": []
  },
  {
   "cell_type": "code",
   "execution_count": 23,
   "id": "78246118",
   "metadata": {},
   "outputs": [
    {
     "name": "stdout",
     "output_type": "stream",
     "text": [
      "[1] 1\n",
      "[1] 2\n",
      "[1] 3\n"
     ]
    }
   ],
   "source": [
    "i<- 1\n",
    "\n",
    "while(i<10){\n",
    "    print(i)\n",
    "    i<-i+1   \n",
    "    if(i==4)\n",
    "      break   \n",
    "}\n",
    "\n",
    "# Exit loop if i==4 then."
   ]
  },
  {
   "cell_type": "code",
   "execution_count": 24,
   "id": "a2e3c9aa",
   "metadata": {},
   "outputs": [
    {
     "name": "stdout",
     "output_type": "stream",
     "text": [
      "[1] 1\n",
      "[1] 2\n",
      "[1] 3\n",
      "[1] 5\n",
      "[1] 6\n",
      "[1] 7\n",
      "[1] 8\n",
      "[1] 9\n",
      "[1] 10\n"
     ]
    }
   ],
   "source": [
    "i<- 0\n",
    "# With the next statement, we can skip an iteration without terminating the loop:\n",
    "\n",
    "\n",
    "while(i<10){\n",
    "    \n",
    "    i<-i+1   \n",
    "    if(i==4)\n",
    "      next\n",
    "    print(i)\n",
    "}"
   ]
  },
  {
   "cell_type": "code",
   "execution_count": 25,
   "id": "a4266e95",
   "metadata": {},
   "outputs": [
    {
     "name": "stdout",
     "output_type": "stream",
     "text": [
      "[1] \"apple\"\n",
      "[1] \"banana\"\n",
      "[1] \"cherry\"\n"
     ]
    }
   ],
   "source": [
    "fruits <- list(\"apple\", \"banana\" , \"cherry\")\n",
    "\n",
    "for(x in fruits){\n",
    "    print(x) \n",
    "}"
   ]
  },
  {
   "cell_type": "code",
   "execution_count": 26,
   "id": "c8842ed3",
   "metadata": {},
   "outputs": [
    {
     "name": "stdout",
     "output_type": "stream",
     "text": [
      "[1] 1\n",
      "[1] 2\n",
      "[1] 3\n",
      "[1] 4\n",
      "[1] 5\n",
      "[1] 6\n"
     ]
    }
   ],
   "source": [
    "dice <-c(1,2,3,4,5,6)\n",
    "\n",
    "for(x in dice){\n",
    "    print(x)\n",
    "}"
   ]
  },
  {
   "cell_type": "markdown",
   "id": "7aa99a61",
   "metadata": {},
   "source": [
    "**R Functions**"
   ]
  },
  {
   "cell_type": "code",
   "execution_count": 27,
   "id": "905263c7",
   "metadata": {},
   "outputs": [
    {
     "name": "stdout",
     "output_type": "stream",
     "text": [
      "[1] \"hello World!\"\n"
     ]
    }
   ],
   "source": [
    "my_funciton <- function() {\n",
    "       print(\"hello World!\")\n",
    "}\n",
    "my_funciton()"
   ]
  },
  {
   "cell_type": "code",
   "execution_count": 28,
   "id": "af5a69ac",
   "metadata": {},
   "outputs": [
    {
     "data": {
      "text/html": [
       "'Rakesh Gupta'"
      ],
      "text/latex": [
       "'Rakesh Gupta'"
      ],
      "text/markdown": [
       "'Rakesh Gupta'"
      ],
      "text/plain": [
       "[1] \"Rakesh Gupta\""
      ]
     },
     "metadata": {},
     "output_type": "display_data"
    },
    {
     "data": {
      "text/html": [
       "'Vivek Gupta'"
      ],
      "text/latex": [
       "'Vivek Gupta'"
      ],
      "text/markdown": [
       "'Vivek Gupta'"
      ],
      "text/plain": [
       "[1] \"Vivek Gupta\""
      ]
     },
     "metadata": {},
     "output_type": "display_data"
    },
    {
     "data": {
      "text/html": [
       "'Aryan Gupta'"
      ],
      "text/latex": [
       "'Aryan Gupta'"
      ],
      "text/markdown": [
       "'Aryan Gupta'"
      ],
      "text/plain": [
       "[1] \"Aryan Gupta\""
      ]
     },
     "metadata": {},
     "output_type": "display_data"
    }
   ],
   "source": [
    "my_funciton<- function(fname){\n",
    "    paste(fname , \"Gupta\")\n",
    "}\n",
    "my_funciton(\"Rakesh\")\n",
    "my_funciton(\"Vivek\")\n",
    "my_funciton(\"Aryan\") "
   ]
  },
  {
   "cell_type": "code",
   "execution_count": 30,
   "id": "fdaba872",
   "metadata": {},
   "outputs": [
    {
     "data": {
      "text/html": [
       "8"
      ],
      "text/latex": [
       "8"
      ],
      "text/markdown": [
       "8"
      ],
      "text/plain": [
       "[1] 8"
      ]
     },
     "metadata": {},
     "output_type": "display_data"
    }
   ],
   "source": [
    "sum <-function(a , b){\n",
    "    return (a+b)\n",
    "}\n",
    "\n",
    "sum(5,3)"
   ]
  },
  {
   "cell_type": "code",
   "execution_count": 31,
   "id": "2db3406e",
   "metadata": {},
   "outputs": [
    {
     "data": {
      "text/html": [
       "10"
      ],
      "text/latex": [
       "10"
      ],
      "text/markdown": [
       "10"
      ],
      "text/plain": [
       "[1] 10"
      ]
     },
     "metadata": {},
     "output_type": "display_data"
    }
   ],
   "source": [
    "Nested_function <- function(x, y) {\n",
    "  a <- x + y\n",
    "  return(a)\n",
    "}\n",
    "\n",
    "Nested_function(Nested_function(2,2), Nested_function(3,3))"
   ]
  },
  {
   "cell_type": "markdown",
   "id": "49bf13c5",
   "metadata": {},
   "source": [
    "Example Explained\n",
    "The function tells x to add y.\n",
    "\n",
    "The first input Nested_function(2,2) is \"x\" of the main function.\n",
    "\n",
    "The second input Nested_function(3,3) is \"y\" of the main function.\n",
    "\n",
    "The output is therefore (2+2) + (3+3) = 10."
   ]
  },
  {
   "cell_type": "markdown",
   "id": "007e46b3",
   "metadata": {},
   "source": [
    "## R Data Structures"
   ]
  },
  {
   "cell_type": "markdown",
   "id": "45cd32c1",
   "metadata": {},
   "source": [
    "**Vectors**\n",
    "\n",
    "A vector is simply a list of items that are of the same type.\n",
    "\n",
    "To combine the list of items to a vector, use the c() function and separate the items by a comma."
   ]
  },
  {
   "cell_type": "code",
   "execution_count": 46,
   "id": "9a97d3e8",
   "metadata": {
    "scrolled": true
   },
   "outputs": [
    {
     "name": "stdout",
     "output_type": "stream",
     "text": [
      "[1] \"banana\" \"apple\"  \"orange\"\n",
      "[1] 1 2 3 4 5\n"
     ]
    },
    {
     "data": {
      "text/html": [
       "'banana'"
      ],
      "text/latex": [
       "'banana'"
      ],
      "text/markdown": [
       "'banana'"
      ],
      "text/plain": [
       "[1] \"banana\""
      ]
     },
     "metadata": {},
     "output_type": "display_data"
    },
    {
     "name": "stdout",
     "output_type": "stream",
     "text": [
      "[1] 1 2 3\n",
      "[1]  TRUE FALSE  TRUE FALSE\n",
      "[1] 1.5 2.5 3.5 4.5 5.5 6.5\n",
      "[1] 1.5 2.5 3.5 4.5 5.5\n",
      "[1] \"apple\"  \"banana\" \"orange\"\n"
     ]
    }
   ],
   "source": [
    "#vector of strings\n",
    "\n",
    "fruits <- c('banana' , \"apple\" , 'orange')\n",
    "numbers <- c(1, 2, 3)\n",
    "num<- 1:5\n",
    "flt  <- 1.5:6.5\n",
    "flts <- 1.5:6.3\n",
    "log_values <- c(TRUE , FALSE , TRUE , FALSE)\n",
    "print(fruits )\n",
    "print(num) \n",
    "print(numbers) \n",
    "print(log_values)\n",
    "print(flt)  \n",
    "print(flts ) \n",
    "fruits[1] \n",
    "print(sort(fruits)) \n"
   ]
  },
  {
   "cell_type": "code",
   "execution_count": 59,
   "id": "543014e1",
   "metadata": {},
   "outputs": [
    {
     "name": "stdout",
     "output_type": "stream",
     "text": [
      "[1] \"banana\" \"orange\"\n",
      "[1] \"apple\"  \"orange\" \"mango\"  \"lemon\" \n",
      "[1] \"pear\"   \"apple\"  \"orange\" \"mango\"  \"lemon\" \n"
     ]
    },
    {
     "data": {
      "text/html": [
       "5"
      ],
      "text/latex": [
       "5"
      ],
      "text/markdown": [
       "5"
      ],
      "text/plain": [
       "[1] 5"
      ]
     },
     "metadata": {},
     "output_type": "display_data"
    }
   ],
   "source": [
    "fruits <- c(\"banana\", \"apple\", \"orange\", \"mango\", \"lemon\")\n",
    "\n",
    "# Access the first and third item (banana and orange)\n",
    "print(fruits[c(1, 3)]) \n",
    "print(fruits[c(-1)]) \n",
    "fruits[1]<- \"pear\"\n",
    "print(fruits) \n",
    "length(fruits)"
   ]
  },
  {
   "cell_type": "code",
   "execution_count": null,
   "id": "7b12537b",
   "metadata": {},
   "outputs": [],
   "source": [
    "#change orange to \n",
    "fruits[1] <- \"pear\""
   ]
  },
  {
   "cell_type": "markdown",
   "id": "6c40bbaf",
   "metadata": {},
   "source": [
    "**Repeated vector**"
   ]
  },
  {
   "cell_type": "code",
   "execution_count": 56,
   "id": "71e307e0",
   "metadata": {},
   "outputs": [
    {
     "name": "stdout",
     "output_type": "stream",
     "text": [
      "[1] \"rakesh\" \"rakesh\" \"2\"      \"2\"      \"3\"      \"3\"     \n",
      "[1] \"rakesh\" \"rakesh\" \"rakesh\" \"2\"      \"2\"      \"2\"      \"3\"      \"3\"     \n",
      "[9] \"3\"     \n"
     ]
    }
   ],
   "source": [
    "# print 1 1 1 2 2 2 3 3 3 \n",
    "repeat_each2 <- rep(c(\"rakesh\",2,3) , each =2)\n",
    "repeat_each3 <- rep(c(\"rakesh\",2,3) , each =3)\n",
    "print(repeat_each2)\n",
    "print(repeat_each3) "
   ]
  },
  {
   "cell_type": "code",
   "execution_count": 58,
   "id": "294a67f5",
   "metadata": {},
   "outputs": [
    {
     "name": "stdout",
     "output_type": "stream",
     "text": [
      "[1] 1 2 3 1 2 3 1 2 3\n"
     ]
    }
   ],
   "source": [
    "repeat_times <- rep(c(1,2,3), times = 3)\n",
    "\n",
    "print(repeat_times) "
   ]
  },
  {
   "cell_type": "code",
   "execution_count": 61,
   "id": "e3fc13ed",
   "metadata": {},
   "outputs": [
    {
     "name": "stdout",
     "output_type": "stream",
     "text": [
      "[1] 1 1 1 1 1 2 2 3\n"
     ]
    }
   ],
   "source": [
    "repeat_indepent <- rep(c(1,2,3), times = c(5,2,1))\n",
    "\n",
    "print(repeat_indepent) "
   ]
  },
  {
   "cell_type": "code",
   "execution_count": 63,
   "id": "f11241aa",
   "metadata": {},
   "outputs": [
    {
     "name": "stdout",
     "output_type": "stream",
     "text": [
      "[1]   0  20  40  60  80 100\n"
     ]
    }
   ],
   "source": [
    "numbers <- seq(from = 0, to = 100, by = 20)\n",
    "\n",
    "print(numbers) "
   ]
  },
  {
   "cell_type": "markdown",
   "id": "55ff2a36",
   "metadata": {},
   "source": [
    " The seq() function has three parameters: from is where the sequence starts, to is where the sequence stops, and by is the interval of the sequence."
   ]
  },
  {
   "cell_type": "markdown",
   "id": "f0e34539",
   "metadata": {},
   "source": [
    "**List**"
   ]
  },
  {
   "cell_type": "code",
   "execution_count": 4,
   "id": "2093463e",
   "metadata": {},
   "outputs": [
    {
     "data": {
      "text/html": [
       "<ol>\n",
       "\t<li>'apple'</li>\n",
       "\t<li>'banana'</li>\n",
       "\t<li>'cherry'</li>\n",
       "</ol>\n"
      ],
      "text/latex": [
       "\\begin{enumerate}\n",
       "\\item 'apple'\n",
       "\\item 'banana'\n",
       "\\item 'cherry'\n",
       "\\end{enumerate}\n"
      ],
      "text/markdown": [
       "1. 'apple'\n",
       "2. 'banana'\n",
       "3. 'cherry'\n",
       "\n",
       "\n"
      ],
      "text/plain": [
       "[[1]]\n",
       "[1] \"apple\"\n",
       "\n",
       "[[2]]\n",
       "[1] \"banana\"\n",
       "\n",
       "[[3]]\n",
       "[1] \"cherry\"\n"
      ]
     },
     "metadata": {},
     "output_type": "display_data"
    }
   ],
   "source": [
    "# List of strings\n",
    "thislist <- list(\"apple\", \"banana\", \"cherry\")\n",
    "# Print the list\n",
    "thislist"
   ]
  },
  {
   "cell_type": "code",
   "execution_count": 6,
   "id": "0599b1d0",
   "metadata": {},
   "outputs": [
    {
     "data": {
      "text/html": [
       "<ol>\n",
       "\t<li>'apple'</li>\n",
       "\t<li>'orange'</li>\n",
       "\t<li>'cherry'</li>\n",
       "</ol>\n"
      ],
      "text/latex": [
       "\\begin{enumerate}\n",
       "\\item 'apple'\n",
       "\\item 'orange'\n",
       "\\item 'cherry'\n",
       "\\end{enumerate}\n"
      ],
      "text/markdown": [
       "1. 'apple'\n",
       "2. 'orange'\n",
       "3. 'cherry'\n",
       "\n",
       "\n"
      ],
      "text/plain": [
       "[[1]]\n",
       "[1] \"apple\"\n",
       "\n",
       "[[2]]\n",
       "[1] \"orange\"\n",
       "\n",
       "[[3]]\n",
       "[1] \"cherry\"\n"
      ]
     },
     "metadata": {},
     "output_type": "display_data"
    },
    {
     "data": {
      "text/html": [
       "3"
      ],
      "text/latex": [
       "3"
      ],
      "text/markdown": [
       "3"
      ],
      "text/plain": [
       "[1] 3"
      ]
     },
     "metadata": {},
     "output_type": "display_data"
    }
   ],
   "source": [
    "# change item values\n",
    "thislist[2]<-\"orange\"\n",
    "thislist\n",
    "length(thislist)"
   ]
  },
  {
   "cell_type": "code",
   "execution_count": 12,
   "id": "fe19f536",
   "metadata": {},
   "outputs": [
    {
     "data": {
      "text/html": [
       "<ol>\n",
       "\t<li>'apple'</li>\n",
       "\t<li>'orange'</li>\n",
       "\t<li>'cherry'</li>\n",
       "\t<li>'balckjamun'</li>\n",
       "</ol>\n"
      ],
      "text/latex": [
       "\\begin{enumerate}\n",
       "\\item 'apple'\n",
       "\\item 'orange'\n",
       "\\item 'cherry'\n",
       "\\item 'balckjamun'\n",
       "\\end{enumerate}\n"
      ],
      "text/markdown": [
       "1. 'apple'\n",
       "2. 'orange'\n",
       "3. 'cherry'\n",
       "4. 'balckjamun'\n",
       "\n",
       "\n"
      ],
      "text/plain": [
       "[[1]]\n",
       "[1] \"apple\"\n",
       "\n",
       "[[2]]\n",
       "[1] \"orange\"\n",
       "\n",
       "[[3]]\n",
       "[1] \"cherry\"\n",
       "\n",
       "[[4]]\n",
       "[1] \"balckjamun\"\n"
      ]
     },
     "metadata": {},
     "output_type": "display_data"
    },
    {
     "data": {
      "text/html": [
       "<ol>\n",
       "\t<li>'apple'</li>\n",
       "\t<li>'orange'</li>\n",
       "\t<li>'jackfruit'</li>\n",
       "\t<li>'cherry'</li>\n",
       "</ol>\n"
      ],
      "text/latex": [
       "\\begin{enumerate}\n",
       "\\item 'apple'\n",
       "\\item 'orange'\n",
       "\\item 'jackfruit'\n",
       "\\item 'cherry'\n",
       "\\end{enumerate}\n"
      ],
      "text/markdown": [
       "1. 'apple'\n",
       "2. 'orange'\n",
       "3. 'jackfruit'\n",
       "4. 'cherry'\n",
       "\n",
       "\n"
      ],
      "text/plain": [
       "[[1]]\n",
       "[1] \"apple\"\n",
       "\n",
       "[[2]]\n",
       "[1] \"orange\"\n",
       "\n",
       "[[3]]\n",
       "[1] \"jackfruit\"\n",
       "\n",
       "[[4]]\n",
       "[1] \"cherry\"\n"
      ]
     },
     "metadata": {},
     "output_type": "display_data"
    }
   ],
   "source": [
    "append(thislist ,\"balckjamun\")\n",
    "append(thislist ,\"jackfruit\" , after =2)"
   ]
  },
  {
   "cell_type": "code",
   "execution_count": 10,
   "id": "087f2b07",
   "metadata": {},
   "outputs": [
    {
     "name": "stdout",
     "output_type": "stream",
     "text": [
      "[1] FALSE\n",
      "[1] TRUE\n"
     ]
    }
   ],
   "source": [
    "print(\"rakesh\" %in% thislist)\n",
    "print(\"apple\"  %in% thislist) "
   ]
  },
  {
   "cell_type": "code",
   "execution_count": 7,
   "id": "f9c83777",
   "metadata": {},
   "outputs": [
    {
     "name": "stdout",
     "output_type": "stream",
     "text": [
      "[1] \"apple\"\n",
      "[1] \"orange\"\n",
      "[1] \"cherry\"\n"
     ]
    }
   ],
   "source": [
    "for (i in thislist)\n",
    "    {\n",
    "    print(intercept = )\n",
    "    }"
   ]
  },
  {
   "cell_type": "code",
   "execution_count": 13,
   "id": "64f97790",
   "metadata": {},
   "outputs": [
    {
     "data": {
      "text/html": [
       "<ol>\n",
       "\t<li>'banana'</li>\n",
       "\t<li>'cherry'</li>\n",
       "\t<li>'orange'</li>\n",
       "\t<li>'kiwi'</li>\n",
       "</ol>\n"
      ],
      "text/latex": [
       "\\begin{enumerate}\n",
       "\\item 'banana'\n",
       "\\item 'cherry'\n",
       "\\item 'orange'\n",
       "\\item 'kiwi'\n",
       "\\end{enumerate}\n"
      ],
      "text/markdown": [
       "1. 'banana'\n",
       "2. 'cherry'\n",
       "3. 'orange'\n",
       "4. 'kiwi'\n",
       "\n",
       "\n"
      ],
      "text/plain": [
       "[[1]]\n",
       "[1] \"banana\"\n",
       "\n",
       "[[2]]\n",
       "[1] \"cherry\"\n",
       "\n",
       "[[3]]\n",
       "[1] \"orange\"\n",
       "\n",
       "[[4]]\n",
       "[1] \"kiwi\"\n"
      ]
     },
     "metadata": {},
     "output_type": "display_data"
    }
   ],
   "source": [
    "thislist <- list(\"apple\", \"banana\", \"cherry\", \"orange\", \"kiwi\", \"melon\", \"mango\")\n",
    "\n",
    "(thislist)[2:5]"
   ]
  },
  {
   "cell_type": "code",
   "execution_count": 17,
   "id": "28684cb2",
   "metadata": {},
   "outputs": [
    {
     "data": {
      "text/html": [
       "<ol>\n",
       "\t<li>'a'</li>\n",
       "\t<li>'b'</li>\n",
       "\t<li>'c'</li>\n",
       "\t<li>1</li>\n",
       "\t<li>2</li>\n",
       "\t<li>3</li>\n",
       "</ol>\n"
      ],
      "text/latex": [
       "\\begin{enumerate}\n",
       "\\item 'a'\n",
       "\\item 'b'\n",
       "\\item 'c'\n",
       "\\item 1\n",
       "\\item 2\n",
       "\\item 3\n",
       "\\end{enumerate}\n"
      ],
      "text/markdown": [
       "1. 'a'\n",
       "2. 'b'\n",
       "3. 'c'\n",
       "4. 1\n",
       "5. 2\n",
       "6. 3\n",
       "\n",
       "\n"
      ],
      "text/plain": [
       "[[1]]\n",
       "[1] \"a\"\n",
       "\n",
       "[[2]]\n",
       "[1] \"b\"\n",
       "\n",
       "[[3]]\n",
       "[1] \"c\"\n",
       "\n",
       "[[4]]\n",
       "[1] 1\n",
       "\n",
       "[[5]]\n",
       "[1] 2\n",
       "\n",
       "[[6]]\n",
       "[1] 3\n"
      ]
     },
     "metadata": {},
     "output_type": "display_data"
    }
   ],
   "source": [
    "# join Two lists\n",
    "list1 <-list(\"a\",\"b\",\"c\")\n",
    "list2 <-list(1,2,3)\n",
    "list3 <-c(list1 , list2) \n",
    "list3 "
   ]
  },
  {
   "cell_type": "markdown",
   "id": "3b5674f6",
   "metadata": {},
   "source": [
    "**Data Frames**"
   ]
  },
  {
   "cell_type": "markdown",
   "id": "df1008c9",
   "metadata": {},
   "source": [
    "Use the data.frame() function to create a data frame:"
   ]
  },
  {
   "cell_type": "code",
   "execution_count": 20,
   "id": "51509a3c",
   "metadata": {},
   "outputs": [
    {
     "data": {
      "text/html": [
       "<table class=\"dataframe\">\n",
       "<caption>A data.frame: 3 × 3</caption>\n",
       "<thead>\n",
       "\t<tr><th scope=col>name</th><th scope=col>job_title</th><th scope=col>salary</th></tr>\n",
       "\t<tr><th scope=col>&lt;chr&gt;</th><th scope=col>&lt;chr&gt;</th><th scope=col>&lt;chr&gt;</th></tr>\n",
       "</thead>\n",
       "<tbody>\n",
       "\t<tr><td>Rakesh</td><td>Analyst         </td><td>$20</td></tr>\n",
       "\t<tr><td>alex  </td><td>Data scientist  </td><td>$50</td></tr>\n",
       "\t<tr><td>bob   </td><td>Business analyst</td><td>$30</td></tr>\n",
       "</tbody>\n",
       "</table>\n"
      ],
      "text/latex": [
       "A data.frame: 3 × 3\n",
       "\\begin{tabular}{lll}\n",
       " name & job\\_title & salary\\\\\n",
       " <chr> & <chr> & <chr>\\\\\n",
       "\\hline\n",
       "\t Rakesh & Analyst          & \\$20\\\\\n",
       "\t alex   & Data scientist   & \\$50\\\\\n",
       "\t bob    & Business analyst & \\$30\\\\\n",
       "\\end{tabular}\n"
      ],
      "text/markdown": [
       "\n",
       "A data.frame: 3 × 3\n",
       "\n",
       "| name &lt;chr&gt; | job_title &lt;chr&gt; | salary &lt;chr&gt; |\n",
       "|---|---|---|\n",
       "| Rakesh | Analyst          | $20 |\n",
       "| alex   | Data scientist   | $50 |\n",
       "| bob    | Business analyst | $30 |\n",
       "\n"
      ],
      "text/plain": [
       "  name   job_title        salary\n",
       "1 Rakesh Analyst          $20   \n",
       "2 alex   Data scientist   $50   \n",
       "3 bob    Business analyst $30   "
      ]
     },
     "metadata": {},
     "output_type": "display_data"
    }
   ],
   "source": [
    "df <-data.frame(\n",
    "    name = c(\"Rakesh\" , \"alex\" , \"bob\") ,\n",
    "    job_title = c(\"Analyst\" ,\"Data scientist\" , \"Business analyst\") ,\n",
    "    salary   =c(\"$20\" ,\"$50\" ,\"$30\")\n",
    ")\n",
    "df "
   ]
  },
  {
   "cell_type": "code",
   "execution_count": 21,
   "id": "73a0518c",
   "metadata": {},
   "outputs": [
    {
     "data": {
      "text/plain": [
       "     name            job_title            salary         \n",
       " Length:3           Length:3           Length:3          \n",
       " Class :character   Class :character   Class :character  \n",
       " Mode  :character   Mode  :character   Mode  :character  "
      ]
     },
     "metadata": {},
     "output_type": "display_data"
    }
   ],
   "source": [
    "summary(df)"
   ]
  },
  {
   "cell_type": "code",
   "execution_count": 25,
   "id": "1aaaa79b",
   "metadata": {},
   "outputs": [
    {
     "data": {
      "text/html": [
       "<table class=\"dataframe\">\n",
       "<caption>A data.frame: 3 × 1</caption>\n",
       "<thead>\n",
       "\t<tr><th scope=col>job_title</th></tr>\n",
       "\t<tr><th scope=col>&lt;chr&gt;</th></tr>\n",
       "</thead>\n",
       "<tbody>\n",
       "\t<tr><td>Analyst         </td></tr>\n",
       "\t<tr><td>Data scientist  </td></tr>\n",
       "\t<tr><td>Business analyst</td></tr>\n",
       "</tbody>\n",
       "</table>\n"
      ],
      "text/latex": [
       "A data.frame: 3 × 1\n",
       "\\begin{tabular}{l}\n",
       " job\\_title\\\\\n",
       " <chr>\\\\\n",
       "\\hline\n",
       "\t Analyst         \\\\\n",
       "\t Data scientist  \\\\\n",
       "\t Business analyst\\\\\n",
       "\\end{tabular}\n"
      ],
      "text/markdown": [
       "\n",
       "A data.frame: 3 × 1\n",
       "\n",
       "| job_title &lt;chr&gt; |\n",
       "|---|\n",
       "| Analyst          |\n",
       "| Data scientist   |\n",
       "| Business analyst |\n",
       "\n"
      ],
      "text/plain": [
       "  job_title       \n",
       "1 Analyst         \n",
       "2 Data scientist  \n",
       "3 Business analyst"
      ]
     },
     "metadata": {},
     "output_type": "display_data"
    },
    {
     "data": {
      "text/html": [
       "<style>\n",
       ".list-inline {list-style: none; margin:0; padding: 0}\n",
       ".list-inline>li {display: inline-block}\n",
       ".list-inline>li:not(:last-child)::after {content: \"\\00b7\"; padding: 0 .5ex}\n",
       "</style>\n",
       "<ol class=list-inline><li>'Rakesh'</li><li>'alex'</li><li>'bob'</li></ol>\n"
      ],
      "text/latex": [
       "\\begin{enumerate*}\n",
       "\\item 'Rakesh'\n",
       "\\item 'alex'\n",
       "\\item 'bob'\n",
       "\\end{enumerate*}\n"
      ],
      "text/markdown": [
       "1. 'Rakesh'\n",
       "2. 'alex'\n",
       "3. 'bob'\n",
       "\n",
       "\n"
      ],
      "text/plain": [
       "[1] \"Rakesh\" \"alex\"   \"bob\"   "
      ]
     },
     "metadata": {},
     "output_type": "display_data"
    },
    {
     "data": {
      "text/html": [
       "<style>\n",
       ".list-inline {list-style: none; margin:0; padding: 0}\n",
       ".list-inline>li {display: inline-block}\n",
       ".list-inline>li:not(:last-child)::after {content: \"\\00b7\"; padding: 0 .5ex}\n",
       "</style>\n",
       "<ol class=list-inline><li>'Rakesh'</li><li>'alex'</li><li>'bob'</li></ol>\n"
      ],
      "text/latex": [
       "\\begin{enumerate*}\n",
       "\\item 'Rakesh'\n",
       "\\item 'alex'\n",
       "\\item 'bob'\n",
       "\\end{enumerate*}\n"
      ],
      "text/markdown": [
       "1. 'Rakesh'\n",
       "2. 'alex'\n",
       "3. 'bob'\n",
       "\n",
       "\n"
      ],
      "text/plain": [
       "[1] \"Rakesh\" \"alex\"   \"bob\"   "
      ]
     },
     "metadata": {},
     "output_type": "display_data"
    }
   ],
   "source": [
    "df[2] \n",
    "df[['name']]\n",
    "df$name"
   ]
  },
  {
   "cell_type": "markdown",
   "id": "96e55cba",
   "metadata": {},
   "source": [
    "Add Rows\n",
    "Use the rbind() function to add new rows in a Data Frame:"
   ]
  },
  {
   "cell_type": "code",
   "execution_count": 28,
   "id": "7a4de088",
   "metadata": {},
   "outputs": [
    {
     "data": {
      "text/html": [
       "<table class=\"dataframe\">\n",
       "<caption>A data.frame: 4 × 3</caption>\n",
       "<thead>\n",
       "\t<tr><th scope=col>name</th><th scope=col>job_title</th><th scope=col>salary</th></tr>\n",
       "\t<tr><th scope=col>&lt;chr&gt;</th><th scope=col>&lt;chr&gt;</th><th scope=col>&lt;chr&gt;</th></tr>\n",
       "</thead>\n",
       "<tbody>\n",
       "\t<tr><td>Rakesh</td><td>Analyst         </td><td>$20</td></tr>\n",
       "\t<tr><td>alex  </td><td>Data scientist  </td><td>$50</td></tr>\n",
       "\t<tr><td>bob   </td><td>Business analyst</td><td>$30</td></tr>\n",
       "\t<tr><td>Sumit </td><td>Data Analyst    </td><td>$30</td></tr>\n",
       "</tbody>\n",
       "</table>\n"
      ],
      "text/latex": [
       "A data.frame: 4 × 3\n",
       "\\begin{tabular}{lll}\n",
       " name & job\\_title & salary\\\\\n",
       " <chr> & <chr> & <chr>\\\\\n",
       "\\hline\n",
       "\t Rakesh & Analyst          & \\$20\\\\\n",
       "\t alex   & Data scientist   & \\$50\\\\\n",
       "\t bob    & Business analyst & \\$30\\\\\n",
       "\t Sumit  & Data Analyst     & \\$30\\\\\n",
       "\\end{tabular}\n"
      ],
      "text/markdown": [
       "\n",
       "A data.frame: 4 × 3\n",
       "\n",
       "| name &lt;chr&gt; | job_title &lt;chr&gt; | salary &lt;chr&gt; |\n",
       "|---|---|---|\n",
       "| Rakesh | Analyst          | $20 |\n",
       "| alex   | Data scientist   | $50 |\n",
       "| bob    | Business analyst | $30 |\n",
       "| Sumit  | Data Analyst     | $30 |\n",
       "\n"
      ],
      "text/plain": [
       "  name   job_title        salary\n",
       "1 Rakesh Analyst          $20   \n",
       "2 alex   Data scientist   $50   \n",
       "3 bob    Business analyst $30   \n",
       "4 Sumit  Data Analyst     $30   "
      ]
     },
     "metadata": {},
     "output_type": "display_data"
    }
   ],
   "source": [
    "new_df <- rbind(df , c(\"Sumit\" , \"Data Analyst\" , \"$30\"))\n",
    "new_df "
   ]
  },
  {
   "cell_type": "markdown",
   "id": "c633528b",
   "metadata": {},
   "source": [
    "Add Columns Use the cbind() function to add new rows in a Data Frame:"
   ]
  },
  {
   "cell_type": "code",
   "execution_count": 29,
   "id": "01622e4e",
   "metadata": {},
   "outputs": [
    {
     "data": {
      "text/html": [
       "<table class=\"dataframe\">\n",
       "<caption>A data.frame: 4 × 4</caption>\n",
       "<thead>\n",
       "\t<tr><th scope=col>name</th><th scope=col>job_title</th><th scope=col>salary</th><th scope=col>office_location</th></tr>\n",
       "\t<tr><th scope=col>&lt;chr&gt;</th><th scope=col>&lt;chr&gt;</th><th scope=col>&lt;chr&gt;</th><th scope=col>&lt;chr&gt;</th></tr>\n",
       "</thead>\n",
       "<tbody>\n",
       "\t<tr><td>Rakesh</td><td>Analyst         </td><td>$20</td><td>India</td></tr>\n",
       "\t<tr><td>alex  </td><td>Data scientist  </td><td>$50</td><td>USA  </td></tr>\n",
       "\t<tr><td>bob   </td><td>Business analyst</td><td>$30</td><td>UK   </td></tr>\n",
       "\t<tr><td>Sumit </td><td>Data Analyst    </td><td>$30</td><td>India</td></tr>\n",
       "</tbody>\n",
       "</table>\n"
      ],
      "text/latex": [
       "A data.frame: 4 × 4\n",
       "\\begin{tabular}{llll}\n",
       " name & job\\_title & salary & office\\_location\\\\\n",
       " <chr> & <chr> & <chr> & <chr>\\\\\n",
       "\\hline\n",
       "\t Rakesh & Analyst          & \\$20 & India\\\\\n",
       "\t alex   & Data scientist   & \\$50 & USA  \\\\\n",
       "\t bob    & Business analyst & \\$30 & UK   \\\\\n",
       "\t Sumit  & Data Analyst     & \\$30 & India\\\\\n",
       "\\end{tabular}\n"
      ],
      "text/markdown": [
       "\n",
       "A data.frame: 4 × 4\n",
       "\n",
       "| name &lt;chr&gt; | job_title &lt;chr&gt; | salary &lt;chr&gt; | office_location &lt;chr&gt; |\n",
       "|---|---|---|---|\n",
       "| Rakesh | Analyst          | $20 | India |\n",
       "| alex   | Data scientist   | $50 | USA   |\n",
       "| bob    | Business analyst | $30 | UK    |\n",
       "| Sumit  | Data Analyst     | $30 | India |\n",
       "\n"
      ],
      "text/plain": [
       "  name   job_title        salary office_location\n",
       "1 Rakesh Analyst          $20    India          \n",
       "2 alex   Data scientist   $50    USA            \n",
       "3 bob    Business analyst $30    UK             \n",
       "4 Sumit  Data Analyst     $30    India          "
      ]
     },
     "metadata": {},
     "output_type": "display_data"
    }
   ],
   "source": [
    "new_df <- cbind(new_df , office_location = c(\"India\"  , \"USA\" , \"UK\" , \"India\"))\n",
    "new_df "
   ]
  },
  {
   "cell_type": "markdown",
   "id": "0041217c",
   "metadata": {},
   "source": [
    "Remove Rows and Columns\n",
    "Use the c() function to remove rows and columns in a Data Frame:"
   ]
  },
  {
   "cell_type": "code",
   "execution_count": 30,
   "id": "5d089f10",
   "metadata": {},
   "outputs": [
    {
     "data": {
      "text/html": [
       "<table class=\"dataframe\">\n",
       "<caption>A data.frame: 3 × 3</caption>\n",
       "<thead>\n",
       "\t<tr><th></th><th scope=col>job_title</th><th scope=col>salary</th><th scope=col>office_location</th></tr>\n",
       "\t<tr><th></th><th scope=col>&lt;chr&gt;</th><th scope=col>&lt;chr&gt;</th><th scope=col>&lt;chr&gt;</th></tr>\n",
       "</thead>\n",
       "<tbody>\n",
       "\t<tr><th scope=row>2</th><td>Data scientist  </td><td>$50</td><td>USA  </td></tr>\n",
       "\t<tr><th scope=row>3</th><td>Business analyst</td><td>$30</td><td>UK   </td></tr>\n",
       "\t<tr><th scope=row>4</th><td>Data Analyst    </td><td>$30</td><td>India</td></tr>\n",
       "</tbody>\n",
       "</table>\n"
      ],
      "text/latex": [
       "A data.frame: 3 × 3\n",
       "\\begin{tabular}{r|lll}\n",
       "  & job\\_title & salary & office\\_location\\\\\n",
       "  & <chr> & <chr> & <chr>\\\\\n",
       "\\hline\n",
       "\t2 & Data scientist   & \\$50 & USA  \\\\\n",
       "\t3 & Business analyst & \\$30 & UK   \\\\\n",
       "\t4 & Data Analyst     & \\$30 & India\\\\\n",
       "\\end{tabular}\n"
      ],
      "text/markdown": [
       "\n",
       "A data.frame: 3 × 3\n",
       "\n",
       "| <!--/--> | job_title &lt;chr&gt; | salary &lt;chr&gt; | office_location &lt;chr&gt; |\n",
       "|---|---|---|---|\n",
       "| 2 | Data scientist   | $50 | USA   |\n",
       "| 3 | Business analyst | $30 | UK    |\n",
       "| 4 | Data Analyst     | $30 | India |\n",
       "\n"
      ],
      "text/plain": [
       "  job_title        salary office_location\n",
       "2 Data scientist   $50    USA            \n",
       "3 Business analyst $30    UK             \n",
       "4 Data Analyst     $30    India          "
      ]
     },
     "metadata": {},
     "output_type": "display_data"
    }
   ],
   "source": [
    "# Remove the first row and column\n",
    "new_df <- new_df[-c(1), -c(1)]\n",
    "\n",
    "# Print the new data frame\n",
    "new_df "
   ]
  },
  {
   "cell_type": "markdown",
   "id": "6ed4e037",
   "metadata": {},
   "source": [
    "You can also use the ncol() function to find the number of columns and nrow() to find the number of rows:"
   ]
  },
  {
   "cell_type": "code",
   "execution_count": 32,
   "id": "1bb202e7",
   "metadata": {},
   "outputs": [
    {
     "name": "stdout",
     "output_type": "stream",
     "text": [
      "[1] 3 3\n"
     ]
    }
   ],
   "source": [
    "print(dim(new_df)) "
   ]
  },
  {
   "cell_type": "code",
   "execution_count": 35,
   "id": "4471588d",
   "metadata": {},
   "outputs": [
    {
     "data": {
      "text/html": [
       "3"
      ],
      "text/latex": [
       "3"
      ],
      "text/markdown": [
       "3"
      ],
      "text/plain": [
       "[1] 3"
      ]
     },
     "metadata": {},
     "output_type": "display_data"
    },
    {
     "data": {
      "text/html": [
       "3"
      ],
      "text/latex": [
       "3"
      ],
      "text/markdown": [
       "3"
      ],
      "text/plain": [
       "[1] 3"
      ]
     },
     "metadata": {},
     "output_type": "display_data"
    },
    {
     "ename": "ERROR",
     "evalue": "Error in len(new_df): could not find function \"len\"\n",
     "output_type": "error",
     "traceback": [
      "Error in len(new_df): could not find function \"len\"\nTraceback:\n"
     ]
    }
   ],
   "source": [
    "ncol(new_df) \n",
    "nrow(new_df)\n",
    "length(new_df) "
   ]
  },
  {
   "cell_type": "markdown",
   "id": "7ebed573",
   "metadata": {},
   "source": [
    "**Combining two DataFrames**"
   ]
  },
  {
   "cell_type": "code",
   "execution_count": 44,
   "id": "e628ea66",
   "metadata": {},
   "outputs": [
    {
     "data": {
      "text/html": [
       "<table class=\"dataframe\">\n",
       "<caption>A data.frame: 6 × 3</caption>\n",
       "<thead>\n",
       "\t<tr><th scope=col>Training</th><th scope=col>Pulse</th><th scope=col>Duration</th></tr>\n",
       "\t<tr><th scope=col>&lt;chr&gt;</th><th scope=col>&lt;dbl&gt;</th><th scope=col>&lt;dbl&gt;</th></tr>\n",
       "</thead>\n",
       "<tbody>\n",
       "\t<tr><td>Strength</td><td>100</td><td>60</td></tr>\n",
       "\t<tr><td>Stamina </td><td>150</td><td>30</td></tr>\n",
       "\t<tr><td>Other   </td><td>120</td><td>45</td></tr>\n",
       "\t<tr><td>Stamina </td><td>140</td><td>30</td></tr>\n",
       "\t<tr><td>Stamina </td><td>150</td><td>30</td></tr>\n",
       "\t<tr><td>Strength</td><td>160</td><td>20</td></tr>\n",
       "</tbody>\n",
       "</table>\n"
      ],
      "text/latex": [
       "A data.frame: 6 × 3\n",
       "\\begin{tabular}{lll}\n",
       " Training & Pulse & Duration\\\\\n",
       " <chr> & <dbl> & <dbl>\\\\\n",
       "\\hline\n",
       "\t Strength & 100 & 60\\\\\n",
       "\t Stamina  & 150 & 30\\\\\n",
       "\t Other    & 120 & 45\\\\\n",
       "\t Stamina  & 140 & 30\\\\\n",
       "\t Stamina  & 150 & 30\\\\\n",
       "\t Strength & 160 & 20\\\\\n",
       "\\end{tabular}\n"
      ],
      "text/markdown": [
       "\n",
       "A data.frame: 6 × 3\n",
       "\n",
       "| Training &lt;chr&gt; | Pulse &lt;dbl&gt; | Duration &lt;dbl&gt; |\n",
       "|---|---|---|\n",
       "| Strength | 100 | 60 |\n",
       "| Stamina  | 150 | 30 |\n",
       "| Other    | 120 | 45 |\n",
       "| Stamina  | 140 | 30 |\n",
       "| Stamina  | 150 | 30 |\n",
       "| Strength | 160 | 20 |\n",
       "\n"
      ],
      "text/plain": [
       "  Training Pulse Duration\n",
       "1 Strength 100   60      \n",
       "2 Stamina  150   30      \n",
       "3 Other    120   45      \n",
       "4 Stamina  140   30      \n",
       "5 Stamina  150   30      \n",
       "6 Strength 160   20      "
      ]
     },
     "metadata": {},
     "output_type": "display_data"
    }
   ],
   "source": [
    "Data_Frame1 <- data.frame (\n",
    "  Training = c(\"Strength\", \"Stamina\", \"Other\"),\n",
    "  Pulse = c(100, 150, 120),\n",
    "  Duration = c(60, 30, 45)\n",
    ")\n",
    "\n",
    "Data_Frame2 <- data.frame (\n",
    "  Training = c(\"Stamina\", \"Stamina\", \"Strength\"),\n",
    "  Pulse = c(140, 150, 160),\n",
    "  Duration = c(30, 30, 20)\n",
    ")\n",
    "\n",
    "New_Data_Frame <- rbind(Data_Frame1, Data_Frame2)\n",
    "New_Data_Frame"
   ]
  },
  {
   "cell_type": "markdown",
   "id": "12b74d4d",
   "metadata": {},
   "source": [
    "And use the cbind() function to combine two or more data frames in R horizontally:"
   ]
  },
  {
   "cell_type": "code",
   "execution_count": 45,
   "id": "29388202",
   "metadata": {},
   "outputs": [
    {
     "data": {
      "text/html": [
       "<table class=\"dataframe\">\n",
       "<caption>A data.frame: 3 × 5</caption>\n",
       "<thead>\n",
       "\t<tr><th scope=col>Training</th><th scope=col>Pulse</th><th scope=col>Duration</th><th scope=col>Steps</th><th scope=col>Calories</th></tr>\n",
       "\t<tr><th scope=col>&lt;chr&gt;</th><th scope=col>&lt;dbl&gt;</th><th scope=col>&lt;dbl&gt;</th><th scope=col>&lt;dbl&gt;</th><th scope=col>&lt;dbl&gt;</th></tr>\n",
       "</thead>\n",
       "<tbody>\n",
       "\t<tr><td>Strength</td><td>100</td><td>60</td><td>3000</td><td>300</td></tr>\n",
       "\t<tr><td>Stamina </td><td>150</td><td>30</td><td>6000</td><td>400</td></tr>\n",
       "\t<tr><td>Other   </td><td>120</td><td>45</td><td>2000</td><td>300</td></tr>\n",
       "</tbody>\n",
       "</table>\n"
      ],
      "text/latex": [
       "A data.frame: 3 × 5\n",
       "\\begin{tabular}{lllll}\n",
       " Training & Pulse & Duration & Steps & Calories\\\\\n",
       " <chr> & <dbl> & <dbl> & <dbl> & <dbl>\\\\\n",
       "\\hline\n",
       "\t Strength & 100 & 60 & 3000 & 300\\\\\n",
       "\t Stamina  & 150 & 30 & 6000 & 400\\\\\n",
       "\t Other    & 120 & 45 & 2000 & 300\\\\\n",
       "\\end{tabular}\n"
      ],
      "text/markdown": [
       "\n",
       "A data.frame: 3 × 5\n",
       "\n",
       "| Training &lt;chr&gt; | Pulse &lt;dbl&gt; | Duration &lt;dbl&gt; | Steps &lt;dbl&gt; | Calories &lt;dbl&gt; |\n",
       "|---|---|---|---|---|\n",
       "| Strength | 100 | 60 | 3000 | 300 |\n",
       "| Stamina  | 150 | 30 | 6000 | 400 |\n",
       "| Other    | 120 | 45 | 2000 | 300 |\n",
       "\n"
      ],
      "text/plain": [
       "  Training Pulse Duration Steps Calories\n",
       "1 Strength 100   60       3000  300     \n",
       "2 Stamina  150   30       6000  400     \n",
       "3 Other    120   45       2000  300     "
      ]
     },
     "metadata": {},
     "output_type": "display_data"
    }
   ],
   "source": [
    "Data_Frame3 <- data.frame (\n",
    "  Training = c(\"Strength\", \"Stamina\", \"Other\"),\n",
    "  Pulse = c(100, 150, 120),\n",
    "  Duration = c(60, 30, 45)\n",
    ")\n",
    "\n",
    "Data_Frame4 <- data.frame (\n",
    "  Steps = c(3000, 6000, 2000),\n",
    "  Calories = c(300, 400, 300)\n",
    ")\n",
    "\n",
    "New_Data_Frame1 <- cbind(Data_Frame3, Data_Frame4)\n",
    "New_Data_Frame1"
   ]
  },
  {
   "cell_type": "markdown",
   "id": "e77d1d1b",
   "metadata": {},
   "source": [
    "Factors\n",
    "Factors are used to categorize data. Examples of factors are:\n",
    "\n",
    "- Demography: Male/Female\n",
    "- Music: Rock, Pop, Classic, Jazz\n",
    "- Training: Strength, Stamina\n",
    "\n",
    "To create a factor, use the factor() function and add a vector as argument:- "
   ]
  },
  {
   "cell_type": "markdown",
   "id": "17af7193",
   "metadata": {},
   "source": [
    "## R Graphics"
   ]
  },
  {
   "cell_type": "code",
   "execution_count": 49,
   "id": "13ed8cc4",
   "metadata": {},
   "outputs": [
    {
     "data": {
      "image/png": "[encoded data removed]",
      "text/plain": [
       "plot without title"
      ]
     },
     "metadata": {
      "image/png": {
       "height": 420,
       "width": 420
      }
     },
     "output_type": "display_data"
    }
   ],
   "source": [
    "plot(1:5,3:7)"
   ]
  },
  {
   "cell_type": "code",
   "execution_count": 50,
   "id": "88043744",
   "metadata": {},
   "outputs": [
    {
     "data": {
      "image/png": "[encoded data removed]",
      "text/plain": [
       "plot without title"
      ]
     },
     "metadata": {
      "image/png": {
       "height": 420,
       "width": 420
      }
     },
     "output_type": "display_data"
    }
   ],
   "source": [
    "plot(c(1,8) , c(3,10))"
   ]
  },
  {
   "cell_type": "code",
   "execution_count": 54,
   "id": "9a9c0b2b",
   "metadata": {},
   "outputs": [
    {
     "data": {
      "image/png": "[encoded data removed]",
      "text/plain": [
       "plot without title"
      ]
     },
     "metadata": {
      "image/png": {
       "height": 420,
       "width": 420
      }
     },
     "output_type": "display_data"
    }
   ],
   "source": [
    "plot(1:10, type=\"l\" , col = \"red\" , cex= 2)"
   ]
  },
  {
   "cell_type": "code",
   "execution_count": 52,
   "id": "81ef7360",
   "metadata": {},
   "outputs": [
    {
     "data": {
      "image/png": "[encoded data removed]",
      "text/plain": [
       "Plot with title \"My Graph\""
      ]
     },
     "metadata": {
      "image/png": {
       "height": 420,
       "width": 420
      }
     },
     "output_type": "display_data"
    }
   ],
   "source": [
    "plot(1:10, main=\"My Graph\", xlab=\"The x-axis\", ylab=\"The y axis\")"
   ]
  },
  {
   "cell_type": "code",
   "execution_count": 57,
   "id": "2775fa5e",
   "metadata": {},
   "outputs": [
    {
     "data": {
      "image/png": "[encoded data removed]",
      "text/plain": [
       "plot without title"
      ]
     },
     "metadata": {
      "image/png": {
       "height": 420,
       "width": 420
      }
     },
     "output_type": "display_data"
    }
   ],
   "source": [
    "plot(1:10, type=\"l\", col=\"blue\" ,lwd = 5)"
   ]
  },
  {
   "cell_type": "code",
   "execution_count": 59,
   "id": "6a06e589",
   "metadata": {},
   "outputs": [
    {
     "data": {
      "image/png": "[encoded data removed]",
      "text/plain": [
       "plot without title"
      ]
     },
     "metadata": {
      "image/png": {
       "height": 420,
       "width": 420
      }
     },
     "output_type": "display_data"
    }
   ],
   "source": [
    "line1 <- c(1,2,3,4,5,10)\n",
    "line2 <- c(2,5,7,8,9,10)\n",
    "\n",
    "plot(line1, type = \"l\", col = \"blue\" , lwd =5)\n",
    "lines(line2, type=\"l\", col = \"red\"  , lwd =10)"
   ]
  },
  {
   "cell_type": "code",
   "execution_count": 60,
   "id": "6cbd090e",
   "metadata": {},
   "outputs": [
    {
     "data": {
      "image/png": "[encoded data removed]",
      "text/plain": [
       "Plot with title \"Observation of Cars\""
      ]
     },
     "metadata": {
      "image/png": {
       "height": 420,
       "width": 420
      }
     },
     "output_type": "display_data"
    }
   ],
   "source": [
    "# day one, the age and speed of 12 cars:\n",
    "x1 <- c(5,7,8,7,2,2,9,4,11,12,9,6)\n",
    "y1 <- c(99,86,87,88,111,103,87,94,78,77,85,86)\n",
    "\n",
    "# day two, the age and speed of 15 cars:\n",
    "x2 <- c(2,2,8,1,15,8,12,9,7,3,11,4,7,14,12)\n",
    "y2 <- c(100,105,84,105,90,99,90,95,94,100,79,112,91,80,85)\n",
    "\n",
    "plot(x1, y1, main=\"Observation of Cars\", xlab=\"Car age\", ylab=\"Car speed\", col=\"red\", cex=2)\n",
    "points(x2, y2, col=\"blue\", cex=2)"
   ]
  },
  {
   "cell_type": "code",
   "execution_count": 64,
   "id": "31dd789b",
   "metadata": {},
   "outputs": [
    {
     "data": {
      "image/png": "[encoded data removed]",
      "text/plain": [
       "Plot with title \"Fruits\""
      ]
     },
     "metadata": {
      "image/png": {
       "height": 420,
       "width": 420
      }
     },
     "output_type": "display_data"
    }
   ],
   "source": [
    "# Create a vector of pies\n",
    "x <- c(10,20,30,40)\n",
    "\n",
    "# Create a vector of labels\n",
    "mylabel <- c(\"Apples\", \"Bananas\", \"Cherries\", \"Dates\")\n",
    "colors <- c(\"blue\" , \"red\" , \"green\" , \"black\")\n",
    "# Display the pie chart with labels\n",
    "pie(x, label = mylabel, main = \"Fruits\" ,col=colors)\n",
    "legend(\"bottomright\", mylabel, fill = colors)"
   ]
  },
  {
   "cell_type": "markdown",
   "id": "9d27bdf1",
   "metadata": {},
   "source": [
    "The legend can be positioned as either:\n",
    "\n",
    "bottomright, bottom, bottomleft, left, topleft, top, topright, right, center\n",
    "\n"
   ]
  },
  {
   "cell_type": "code",
   "execution_count": 66,
   "id": "0db15dcb",
   "metadata": {},
   "outputs": [
    {
     "data": {
      "image/png": "[encoded data removed]",
      "text/plain": [
       "plot without title"
      ]
     },
     "metadata": {
      "image/png": {
       "height": 420,
       "width": 420
      }
     },
     "output_type": "display_data"
    }
   ],
   "source": [
    "x <- c(\"A\", \"B\", \"C\", \"D\")\n",
    "y <- c(2, 4, 6, 8)\n",
    "\n",
    "barplot(y, names.arg = x, col = \"red\" ,width = c(1,2,3,4))"
   ]
  },
  {
   "cell_type": "code",
   "execution_count": 68,
   "id": "26a840e8",
   "metadata": {},
   "outputs": [
    {
     "data": {
      "image/png": "[encoded data removed]",
      "text/plain": [
       "plot without title"
      ]
     },
     "metadata": {
      "image/png": {
       "height": 420,
       "width": 420
      }
     },
     "output_type": "display_data"
    }
   ],
   "source": [
    "barplot(y, names.arg = x, horiz = TRUE , col= colors)"
   ]
  },
  {
   "cell_type": "markdown",
   "id": "93531bda",
   "metadata": {},
   "source": [
    "## R Statistics"
   ]
  },
  {
   "cell_type": "markdown",
   "id": "aae5edf4",
   "metadata": {},
   "source": [
    "**Data Set**\n",
    "\n",
    "A data set is a collection of data, often presented in a table.\n",
    "\n",
    "There is a popular built-in data set in R called \"mtcars\" (Motor Trend Car Road Tests), which is retrieved from the 1974 Motor Trend US Magazine."
   ]
  },
  {
   "cell_type": "code",
   "execution_count": 70,
   "id": "68381250",
   "metadata": {},
   "outputs": [
    {
     "data": {
      "text/html": [
       "<table class=\"dataframe\">\n",
       "<caption>A data.frame: 32 × 11</caption>\n",
       "<thead>\n",
       "\t<tr><th></th><th scope=col>mpg</th><th scope=col>cyl</th><th scope=col>disp</th><th scope=col>hp</th><th scope=col>drat</th><th scope=col>wt</th><th scope=col>qsec</th><th scope=col>vs</th><th scope=col>am</th><th scope=col>gear</th><th scope=col>carb</th></tr>\n",
       "\t<tr><th></th><th scope=col>&lt;dbl&gt;</th><th scope=col>&lt;dbl&gt;</th><th scope=col>&lt;dbl&gt;</th><th scope=col>&lt;dbl&gt;</th><th scope=col>&lt;dbl&gt;</th><th scope=col>&lt;dbl&gt;</th><th scope=col>&lt;dbl&gt;</th><th scope=col>&lt;dbl&gt;</th><th scope=col>&lt;dbl&gt;</th><th scope=col>&lt;dbl&gt;</th><th scope=col>&lt;dbl&gt;</th></tr>\n",
       "</thead>\n",
       "<tbody>\n",
       "\t<tr><th scope=row>Mazda RX4</th><td>21.0</td><td>6</td><td>160.0</td><td>110</td><td>3.90</td><td>2.620</td><td>16.46</td><td>0</td><td>1</td><td>4</td><td>4</td></tr>\n",
       "\t<tr><th scope=row>Mazda RX4 Wag</th><td>21.0</td><td>6</td><td>160.0</td><td>110</td><td>3.90</td><td>2.875</td><td>17.02</td><td>0</td><td>1</td><td>4</td><td>4</td></tr>\n",
       "\t<tr><th scope=row>Datsun 710</th><td>22.8</td><td>4</td><td>108.0</td><td> 93</td><td>3.85</td><td>2.320</td><td>18.61</td><td>1</td><td>1</td><td>4</td><td>1</td></tr>\n",
       "\t<tr><th scope=row>Hornet 4 Drive</th><td>21.4</td><td>6</td><td>258.0</td><td>110</td><td>3.08</td><td>3.215</td><td>19.44</td><td>1</td><td>0</td><td>3</td><td>1</td></tr>\n",
       "\t<tr><th scope=row>Hornet Sportabout</th><td>18.7</td><td>8</td><td>360.0</td><td>175</td><td>3.15</td><td>3.440</td><td>17.02</td><td>0</td><td>0</td><td>3</td><td>2</td></tr>\n",
       "\t<tr><th scope=row>Valiant</th><td>18.1</td><td>6</td><td>225.0</td><td>105</td><td>2.76</td><td>3.460</td><td>20.22</td><td>1</td><td>0</td><td>3</td><td>1</td></tr>\n",
       "\t<tr><th scope=row>Duster 360</th><td>14.3</td><td>8</td><td>360.0</td><td>245</td><td>3.21</td><td>3.570</td><td>15.84</td><td>0</td><td>0</td><td>3</td><td>4</td></tr>\n",
       "\t<tr><th scope=row>Merc 240D</th><td>24.4</td><td>4</td><td>146.7</td><td> 62</td><td>3.69</td><td>3.190</td><td>20.00</td><td>1</td><td>0</td><td>4</td><td>2</td></tr>\n",
       "\t<tr><th scope=row>Merc 230</th><td>22.8</td><td>4</td><td>140.8</td><td> 95</td><td>3.92</td><td>3.150</td><td>22.90</td><td>1</td><td>0</td><td>4</td><td>2</td></tr>\n",
       "\t<tr><th scope=row>Merc 280</th><td>19.2</td><td>6</td><td>167.6</td><td>123</td><td>3.92</td><td>3.440</td><td>18.30</td><td>1</td><td>0</td><td>4</td><td>4</td></tr>\n",
       "\t<tr><th scope=row>Merc 280C</th><td>17.8</td><td>6</td><td>167.6</td><td>123</td><td>3.92</td><td>3.440</td><td>18.90</td><td>1</td><td>0</td><td>4</td><td>4</td></tr>\n",
       "\t<tr><th scope=row>Merc 450SE</th><td>16.4</td><td>8</td><td>275.8</td><td>180</td><td>3.07</td><td>4.070</td><td>17.40</td><td>0</td><td>0</td><td>3</td><td>3</td></tr>\n",
       "\t<tr><th scope=row>Merc 450SL</th><td>17.3</td><td>8</td><td>275.8</td><td>180</td><td>3.07</td><td>3.730</td><td>17.60</td><td>0</td><td>0</td><td>3</td><td>3</td></tr>\n",
       "\t<tr><th scope=row>Merc 450SLC</th><td>15.2</td><td>8</td><td>275.8</td><td>180</td><td>3.07</td><td>3.780</td><td>18.00</td><td>0</td><td>0</td><td>3</td><td>3</td></tr>\n",
       "\t<tr><th scope=row>Cadillac Fleetwood</th><td>10.4</td><td>8</td><td>472.0</td><td>205</td><td>2.93</td><td>5.250</td><td>17.98</td><td>0</td><td>0</td><td>3</td><td>4</td></tr>\n",
       "\t<tr><th scope=row>Lincoln Continental</th><td>10.4</td><td>8</td><td>460.0</td><td>215</td><td>3.00</td><td>5.424</td><td>17.82</td><td>0</td><td>0</td><td>3</td><td>4</td></tr>\n",
       "\t<tr><th scope=row>Chrysler Imperial</th><td>14.7</td><td>8</td><td>440.0</td><td>230</td><td>3.23</td><td>5.345</td><td>17.42</td><td>0</td><td>0</td><td>3</td><td>4</td></tr>\n",
       "\t<tr><th scope=row>Fiat 128</th><td>32.4</td><td>4</td><td> 78.7</td><td> 66</td><td>4.08</td><td>2.200</td><td>19.47</td><td>1</td><td>1</td><td>4</td><td>1</td></tr>\n",
       "\t<tr><th scope=row>Honda Civic</th><td>30.4</td><td>4</td><td> 75.7</td><td> 52</td><td>4.93</td><td>1.615</td><td>18.52</td><td>1</td><td>1</td><td>4</td><td>2</td></tr>\n",
       "\t<tr><th scope=row>Toyota Corolla</th><td>33.9</td><td>4</td><td> 71.1</td><td> 65</td><td>4.22</td><td>1.835</td><td>19.90</td><td>1</td><td>1</td><td>4</td><td>1</td></tr>\n",
       "\t<tr><th scope=row>Toyota Corona</th><td>21.5</td><td>4</td><td>120.1</td><td> 97</td><td>3.70</td><td>2.465</td><td>20.01</td><td>1</td><td>0</td><td>3</td><td>1</td></tr>\n",
       "\t<tr><th scope=row>Dodge Challenger</th><td>15.5</td><td>8</td><td>318.0</td><td>150</td><td>2.76</td><td>3.520</td><td>16.87</td><td>0</td><td>0</td><td>3</td><td>2</td></tr>\n",
       "\t<tr><th scope=row>AMC Javelin</th><td>15.2</td><td>8</td><td>304.0</td><td>150</td><td>3.15</td><td>3.435</td><td>17.30</td><td>0</td><td>0</td><td>3</td><td>2</td></tr>\n",
       "\t<tr><th scope=row>Camaro Z28</th><td>13.3</td><td>8</td><td>350.0</td><td>245</td><td>3.73</td><td>3.840</td><td>15.41</td><td>0</td><td>0</td><td>3</td><td>4</td></tr>\n",
       "\t<tr><th scope=row>Pontiac Firebird</th><td>19.2</td><td>8</td><td>400.0</td><td>175</td><td>3.08</td><td>3.845</td><td>17.05</td><td>0</td><td>0</td><td>3</td><td>2</td></tr>\n",
       "\t<tr><th scope=row>Fiat X1-9</th><td>27.3</td><td>4</td><td> 79.0</td><td> 66</td><td>4.08</td><td>1.935</td><td>18.90</td><td>1</td><td>1</td><td>4</td><td>1</td></tr>\n",
       "\t<tr><th scope=row>Porsche 914-2</th><td>26.0</td><td>4</td><td>120.3</td><td> 91</td><td>4.43</td><td>2.140</td><td>16.70</td><td>0</td><td>1</td><td>5</td><td>2</td></tr>\n",
       "\t<tr><th scope=row>Lotus Europa</th><td>30.4</td><td>4</td><td> 95.1</td><td>113</td><td>3.77</td><td>1.513</td><td>16.90</td><td>1</td><td>1</td><td>5</td><td>2</td></tr>\n",
       "\t<tr><th scope=row>Ford Pantera L</th><td>15.8</td><td>8</td><td>351.0</td><td>264</td><td>4.22</td><td>3.170</td><td>14.50</td><td>0</td><td>1</td><td>5</td><td>4</td></tr>\n",
       "\t<tr><th scope=row>Ferrari Dino</th><td>19.7</td><td>6</td><td>145.0</td><td>175</td><td>3.62</td><td>2.770</td><td>15.50</td><td>0</td><td>1</td><td>5</td><td>6</td></tr>\n",
       "\t<tr><th scope=row>Maserati Bora</th><td>15.0</td><td>8</td><td>301.0</td><td>335</td><td>3.54</td><td>3.570</td><td>14.60</td><td>0</td><td>1</td><td>5</td><td>8</td></tr>\n",
       "\t<tr><th scope=row>Volvo 142E</th><td>21.4</td><td>4</td><td>121.0</td><td>109</td><td>4.11</td><td>2.780</td><td>18.60</td><td>1</td><td>1</td><td>4</td><td>2</td></tr>\n",
       "</tbody>\n",
       "</table>\n"
      ],
      "text/latex": [
       "A data.frame: 32 × 11\n",
       "\\begin{tabular}{r|lllllllllll}\n",
       "  & mpg & cyl & disp & hp & drat & wt & qsec & vs & am & gear & carb\\\\\n",
       "  & <dbl> & <dbl> & <dbl> & <dbl> & <dbl> & <dbl> & <dbl> & <dbl> & <dbl> & <dbl> & <dbl>\\\\\n",
       "\\hline\n",
       "\tMazda RX4 & 21.0 & 6 & 160.0 & 110 & 3.90 & 2.620 & 16.46 & 0 & 1 & 4 & 4\\\\\n",
       "\tMazda RX4 Wag & 21.0 & 6 & 160.0 & 110 & 3.90 & 2.875 & 17.02 & 0 & 1 & 4 & 4\\\\\n",
       "\tDatsun 710 & 22.8 & 4 & 108.0 &  93 & 3.85 & 2.320 & 18.61 & 1 & 1 & 4 & 1\\\\\n",
       "\tHornet 4 Drive & 21.4 & 6 & 258.0 & 110 & 3.08 & 3.215 & 19.44 & 1 & 0 & 3 & 1\\\\\n",
       "\tHornet Sportabout & 18.7 & 8 & 360.0 & 175 & 3.15 & 3.440 & 17.02 & 0 & 0 & 3 & 2\\\\\n",
       "\tValiant & 18.1 & 6 & 225.0 & 105 & 2.76 & 3.460 & 20.22 & 1 & 0 & 3 & 1\\\\\n",
       "\tDuster 360 & 14.3 & 8 & 360.0 & 245 & 3.21 & 3.570 & 15.84 & 0 & 0 & 3 & 4\\\\\n",
       "\tMerc 240D & 24.4 & 4 & 146.7 &  62 & 3.69 & 3.190 & 20.00 & 1 & 0 & 4 & 2\\\\\n",
       "\tMerc 230 & 22.8 & 4 & 140.8 &  95 & 3.92 & 3.150 & 22.90 & 1 & 0 & 4 & 2\\\\\n",
       "\tMerc 280 & 19.2 & 6 & 167.6 & 123 & 3.92 & 3.440 & 18.30 & 1 & 0 & 4 & 4\\\\\n",
       "\tMerc 280C & 17.8 & 6 & 167.6 & 123 & 3.92 & 3.440 & 18.90 & 1 & 0 & 4 & 4\\\\\n",
       "\tMerc 450SE & 16.4 & 8 & 275.8 & 180 & 3.07 & 4.070 & 17.40 & 0 & 0 & 3 & 3\\\\\n",
       "\tMerc 450SL & 17.3 & 8 & 275.8 & 180 & 3.07 & 3.730 & 17.60 & 0 & 0 & 3 & 3\\\\\n",
       "\tMerc 450SLC & 15.2 & 8 & 275.8 & 180 & 3.07 & 3.780 & 18.00 & 0 & 0 & 3 & 3\\\\\n",
       "\tCadillac Fleetwood & 10.4 & 8 & 472.0 & 205 & 2.93 & 5.250 & 17.98 & 0 & 0 & 3 & 4\\\\\n",
       "\tLincoln Continental & 10.4 & 8 & 460.0 & 215 & 3.00 & 5.424 & 17.82 & 0 & 0 & 3 & 4\\\\\n",
       "\tChrysler Imperial & 14.7 & 8 & 440.0 & 230 & 3.23 & 5.345 & 17.42 & 0 & 0 & 3 & 4\\\\\n",
       "\tFiat 128 & 32.4 & 4 &  78.7 &  66 & 4.08 & 2.200 & 19.47 & 1 & 1 & 4 & 1\\\\\n",
       "\tHonda Civic & 30.4 & 4 &  75.7 &  52 & 4.93 & 1.615 & 18.52 & 1 & 1 & 4 & 2\\\\\n",
       "\tToyota Corolla & 33.9 & 4 &  71.1 &  65 & 4.22 & 1.835 & 19.90 & 1 & 1 & 4 & 1\\\\\n",
       "\tToyota Corona & 21.5 & 4 & 120.1 &  97 & 3.70 & 2.465 & 20.01 & 1 & 0 & 3 & 1\\\\\n",
       "\tDodge Challenger & 15.5 & 8 & 318.0 & 150 & 2.76 & 3.520 & 16.87 & 0 & 0 & 3 & 2\\\\\n",
       "\tAMC Javelin & 15.2 & 8 & 304.0 & 150 & 3.15 & 3.435 & 17.30 & 0 & 0 & 3 & 2\\\\\n",
       "\tCamaro Z28 & 13.3 & 8 & 350.0 & 245 & 3.73 & 3.840 & 15.41 & 0 & 0 & 3 & 4\\\\\n",
       "\tPontiac Firebird & 19.2 & 8 & 400.0 & 175 & 3.08 & 3.845 & 17.05 & 0 & 0 & 3 & 2\\\\\n",
       "\tFiat X1-9 & 27.3 & 4 &  79.0 &  66 & 4.08 & 1.935 & 18.90 & 1 & 1 & 4 & 1\\\\\n",
       "\tPorsche 914-2 & 26.0 & 4 & 120.3 &  91 & 4.43 & 2.140 & 16.70 & 0 & 1 & 5 & 2\\\\\n",
       "\tLotus Europa & 30.4 & 4 &  95.1 & 113 & 3.77 & 1.513 & 16.90 & 1 & 1 & 5 & 2\\\\\n",
       "\tFord Pantera L & 15.8 & 8 & 351.0 & 264 & 4.22 & 3.170 & 14.50 & 0 & 1 & 5 & 4\\\\\n",
       "\tFerrari Dino & 19.7 & 6 & 145.0 & 175 & 3.62 & 2.770 & 15.50 & 0 & 1 & 5 & 6\\\\\n",
       "\tMaserati Bora & 15.0 & 8 & 301.0 & 335 & 3.54 & 3.570 & 14.60 & 0 & 1 & 5 & 8\\\\\n",
       "\tVolvo 142E & 21.4 & 4 & 121.0 & 109 & 4.11 & 2.780 & 18.60 & 1 & 1 & 4 & 2\\\\\n",
       "\\end{tabular}\n"
      ],
      "text/markdown": [
       "\n",
       "A data.frame: 32 × 11\n",
       "\n",
       "| <!--/--> | mpg &lt;dbl&gt; | cyl &lt;dbl&gt; | disp &lt;dbl&gt; | hp &lt;dbl&gt; | drat &lt;dbl&gt; | wt &lt;dbl&gt; | qsec &lt;dbl&gt; | vs &lt;dbl&gt; | am &lt;dbl&gt; | gear &lt;dbl&gt; | carb &lt;dbl&gt; |\n",
       "|---|---|---|---|---|---|---|---|---|---|---|---|\n",
       "| Mazda RX4 | 21.0 | 6 | 160.0 | 110 | 3.90 | 2.620 | 16.46 | 0 | 1 | 4 | 4 |\n",
       "| Mazda RX4 Wag | 21.0 | 6 | 160.0 | 110 | 3.90 | 2.875 | 17.02 | 0 | 1 | 4 | 4 |\n",
       "| Datsun 710 | 22.8 | 4 | 108.0 |  93 | 3.85 | 2.320 | 18.61 | 1 | 1 | 4 | 1 |\n",
       "| Hornet 4 Drive | 21.4 | 6 | 258.0 | 110 | 3.08 | 3.215 | 19.44 | 1 | 0 | 3 | 1 |\n",
       "| Hornet Sportabout | 18.7 | 8 | 360.0 | 175 | 3.15 | 3.440 | 17.02 | 0 | 0 | 3 | 2 |\n",
       "| Valiant | 18.1 | 6 | 225.0 | 105 | 2.76 | 3.460 | 20.22 | 1 | 0 | 3 | 1 |\n",
       "| Duster 360 | 14.3 | 8 | 360.0 | 245 | 3.21 | 3.570 | 15.84 | 0 | 0 | 3 | 4 |\n",
       "| Merc 240D | 24.4 | 4 | 146.7 |  62 | 3.69 | 3.190 | 20.00 | 1 | 0 | 4 | 2 |\n",
       "| Merc 230 | 22.8 | 4 | 140.8 |  95 | 3.92 | 3.150 | 22.90 | 1 | 0 | 4 | 2 |\n",
       "| Merc 280 | 19.2 | 6 | 167.6 | 123 | 3.92 | 3.440 | 18.30 | 1 | 0 | 4 | 4 |\n",
       "| Merc 280C | 17.8 | 6 | 167.6 | 123 | 3.92 | 3.440 | 18.90 | 1 | 0 | 4 | 4 |\n",
       "| Merc 450SE | 16.4 | 8 | 275.8 | 180 | 3.07 | 4.070 | 17.40 | 0 | 0 | 3 | 3 |\n",
       "| Merc 450SL | 17.3 | 8 | 275.8 | 180 | 3.07 | 3.730 | 17.60 | 0 | 0 | 3 | 3 |\n",
       "| Merc 450SLC | 15.2 | 8 | 275.8 | 180 | 3.07 | 3.780 | 18.00 | 0 | 0 | 3 | 3 |\n",
       "| Cadillac Fleetwood | 10.4 | 8 | 472.0 | 205 | 2.93 | 5.250 | 17.98 | 0 | 0 | 3 | 4 |\n",
       "| Lincoln Continental | 10.4 | 8 | 460.0 | 215 | 3.00 | 5.424 | 17.82 | 0 | 0 | 3 | 4 |\n",
       "| Chrysler Imperial | 14.7 | 8 | 440.0 | 230 | 3.23 | 5.345 | 17.42 | 0 | 0 | 3 | 4 |\n",
       "| Fiat 128 | 32.4 | 4 |  78.7 |  66 | 4.08 | 2.200 | 19.47 | 1 | 1 | 4 | 1 |\n",
       "| Honda Civic | 30.4 | 4 |  75.7 |  52 | 4.93 | 1.615 | 18.52 | 1 | 1 | 4 | 2 |\n",
       "| Toyota Corolla | 33.9 | 4 |  71.1 |  65 | 4.22 | 1.835 | 19.90 | 1 | 1 | 4 | 1 |\n",
       "| Toyota Corona | 21.5 | 4 | 120.1 |  97 | 3.70 | 2.465 | 20.01 | 1 | 0 | 3 | 1 |\n",
       "| Dodge Challenger | 15.5 | 8 | 318.0 | 150 | 2.76 | 3.520 | 16.87 | 0 | 0 | 3 | 2 |\n",
       "| AMC Javelin | 15.2 | 8 | 304.0 | 150 | 3.15 | 3.435 | 17.30 | 0 | 0 | 3 | 2 |\n",
       "| Camaro Z28 | 13.3 | 8 | 350.0 | 245 | 3.73 | 3.840 | 15.41 | 0 | 0 | 3 | 4 |\n",
       "| Pontiac Firebird | 19.2 | 8 | 400.0 | 175 | 3.08 | 3.845 | 17.05 | 0 | 0 | 3 | 2 |\n",
       "| Fiat X1-9 | 27.3 | 4 |  79.0 |  66 | 4.08 | 1.935 | 18.90 | 1 | 1 | 4 | 1 |\n",
       "| Porsche 914-2 | 26.0 | 4 | 120.3 |  91 | 4.43 | 2.140 | 16.70 | 0 | 1 | 5 | 2 |\n",
       "| Lotus Europa | 30.4 | 4 |  95.1 | 113 | 3.77 | 1.513 | 16.90 | 1 | 1 | 5 | 2 |\n",
       "| Ford Pantera L | 15.8 | 8 | 351.0 | 264 | 4.22 | 3.170 | 14.50 | 0 | 1 | 5 | 4 |\n",
       "| Ferrari Dino | 19.7 | 6 | 145.0 | 175 | 3.62 | 2.770 | 15.50 | 0 | 1 | 5 | 6 |\n",
       "| Maserati Bora | 15.0 | 8 | 301.0 | 335 | 3.54 | 3.570 | 14.60 | 0 | 1 | 5 | 8 |\n",
       "| Volvo 142E | 21.4 | 4 | 121.0 | 109 | 4.11 | 2.780 | 18.60 | 1 | 1 | 4 | 2 |\n",
       "\n"
      ],
      "text/plain": [
       "                    mpg  cyl disp  hp  drat wt    qsec  vs am gear carb\n",
       "Mazda RX4           21.0 6   160.0 110 3.90 2.620 16.46 0  1  4    4   \n",
       "Mazda RX4 Wag       21.0 6   160.0 110 3.90 2.875 17.02 0  1  4    4   \n",
       "Datsun 710          22.8 4   108.0  93 3.85 2.320 18.61 1  1  4    1   \n",
       "Hornet 4 Drive      21.4 6   258.0 110 3.08 3.215 19.44 1  0  3    1   \n",
       "Hornet Sportabout   18.7 8   360.0 175 3.15 3.440 17.02 0  0  3    2   \n",
       "Valiant             18.1 6   225.0 105 2.76 3.460 20.22 1  0  3    1   \n",
       "Duster 360          14.3 8   360.0 245 3.21 3.570 15.84 0  0  3    4   \n",
       "Merc 240D           24.4 4   146.7  62 3.69 3.190 20.00 1  0  4    2   \n",
       "Merc 230            22.8 4   140.8  95 3.92 3.150 22.90 1  0  4    2   \n",
       "Merc 280            19.2 6   167.6 123 3.92 3.440 18.30 1  0  4    4   \n",
       "Merc 280C           17.8 6   167.6 123 3.92 3.440 18.90 1  0  4    4   \n",
       "Merc 450SE          16.4 8   275.8 180 3.07 4.070 17.40 0  0  3    3   \n",
       "Merc 450SL          17.3 8   275.8 180 3.07 3.730 17.60 0  0  3    3   \n",
       "Merc 450SLC         15.2 8   275.8 180 3.07 3.780 18.00 0  0  3    3   \n",
       "Cadillac Fleetwood  10.4 8   472.0 205 2.93 5.250 17.98 0  0  3    4   \n",
       "Lincoln Continental 10.4 8   460.0 215 3.00 5.424 17.82 0  0  3    4   \n",
       "Chrysler Imperial   14.7 8   440.0 230 3.23 5.345 17.42 0  0  3    4   \n",
       "Fiat 128            32.4 4    78.7  66 4.08 2.200 19.47 1  1  4    1   \n",
       "Honda Civic         30.4 4    75.7  52 4.93 1.615 18.52 1  1  4    2   \n",
       "Toyota Corolla      33.9 4    71.1  65 4.22 1.835 19.90 1  1  4    1   \n",
       "Toyota Corona       21.5 4   120.1  97 3.70 2.465 20.01 1  0  3    1   \n",
       "Dodge Challenger    15.5 8   318.0 150 2.76 3.520 16.87 0  0  3    2   \n",
       "AMC Javelin         15.2 8   304.0 150 3.15 3.435 17.30 0  0  3    2   \n",
       "Camaro Z28          13.3 8   350.0 245 3.73 3.840 15.41 0  0  3    4   \n",
       "Pontiac Firebird    19.2 8   400.0 175 3.08 3.845 17.05 0  0  3    2   \n",
       "Fiat X1-9           27.3 4    79.0  66 4.08 1.935 18.90 1  1  4    1   \n",
       "Porsche 914-2       26.0 4   120.3  91 4.43 2.140 16.70 0  1  5    2   \n",
       "Lotus Europa        30.4 4    95.1 113 3.77 1.513 16.90 1  1  5    2   \n",
       "Ford Pantera L      15.8 8   351.0 264 4.22 3.170 14.50 0  1  5    4   \n",
       "Ferrari Dino        19.7 6   145.0 175 3.62 2.770 15.50 0  1  5    6   \n",
       "Maserati Bora       15.0 8   301.0 335 3.54 3.570 14.60 0  1  5    8   \n",
       "Volvo 142E          21.4 4   121.0 109 4.11 2.780 18.60 1  1  4    2   "
      ]
     },
     "metadata": {},
     "output_type": "display_data"
    }
   ],
   "source": [
    "mtcars "
   ]
  },
  {
   "cell_type": "code",
   "execution_count": 71,
   "id": "9ebb74d9",
   "metadata": {},
   "outputs": [],
   "source": [
    "?mtcars "
   ]
  },
  {
   "cell_type": "code",
   "execution_count": 78,
   "id": "41c52ddb",
   "metadata": {},
   "outputs": [
    {
     "data": {
      "text/html": [
       "<style>\n",
       ".list-inline {list-style: none; margin:0; padding: 0}\n",
       ".list-inline>li {display: inline-block}\n",
       ".list-inline>li:not(:last-child)::after {content: \"\\00b7\"; padding: 0 .5ex}\n",
       "</style>\n",
       "<ol class=list-inline><li>32</li><li>11</li></ol>\n"
      ],
      "text/latex": [
       "\\begin{enumerate*}\n",
       "\\item 32\n",
       "\\item 11\n",
       "\\end{enumerate*}\n"
      ],
      "text/markdown": [
       "1. 32\n",
       "2. 11\n",
       "\n",
       "\n"
      ],
      "text/plain": [
       "[1] 32 11"
      ]
     },
     "metadata": {},
     "output_type": "display_data"
    },
    {
     "data": {
      "text/html": [
       "<style>\n",
       ".list-inline {list-style: none; margin:0; padding: 0}\n",
       ".list-inline>li {display: inline-block}\n",
       ".list-inline>li:not(:last-child)::after {content: \"\\00b7\"; padding: 0 .5ex}\n",
       "</style>\n",
       "<ol class=list-inline><li>'mpg'</li><li>'cyl'</li><li>'disp'</li><li>'hp'</li><li>'drat'</li><li>'wt'</li><li>'qsec'</li><li>'vs'</li><li>'am'</li><li>'gear'</li><li>'carb'</li></ol>\n"
      ],
      "text/latex": [
       "\\begin{enumerate*}\n",
       "\\item 'mpg'\n",
       "\\item 'cyl'\n",
       "\\item 'disp'\n",
       "\\item 'hp'\n",
       "\\item 'drat'\n",
       "\\item 'wt'\n",
       "\\item 'qsec'\n",
       "\\item 'vs'\n",
       "\\item 'am'\n",
       "\\item 'gear'\n",
       "\\item 'carb'\n",
       "\\end{enumerate*}\n"
      ],
      "text/markdown": [
       "1. 'mpg'\n",
       "2. 'cyl'\n",
       "3. 'disp'\n",
       "4. 'hp'\n",
       "5. 'drat'\n",
       "6. 'wt'\n",
       "7. 'qsec'\n",
       "8. 'vs'\n",
       "9. 'am'\n",
       "10. 'gear'\n",
       "11. 'carb'\n",
       "\n",
       "\n"
      ],
      "text/plain": [
       " [1] \"mpg\"  \"cyl\"  \"disp\" \"hp\"   \"drat\" \"wt\"   \"qsec\" \"vs\"   \"am\"   \"gear\"\n",
       "[11] \"carb\""
      ]
     },
     "metadata": {},
     "output_type": "display_data"
    }
   ],
   "source": [
    "df_car <- mtcars \n",
    "dim(df_car) \n",
    "names(df_car)"
   ]
  },
  {
   "cell_type": "code",
   "execution_count": 81,
   "id": "2c8df312",
   "metadata": {},
   "outputs": [
    {
     "data": {
      "text/html": [
       "<style>\n",
       ".list-inline {list-style: none; margin:0; padding: 0}\n",
       ".list-inline>li {display: inline-block}\n",
       ".list-inline>li:not(:last-child)::after {content: \"\\00b7\"; padding: 0 .5ex}\n",
       "</style>\n",
       "<ol class=list-inline><li>'Mazda RX4'</li><li>'Mazda RX4 Wag'</li><li>'Datsun 710'</li><li>'Hornet 4 Drive'</li><li>'Hornet Sportabout'</li><li>'Valiant'</li><li>'Duster 360'</li><li>'Merc 240D'</li><li>'Merc 230'</li><li>'Merc 280'</li><li>'Merc 280C'</li><li>'Merc 450SE'</li><li>'Merc 450SL'</li><li>'Merc 450SLC'</li><li>'Cadillac Fleetwood'</li><li>'Lincoln Continental'</li><li>'Chrysler Imperial'</li><li>'Fiat 128'</li><li>'Honda Civic'</li><li>'Toyota Corolla'</li><li>'Toyota Corona'</li><li>'Dodge Challenger'</li><li>'AMC Javelin'</li><li>'Camaro Z28'</li><li>'Pontiac Firebird'</li><li>'Fiat X1-9'</li><li>'Porsche 914-2'</li><li>'Lotus Europa'</li><li>'Ford Pantera L'</li><li>'Ferrari Dino'</li><li>'Maserati Bora'</li><li>'Volvo 142E'</li></ol>\n"
      ],
      "text/latex": [
       "\\begin{enumerate*}\n",
       "\\item 'Mazda RX4'\n",
       "\\item 'Mazda RX4 Wag'\n",
       "\\item 'Datsun 710'\n",
       "\\item 'Hornet 4 Drive'\n",
       "\\item 'Hornet Sportabout'\n",
       "\\item 'Valiant'\n",
       "\\item 'Duster 360'\n",
       "\\item 'Merc 240D'\n",
       "\\item 'Merc 230'\n",
       "\\item 'Merc 280'\n",
       "\\item 'Merc 280C'\n",
       "\\item 'Merc 450SE'\n",
       "\\item 'Merc 450SL'\n",
       "\\item 'Merc 450SLC'\n",
       "\\item 'Cadillac Fleetwood'\n",
       "\\item 'Lincoln Continental'\n",
       "\\item 'Chrysler Imperial'\n",
       "\\item 'Fiat 128'\n",
       "\\item 'Honda Civic'\n",
       "\\item 'Toyota Corolla'\n",
       "\\item 'Toyota Corona'\n",
       "\\item 'Dodge Challenger'\n",
       "\\item 'AMC Javelin'\n",
       "\\item 'Camaro Z28'\n",
       "\\item 'Pontiac Firebird'\n",
       "\\item 'Fiat X1-9'\n",
       "\\item 'Porsche 914-2'\n",
       "\\item 'Lotus Europa'\n",
       "\\item 'Ford Pantera L'\n",
       "\\item 'Ferrari Dino'\n",
       "\\item 'Maserati Bora'\n",
       "\\item 'Volvo 142E'\n",
       "\\end{enumerate*}\n"
      ],
      "text/markdown": [
       "1. 'Mazda RX4'\n",
       "2. 'Mazda RX4 Wag'\n",
       "3. 'Datsun 710'\n",
       "4. 'Hornet 4 Drive'\n",
       "5. 'Hornet Sportabout'\n",
       "6. 'Valiant'\n",
       "7. 'Duster 360'\n",
       "8. 'Merc 240D'\n",
       "9. 'Merc 230'\n",
       "10. 'Merc 280'\n",
       "11. 'Merc 280C'\n",
       "12. 'Merc 450SE'\n",
       "13. 'Merc 450SL'\n",
       "14. 'Merc 450SLC'\n",
       "15. 'Cadillac Fleetwood'\n",
       "16. 'Lincoln Continental'\n",
       "17. 'Chrysler Imperial'\n",
       "18. 'Fiat 128'\n",
       "19. 'Honda Civic'\n",
       "20. 'Toyota Corolla'\n",
       "21. 'Toyota Corona'\n",
       "22. 'Dodge Challenger'\n",
       "23. 'AMC Javelin'\n",
       "24. 'Camaro Z28'\n",
       "25. 'Pontiac Firebird'\n",
       "26. 'Fiat X1-9'\n",
       "27. 'Porsche 914-2'\n",
       "28. 'Lotus Europa'\n",
       "29. 'Ford Pantera L'\n",
       "30. 'Ferrari Dino'\n",
       "31. 'Maserati Bora'\n",
       "32. 'Volvo 142E'\n",
       "\n",
       "\n"
      ],
      "text/plain": [
       " [1] \"Mazda RX4\"           \"Mazda RX4 Wag\"       \"Datsun 710\"         \n",
       " [4] \"Hornet 4 Drive\"      \"Hornet Sportabout\"   \"Valiant\"            \n",
       " [7] \"Duster 360\"          \"Merc 240D\"           \"Merc 230\"           \n",
       "[10] \"Merc 280\"            \"Merc 280C\"           \"Merc 450SE\"         \n",
       "[13] \"Merc 450SL\"          \"Merc 450SLC\"         \"Cadillac Fleetwood\" \n",
       "[16] \"Lincoln Continental\" \"Chrysler Imperial\"   \"Fiat 128\"           \n",
       "[19] \"Honda Civic\"         \"Toyota Corolla\"      \"Toyota Corona\"      \n",
       "[22] \"Dodge Challenger\"    \"AMC Javelin\"         \"Camaro Z28\"         \n",
       "[25] \"Pontiac Firebird\"    \"Fiat X1-9\"           \"Porsche 914-2\"      \n",
       "[28] \"Lotus Europa\"        \"Ford Pantera L\"      \"Ferrari Dino\"       \n",
       "[31] \"Maserati Bora\"       \"Volvo 142E\"         "
      ]
     },
     "metadata": {},
     "output_type": "display_data"
    }
   ],
   "source": [
    "#index\n",
    "rownames(df_car)"
   ]
  },
  {
   "cell_type": "code",
   "execution_count": 90,
   "id": "7654e774",
   "metadata": {},
   "outputs": [
    {
     "data": {
      "text/html": [
       "<table class=\"dataframe\">\n",
       "<caption>A data.frame: 32 × 1</caption>\n",
       "<thead>\n",
       "\t<tr><th></th><th scope=col>cyl</th></tr>\n",
       "\t<tr><th></th><th scope=col>&lt;dbl&gt;</th></tr>\n",
       "</thead>\n",
       "<tbody>\n",
       "\t<tr><th scope=row>Mazda RX4</th><td>6</td></tr>\n",
       "\t<tr><th scope=row>Mazda RX4 Wag</th><td>6</td></tr>\n",
       "\t<tr><th scope=row>Datsun 710</th><td>4</td></tr>\n",
       "\t<tr><th scope=row>Hornet 4 Drive</th><td>6</td></tr>\n",
       "\t<tr><th scope=row>Hornet Sportabout</th><td>8</td></tr>\n",
       "\t<tr><th scope=row>Valiant</th><td>6</td></tr>\n",
       "\t<tr><th scope=row>Duster 360</th><td>8</td></tr>\n",
       "\t<tr><th scope=row>Merc 240D</th><td>4</td></tr>\n",
       "\t<tr><th scope=row>Merc 230</th><td>4</td></tr>\n",
       "\t<tr><th scope=row>Merc 280</th><td>6</td></tr>\n",
       "\t<tr><th scope=row>Merc 280C</th><td>6</td></tr>\n",
       "\t<tr><th scope=row>Merc 450SE</th><td>8</td></tr>\n",
       "\t<tr><th scope=row>Merc 450SL</th><td>8</td></tr>\n",
       "\t<tr><th scope=row>Merc 450SLC</th><td>8</td></tr>\n",
       "\t<tr><th scope=row>Cadillac Fleetwood</th><td>8</td></tr>\n",
       "\t<tr><th scope=row>Lincoln Continental</th><td>8</td></tr>\n",
       "\t<tr><th scope=row>Chrysler Imperial</th><td>8</td></tr>\n",
       "\t<tr><th scope=row>Fiat 128</th><td>4</td></tr>\n",
       "\t<tr><th scope=row>Honda Civic</th><td>4</td></tr>\n",
       "\t<tr><th scope=row>Toyota Corolla</th><td>4</td></tr>\n",
       "\t<tr><th scope=row>Toyota Corona</th><td>4</td></tr>\n",
       "\t<tr><th scope=row>Dodge Challenger</th><td>8</td></tr>\n",
       "\t<tr><th scope=row>AMC Javelin</th><td>8</td></tr>\n",
       "\t<tr><th scope=row>Camaro Z28</th><td>8</td></tr>\n",
       "\t<tr><th scope=row>Pontiac Firebird</th><td>8</td></tr>\n",
       "\t<tr><th scope=row>Fiat X1-9</th><td>4</td></tr>\n",
       "\t<tr><th scope=row>Porsche 914-2</th><td>4</td></tr>\n",
       "\t<tr><th scope=row>Lotus Europa</th><td>4</td></tr>\n",
       "\t<tr><th scope=row>Ford Pantera L</th><td>8</td></tr>\n",
       "\t<tr><th scope=row>Ferrari Dino</th><td>6</td></tr>\n",
       "\t<tr><th scope=row>Maserati Bora</th><td>8</td></tr>\n",
       "\t<tr><th scope=row>Volvo 142E</th><td>4</td></tr>\n",
       "</tbody>\n",
       "</table>\n"
      ],
      "text/latex": [
       "A data.frame: 32 × 1\n",
       "\\begin{tabular}{r|l}\n",
       "  & cyl\\\\\n",
       "  & <dbl>\\\\\n",
       "\\hline\n",
       "\tMazda RX4 & 6\\\\\n",
       "\tMazda RX4 Wag & 6\\\\\n",
       "\tDatsun 710 & 4\\\\\n",
       "\tHornet 4 Drive & 6\\\\\n",
       "\tHornet Sportabout & 8\\\\\n",
       "\tValiant & 6\\\\\n",
       "\tDuster 360 & 8\\\\\n",
       "\tMerc 240D & 4\\\\\n",
       "\tMerc 230 & 4\\\\\n",
       "\tMerc 280 & 6\\\\\n",
       "\tMerc 280C & 6\\\\\n",
       "\tMerc 450SE & 8\\\\\n",
       "\tMerc 450SL & 8\\\\\n",
       "\tMerc 450SLC & 8\\\\\n",
       "\tCadillac Fleetwood & 8\\\\\n",
       "\tLincoln Continental & 8\\\\\n",
       "\tChrysler Imperial & 8\\\\\n",
       "\tFiat 128 & 4\\\\\n",
       "\tHonda Civic & 4\\\\\n",
       "\tToyota Corolla & 4\\\\\n",
       "\tToyota Corona & 4\\\\\n",
       "\tDodge Challenger & 8\\\\\n",
       "\tAMC Javelin & 8\\\\\n",
       "\tCamaro Z28 & 8\\\\\n",
       "\tPontiac Firebird & 8\\\\\n",
       "\tFiat X1-9 & 4\\\\\n",
       "\tPorsche 914-2 & 4\\\\\n",
       "\tLotus Europa & 4\\\\\n",
       "\tFord Pantera L & 8\\\\\n",
       "\tFerrari Dino & 6\\\\\n",
       "\tMaserati Bora & 8\\\\\n",
       "\tVolvo 142E & 4\\\\\n",
       "\\end{tabular}\n"
      ],
      "text/markdown": [
       "\n",
       "A data.frame: 32 × 1\n",
       "\n",
       "| <!--/--> | cyl &lt;dbl&gt; |\n",
       "|---|---|\n",
       "| Mazda RX4 | 6 |\n",
       "| Mazda RX4 Wag | 6 |\n",
       "| Datsun 710 | 4 |\n",
       "| Hornet 4 Drive | 6 |\n",
       "| Hornet Sportabout | 8 |\n",
       "| Valiant | 6 |\n",
       "| Duster 360 | 8 |\n",
       "| Merc 240D | 4 |\n",
       "| Merc 230 | 4 |\n",
       "| Merc 280 | 6 |\n",
       "| Merc 280C | 6 |\n",
       "| Merc 450SE | 8 |\n",
       "| Merc 450SL | 8 |\n",
       "| Merc 450SLC | 8 |\n",
       "| Cadillac Fleetwood | 8 |\n",
       "| Lincoln Continental | 8 |\n",
       "| Chrysler Imperial | 8 |\n",
       "| Fiat 128 | 4 |\n",
       "| Honda Civic | 4 |\n",
       "| Toyota Corolla | 4 |\n",
       "| Toyota Corona | 4 |\n",
       "| Dodge Challenger | 8 |\n",
       "| AMC Javelin | 8 |\n",
       "| Camaro Z28 | 8 |\n",
       "| Pontiac Firebird | 8 |\n",
       "| Fiat X1-9 | 4 |\n",
       "| Porsche 914-2 | 4 |\n",
       "| Lotus Europa | 4 |\n",
       "| Ford Pantera L | 8 |\n",
       "| Ferrari Dino | 6 |\n",
       "| Maserati Bora | 8 |\n",
       "| Volvo 142E | 4 |\n",
       "\n"
      ],
      "text/plain": [
       "                    cyl\n",
       "Mazda RX4           6  \n",
       "Mazda RX4 Wag       6  \n",
       "Datsun 710          4  \n",
       "Hornet 4 Drive      6  \n",
       "Hornet Sportabout   8  \n",
       "Valiant             6  \n",
       "Duster 360          8  \n",
       "Merc 240D           4  \n",
       "Merc 230            4  \n",
       "Merc 280            6  \n",
       "Merc 280C           6  \n",
       "Merc 450SE          8  \n",
       "Merc 450SL          8  \n",
       "Merc 450SLC         8  \n",
       "Cadillac Fleetwood  8  \n",
       "Lincoln Continental 8  \n",
       "Chrysler Imperial   8  \n",
       "Fiat 128            4  \n",
       "Honda Civic         4  \n",
       "Toyota Corolla      4  \n",
       "Toyota Corona       4  \n",
       "Dodge Challenger    8  \n",
       "AMC Javelin         8  \n",
       "Camaro Z28          8  \n",
       "Pontiac Firebird    8  \n",
       "Fiat X1-9           4  \n",
       "Porsche 914-2       4  \n",
       "Lotus Europa        4  \n",
       "Ford Pantera L      8  \n",
       "Ferrari Dino        6  \n",
       "Maserati Bora       8  \n",
       "Volvo 142E          4  "
      ]
     },
     "metadata": {},
     "output_type": "display_data"
    }
   ],
   "source": [
    "df_car['cyl']"
   ]
  },
  {
   "cell_type": "code",
   "execution_count": 94,
   "id": "017dddde",
   "metadata": {},
   "outputs": [
    {
     "data": {
      "image/png": "[encoded data removed]",
      "text/plain": [
       "plot without title"
      ]
     },
     "metadata": {
      "image/png": {
       "height": 420,
       "width": 420
      }
     },
     "output_type": "display_data"
    }
   ],
   "source": [
    "barplot(sort(df_car$cyl) , col = 'red')"
   ]
  },
  {
   "cell_type": "code",
   "execution_count": 95,
   "id": "2fd2f35c",
   "metadata": {},
   "outputs": [
    {
     "data": {
      "text/plain": [
       "      mpg             cyl             disp             hp       \n",
       " Min.   :10.40   Min.   :4.000   Min.   : 71.1   Min.   : 52.0  \n",
       " 1st Qu.:15.43   1st Qu.:4.000   1st Qu.:120.8   1st Qu.: 96.5  \n",
       " Median :19.20   Median :6.000   Median :196.3   Median :123.0  \n",
       " Mean   :20.09   Mean   :6.188   Mean   :230.7   Mean   :146.7  \n",
       " 3rd Qu.:22.80   3rd Qu.:8.000   3rd Qu.:326.0   3rd Qu.:180.0  \n",
       " Max.   :33.90   Max.   :8.000   Max.   :472.0   Max.   :335.0  \n",
       "      drat             wt             qsec             vs        \n",
       " Min.   :2.760   Min.   :1.513   Min.   :14.50   Min.   :0.0000  \n",
       " 1st Qu.:3.080   1st Qu.:2.581   1st Qu.:16.89   1st Qu.:0.0000  \n",
       " Median :3.695   Median :3.325   Median :17.71   Median :0.0000  \n",
       " Mean   :3.597   Mean   :3.217   Mean   :17.85   Mean   :0.4375  \n",
       " 3rd Qu.:3.920   3rd Qu.:3.610   3rd Qu.:18.90   3rd Qu.:1.0000  \n",
       " Max.   :4.930   Max.   :5.424   Max.   :22.90   Max.   :1.0000  \n",
       "       am              gear            carb      \n",
       " Min.   :0.0000   Min.   :3.000   Min.   :1.000  \n",
       " 1st Qu.:0.0000   1st Qu.:3.000   1st Qu.:2.000  \n",
       " Median :0.0000   Median :4.000   Median :2.000  \n",
       " Mean   :0.4062   Mean   :3.688   Mean   :2.812  \n",
       " 3rd Qu.:1.0000   3rd Qu.:4.000   3rd Qu.:4.000  \n",
       " Max.   :1.0000   Max.   :5.000   Max.   :8.000  "
      ]
     },
     "metadata": {},
     "output_type": "display_data"
    }
   ],
   "source": [
    "summary(df_car)"
   ]
  },
  {
   "cell_type": "code",
   "execution_count": 97,
   "id": "6de89aa4",
   "metadata": {},
   "outputs": [
    {
     "data": {
      "text/html": [
       "335"
      ],
      "text/latex": [
       "335"
      ],
      "text/markdown": [
       "335"
      ],
      "text/plain": [
       "[1] 335"
      ]
     },
     "metadata": {},
     "output_type": "display_data"
    },
    {
     "data": {
      "text/html": [
       "52"
      ],
      "text/latex": [
       "52"
      ],
      "text/markdown": [
       "52"
      ],
      "text/plain": [
       "[1] 52"
      ]
     },
     "metadata": {},
     "output_type": "display_data"
    }
   ],
   "source": [
    "max(df_car$hp)\n",
    "min(df_car$hp)"
   ]
  },
  {
   "cell_type": "code",
   "execution_count": 101,
   "id": "28289de2",
   "metadata": {},
   "outputs": [
    {
     "data": {
      "text/html": [
       "'Maserati Bora'"
      ],
      "text/latex": [
       "'Maserati Bora'"
      ],
      "text/markdown": [
       "'Maserati Bora'"
      ],
      "text/plain": [
       "[1] \"Maserati Bora\""
      ]
     },
     "metadata": {},
     "output_type": "display_data"
    },
    {
     "data": {
      "text/html": [
       "'Honda Civic'"
      ],
      "text/latex": [
       "'Honda Civic'"
      ],
      "text/markdown": [
       "'Honda Civic'"
      ],
      "text/plain": [
       "[1] \"Honda Civic\""
      ]
     },
     "metadata": {},
     "output_type": "display_data"
    }
   ],
   "source": [
    "# Find which car have maximum horse powers\n",
    "\n",
    "rownames(df_car)[which.max(df_car$hp)]\n",
    "rownames(df_car)[which.min(df_car$hp)]"
   ]
  },
  {
   "cell_type": "code",
   "execution_count": null,
   "id": "01322e29",
   "metadata": {},
   "outputs": [],
   "source": []
  },
  {
   "cell_type": "code",
   "execution_count": 103,
   "id": "aa0808ea",
   "metadata": {},
   "outputs": [
    {
     "name": "stdout",
     "output_type": "stream",
     "text": [
      "[1] \"first data frame\"\n"
     ]
    },
    {
     "data": {
      "text/html": [
       "<table class=\"dataframe\">\n",
       "<caption>A data.frame: 3 × 3</caption>\n",
       "<thead>\n",
       "\t<tr><th scope=col>emp_id</th><th scope=col>emp_name</th><th scope=col>salary</th></tr>\n",
       "\t<tr><th scope=col>&lt;dbl&gt;</th><th scope=col>&lt;chr&gt;</th><th scope=col>&lt;chr&gt;</th></tr>\n",
       "</thead>\n",
       "<tbody>\n",
       "\t<tr><td>1</td><td>rakesh</td><td>$20</td></tr>\n",
       "\t<tr><td>2</td><td>sumit </td><td>$40</td></tr>\n",
       "\t<tr><td>3</td><td>bittu </td><td>$50</td></tr>\n",
       "</tbody>\n",
       "</table>\n"
      ],
      "text/latex": [
       "A data.frame: 3 × 3\n",
       "\\begin{tabular}{lll}\n",
       " emp\\_id & emp\\_name & salary\\\\\n",
       " <dbl> & <chr> & <chr>\\\\\n",
       "\\hline\n",
       "\t 1 & rakesh & \\$20\\\\\n",
       "\t 2 & sumit  & \\$40\\\\\n",
       "\t 3 & bittu  & \\$50\\\\\n",
       "\\end{tabular}\n"
      ],
      "text/markdown": [
       "\n",
       "A data.frame: 3 × 3\n",
       "\n",
       "| emp_id &lt;dbl&gt; | emp_name &lt;chr&gt; | salary &lt;chr&gt; |\n",
       "|---|---|---|\n",
       "| 1 | rakesh | $20 |\n",
       "| 2 | sumit  | $40 |\n",
       "| 3 | bittu  | $50 |\n",
       "\n"
      ],
      "text/plain": [
       "  emp_id emp_name salary\n",
       "1 1      rakesh   $20   \n",
       "2 2      sumit    $40   \n",
       "3 3      bittu    $50   "
      ]
     },
     "metadata": {},
     "output_type": "display_data"
    },
    {
     "name": "stdout",
     "output_type": "stream",
     "text": [
      "[1] \"second data frame\"\n"
     ]
    },
    {
     "data": {
      "text/html": [
       "<table class=\"dataframe\">\n",
       "<caption>A data.frame: 3 × 2</caption>\n",
       "<thead>\n",
       "\t<tr><th scope=col>emp_id</th><th scope=col>department</th></tr>\n",
       "\t<tr><th scope=col>&lt;dbl&gt;</th><th scope=col>&lt;chr&gt;</th></tr>\n",
       "</thead>\n",
       "<tbody>\n",
       "\t<tr><td>1</td><td>Data Science        </td></tr>\n",
       "\t<tr><td>2</td><td>HR                  </td></tr>\n",
       "\t<tr><td>4</td><td>Analytics consulting</td></tr>\n",
       "</tbody>\n",
       "</table>\n"
      ],
      "text/latex": [
       "A data.frame: 3 × 2\n",
       "\\begin{tabular}{ll}\n",
       " emp\\_id & department\\\\\n",
       " <dbl> & <chr>\\\\\n",
       "\\hline\n",
       "\t 1 & Data Science        \\\\\n",
       "\t 2 & HR                  \\\\\n",
       "\t 4 & Analytics consulting\\\\\n",
       "\\end{tabular}\n"
      ],
      "text/markdown": [
       "\n",
       "A data.frame: 3 × 2\n",
       "\n",
       "| emp_id &lt;dbl&gt; | department &lt;chr&gt; |\n",
       "|---|---|\n",
       "| 1 | Data Science         |\n",
       "| 2 | HR                   |\n",
       "| 4 | Analytics consulting |\n",
       "\n"
      ],
      "text/plain": [
       "  emp_id department          \n",
       "1 1      Data Science        \n",
       "2 2      HR                  \n",
       "3 4      Analytics consulting"
      ]
     },
     "metadata": {},
     "output_type": "display_data"
    }
   ],
   "source": [
    "df1 <- data.frame(\n",
    "    emp_id   = c(1,2,3) , \n",
    "    emp_name = c(\"rakesh\" , \"sumit\" , \"bittu\") , \n",
    "    salary = c(\"$20\" , \"$40\" ,\"$50\")\n",
    ")\n",
    "\n",
    "df2 <-data.frame(\n",
    "    emp_id = c(1,2,4) , \n",
    "    department = c(\"Data Science\" , \"HR\" , \"Analytics consulting\")\n",
    "\n",
    ")\n",
    "\n",
    "print(\"first data frame\")\n",
    "df1\n",
    "print(\"second data frame\")\n",
    "df2"
   ]
  },
  {
   "cell_type": "code",
   "execution_count": 104,
   "id": "5285f985",
   "metadata": {},
   "outputs": [
    {
     "data": {
      "text/html": [
       "<table class=\"dataframe\">\n",
       "<caption>A data.frame: 2 × 4</caption>\n",
       "<thead>\n",
       "\t<tr><th scope=col>emp_id</th><th scope=col>emp_name</th><th scope=col>salary</th><th scope=col>department</th></tr>\n",
       "\t<tr><th scope=col>&lt;dbl&gt;</th><th scope=col>&lt;chr&gt;</th><th scope=col>&lt;chr&gt;</th><th scope=col>&lt;chr&gt;</th></tr>\n",
       "</thead>\n",
       "<tbody>\n",
       "\t<tr><td>1</td><td>rakesh</td><td>$20</td><td>Data Science</td></tr>\n",
       "\t<tr><td>2</td><td>sumit </td><td>$40</td><td>HR          </td></tr>\n",
       "</tbody>\n",
       "</table>\n"
      ],
      "text/latex": [
       "A data.frame: 2 × 4\n",
       "\\begin{tabular}{llll}\n",
       " emp\\_id & emp\\_name & salary & department\\\\\n",
       " <dbl> & <chr> & <chr> & <chr>\\\\\n",
       "\\hline\n",
       "\t 1 & rakesh & \\$20 & Data Science\\\\\n",
       "\t 2 & sumit  & \\$40 & HR          \\\\\n",
       "\\end{tabular}\n"
      ],
      "text/markdown": [
       "\n",
       "A data.frame: 2 × 4\n",
       "\n",
       "| emp_id &lt;dbl&gt; | emp_name &lt;chr&gt; | salary &lt;chr&gt; | department &lt;chr&gt; |\n",
       "|---|---|---|---|\n",
       "| 1 | rakesh | $20 | Data Science |\n",
       "| 2 | sumit  | $40 | HR           |\n",
       "\n"
      ],
      "text/plain": [
       "  emp_id emp_name salary department  \n",
       "1 1      rakesh   $20    Data Science\n",
       "2 2      sumit    $40    HR          "
      ]
     },
     "metadata": {},
     "output_type": "display_data"
    }
   ],
   "source": [
    "merge(x = df1 , y = df2 , by = 'emp_id')"
   ]
  },
  {
   "cell_type": "markdown",
   "id": "9942b45d",
   "metadata": {},
   "source": [
    "**Reading csv file**"
   ]
  },
  {
   "cell_type": "code",
   "execution_count": 106,
   "id": "b710eeff",
   "metadata": {},
   "outputs": [
    {
     "name": "stdout",
     "output_type": "stream",
     "text": [
      "  id     name salary start_date       dept\n",
      "1  1     Rick 623.30 2012-01-01         IT\n",
      "2  2      Dan 515.20 2013-09-23 Operations\n",
      "3  3 Michelle 611.00 2014-11-15         IT\n",
      "4  4     Ryan 729.00 2014-05-11         HR\n",
      "5  5     Gary 843.25 2015-03-27    Finance\n",
      "6  6     Nina 578.00 2013-05-21         IT\n",
      "7  7    Simon 632.80 2013-07-30 Operations\n",
      "8  8     Guru 722.50 2014-06-17    Finance\n"
     ]
    }
   ],
   "source": [
    "data <- read.csv(\"input.csv\")\n",
    "print(data) "
   ]
  },
  {
   "cell_type": "code",
   "execution_count": 108,
   "id": "07627475",
   "metadata": {},
   "outputs": [
    {
     "name": "stdout",
     "output_type": "stream",
     "text": [
      "[1] TRUE\n",
      "[1] 5\n",
      "[1] 8\n"
     ]
    }
   ],
   "source": [
    "print(is.data.frame(data))\n",
    "print(ncol(data))\n",
    "print(nrow(data)) "
   ]
  },
  {
   "cell_type": "code",
   "execution_count": 112,
   "id": "51a7fe53",
   "metadata": {},
   "outputs": [
    {
     "data": {
      "text/html": [
       "843.25"
      ],
      "text/latex": [
       "843.25"
      ],
      "text/markdown": [
       "843.25"
      ],
      "text/plain": [
       "[1] 843.25"
      ]
     },
     "metadata": {},
     "output_type": "display_data"
    },
    {
     "data": {
      "text/html": [
       "<table class=\"dataframe\">\n",
       "<caption>A data.frame: 1 × 5</caption>\n",
       "<thead>\n",
       "\t<tr><th></th><th scope=col>id</th><th scope=col>name</th><th scope=col>salary</th><th scope=col>start_date</th><th scope=col>dept</th></tr>\n",
       "\t<tr><th></th><th scope=col>&lt;int&gt;</th><th scope=col>&lt;chr&gt;</th><th scope=col>&lt;dbl&gt;</th><th scope=col>&lt;chr&gt;</th><th scope=col>&lt;chr&gt;</th></tr>\n",
       "</thead>\n",
       "<tbody>\n",
       "\t<tr><th scope=row>5</th><td>5</td><td>Gary</td><td>843.25</td><td>2015-03-27</td><td>Finance</td></tr>\n",
       "</tbody>\n",
       "</table>\n"
      ],
      "text/latex": [
       "A data.frame: 1 × 5\n",
       "\\begin{tabular}{r|lllll}\n",
       "  & id & name & salary & start\\_date & dept\\\\\n",
       "  & <int> & <chr> & <dbl> & <chr> & <chr>\\\\\n",
       "\\hline\n",
       "\t5 & 5 & Gary & 843.25 & 2015-03-27 & Finance\\\\\n",
       "\\end{tabular}\n"
      ],
      "text/markdown": [
       "\n",
       "A data.frame: 1 × 5\n",
       "\n",
       "| <!--/--> | id &lt;int&gt; | name &lt;chr&gt; | salary &lt;dbl&gt; | start_date &lt;chr&gt; | dept &lt;chr&gt; |\n",
       "|---|---|---|---|---|---|\n",
       "| 5 | 5 | Gary | 843.25 | 2015-03-27 | Finance |\n",
       "\n"
      ],
      "text/plain": [
       "  id name salary start_date dept   \n",
       "5 5  Gary 843.25 2015-03-27 Finance"
      ]
     },
     "metadata": {},
     "output_type": "display_data"
    }
   ],
   "source": [
    "# get the maximum salary and personal details who has max salary\n",
    "max(data$salary)\n",
    "subset(data , salary==max(salary))"
   ]
  },
  {
   "cell_type": "code",
   "execution_count": 115,
   "id": "fdd3aa65",
   "metadata": {},
   "outputs": [
    {
     "name": "stdout",
     "output_type": "stream",
     "text": [
      "  id     name salary start_date dept\n",
      "1  1     Rick  623.3 2012-01-01   IT\n",
      "3  3 Michelle  611.0 2014-11-15   IT\n"
     ]
    }
   ],
   "source": [
    "# Get all the people working in IT department\n",
    "print(subset(data , salary > 600 & dept ==\"IT\"))"
   ]
  },
  {
   "cell_type": "code",
   "execution_count": 119,
   "id": "285f7524",
   "metadata": {},
   "outputs": [
    {
     "data": {
      "text/html": [
       "<table class=\"dataframe\">\n",
       "<caption>A data.frame: 4 × 5</caption>\n",
       "<thead>\n",
       "\t<tr><th></th><th scope=col>id</th><th scope=col>name</th><th scope=col>salary</th><th scope=col>start_date</th><th scope=col>dept</th></tr>\n",
       "\t<tr><th></th><th scope=col>&lt;int&gt;</th><th scope=col>&lt;chr&gt;</th><th scope=col>&lt;dbl&gt;</th><th scope=col>&lt;chr&gt;</th><th scope=col>&lt;chr&gt;</th></tr>\n",
       "</thead>\n",
       "<tbody>\n",
       "\t<tr><th scope=row>3</th><td>3</td><td>Michelle</td><td>611.00</td><td>2014-11-15</td><td>IT     </td></tr>\n",
       "\t<tr><th scope=row>4</th><td>4</td><td>Ryan    </td><td>729.00</td><td>2014-05-11</td><td>HR     </td></tr>\n",
       "\t<tr><th scope=row>5</th><td>5</td><td>Gary    </td><td>843.25</td><td>2015-03-27</td><td>Finance</td></tr>\n",
       "\t<tr><th scope=row>8</th><td>8</td><td>Guru    </td><td>722.50</td><td>2014-06-17</td><td>Finance</td></tr>\n",
       "</tbody>\n",
       "</table>\n"
      ],
      "text/latex": [
       "A data.frame: 4 × 5\n",
       "\\begin{tabular}{r|lllll}\n",
       "  & id & name & salary & start\\_date & dept\\\\\n",
       "  & <int> & <chr> & <dbl> & <chr> & <chr>\\\\\n",
       "\\hline\n",
       "\t3 & 3 & Michelle & 611.00 & 2014-11-15 & IT     \\\\\n",
       "\t4 & 4 & Ryan     & 729.00 & 2014-05-11 & HR     \\\\\n",
       "\t5 & 5 & Gary     & 843.25 & 2015-03-27 & Finance\\\\\n",
       "\t8 & 8 & Guru     & 722.50 & 2014-06-17 & Finance\\\\\n",
       "\\end{tabular}\n"
      ],
      "text/markdown": [
       "\n",
       "A data.frame: 4 × 5\n",
       "\n",
       "| <!--/--> | id &lt;int&gt; | name &lt;chr&gt; | salary &lt;dbl&gt; | start_date &lt;chr&gt; | dept &lt;chr&gt; |\n",
       "|---|---|---|---|---|---|\n",
       "| 3 | 3 | Michelle | 611.00 | 2014-11-15 | IT      |\n",
       "| 4 | 4 | Ryan     | 729.00 | 2014-05-11 | HR      |\n",
       "| 5 | 5 | Gary     | 843.25 | 2015-03-27 | Finance |\n",
       "| 8 | 8 | Guru     | 722.50 | 2014-06-17 | Finance |\n",
       "\n"
      ],
      "text/plain": [
       "  id name     salary start_date dept   \n",
       "3 3  Michelle 611.00 2014-11-15 IT     \n",
       "4 4  Ryan     729.00 2014-05-11 HR     \n",
       "5 5  Gary     843.25 2015-03-27 Finance\n",
       "8 8  Guru     722.50 2014-06-17 Finance"
      ]
     },
     "metadata": {},
     "output_type": "display_data"
    }
   ],
   "source": [
    "# Get the people who joined on or after 2014\n",
    "ppl_2014 <- subset(data , as.Date(start_date)>as.Date(\"2014-01-01\"))\n",
    "ppl_2014"
   ]
  },
  {
   "cell_type": "code",
   "execution_count": 120,
   "id": "9e1cfbe1",
   "metadata": {},
   "outputs": [],
   "source": [
    "# Writing data in new output files\n",
    "write.csv(ppl_2014 , \"output.csv\")"
   ]
  },
  {
   "cell_type": "code",
   "execution_count": 121,
   "id": "37721d1e",
   "metadata": {},
   "outputs": [
    {
     "data": {
      "text/html": [
       "<table class=\"dataframe\">\n",
       "<caption>A data.frame: 4 × 6</caption>\n",
       "<thead>\n",
       "\t<tr><th scope=col>X</th><th scope=col>id</th><th scope=col>name</th><th scope=col>salary</th><th scope=col>start_date</th><th scope=col>dept</th></tr>\n",
       "\t<tr><th scope=col>&lt;int&gt;</th><th scope=col>&lt;int&gt;</th><th scope=col>&lt;chr&gt;</th><th scope=col>&lt;dbl&gt;</th><th scope=col>&lt;chr&gt;</th><th scope=col>&lt;chr&gt;</th></tr>\n",
       "</thead>\n",
       "<tbody>\n",
       "\t<tr><td>3</td><td>3</td><td>Michelle</td><td>611.00</td><td>2014-11-15</td><td>IT     </td></tr>\n",
       "\t<tr><td>4</td><td>4</td><td>Ryan    </td><td>729.00</td><td>2014-05-11</td><td>HR     </td></tr>\n",
       "\t<tr><td>5</td><td>5</td><td>Gary    </td><td>843.25</td><td>2015-03-27</td><td>Finance</td></tr>\n",
       "\t<tr><td>8</td><td>8</td><td>Guru    </td><td>722.50</td><td>2014-06-17</td><td>Finance</td></tr>\n",
       "</tbody>\n",
       "</table>\n"
      ],
      "text/latex": [
       "A data.frame: 4 × 6\n",
       "\\begin{tabular}{llllll}\n",
       " X & id & name & salary & start\\_date & dept\\\\\n",
       " <int> & <int> & <chr> & <dbl> & <chr> & <chr>\\\\\n",
       "\\hline\n",
       "\t 3 & 3 & Michelle & 611.00 & 2014-11-15 & IT     \\\\\n",
       "\t 4 & 4 & Ryan     & 729.00 & 2014-05-11 & HR     \\\\\n",
       "\t 5 & 5 & Gary     & 843.25 & 2015-03-27 & Finance\\\\\n",
       "\t 8 & 8 & Guru     & 722.50 & 2014-06-17 & Finance\\\\\n",
       "\\end{tabular}\n"
      ],
      "text/markdown": [
       "\n",
       "A data.frame: 4 × 6\n",
       "\n",
       "| X &lt;int&gt; | id &lt;int&gt; | name &lt;chr&gt; | salary &lt;dbl&gt; | start_date &lt;chr&gt; | dept &lt;chr&gt; |\n",
       "|---|---|---|---|---|---|\n",
       "| 3 | 3 | Michelle | 611.00 | 2014-11-15 | IT      |\n",
       "| 4 | 4 | Ryan     | 729.00 | 2014-05-11 | HR      |\n",
       "| 5 | 5 | Gary     | 843.25 | 2015-03-27 | Finance |\n",
       "| 8 | 8 | Guru     | 722.50 | 2014-06-17 | Finance |\n",
       "\n"
      ],
      "text/plain": [
       "  X id name     salary start_date dept   \n",
       "1 3 3  Michelle 611.00 2014-11-15 IT     \n",
       "2 4 4  Ryan     729.00 2014-05-11 HR     \n",
       "3 5 5  Gary     843.25 2015-03-27 Finance\n",
       "4 8 8  Guru     722.50 2014-06-17 Finance"
      ]
     },
     "metadata": {},
     "output_type": "display_data"
    }
   ],
   "source": [
    "read.csv(\"output.csv\")"
   ]
  },
  {
   "cell_type": "code",
   "execution_count": 122,
   "id": "a06f19be",
   "metadata": {},
   "outputs": [],
   "source": [
    "# Here the column X comes from the data set newper. This can be dropped using additional parameters while writing the file."
   ]
  },
  {
   "cell_type": "code",
   "execution_count": 123,
   "id": "ae777c08",
   "metadata": {},
   "outputs": [],
   "source": [
    "write.csv(ppl_2014 ,\"output.csv\" , row.names = FALSE) "
   ]
  },
  {
   "cell_type": "code",
   "execution_count": 124,
   "id": "29632745",
   "metadata": {},
   "outputs": [
    {
     "data": {
      "text/html": [
       "<table class=\"dataframe\">\n",
       "<caption>A data.frame: 4 × 5</caption>\n",
       "<thead>\n",
       "\t<tr><th scope=col>id</th><th scope=col>name</th><th scope=col>salary</th><th scope=col>start_date</th><th scope=col>dept</th></tr>\n",
       "\t<tr><th scope=col>&lt;int&gt;</th><th scope=col>&lt;chr&gt;</th><th scope=col>&lt;dbl&gt;</th><th scope=col>&lt;chr&gt;</th><th scope=col>&lt;chr&gt;</th></tr>\n",
       "</thead>\n",
       "<tbody>\n",
       "\t<tr><td>3</td><td>Michelle</td><td>611.00</td><td>2014-11-15</td><td>IT     </td></tr>\n",
       "\t<tr><td>4</td><td>Ryan    </td><td>729.00</td><td>2014-05-11</td><td>HR     </td></tr>\n",
       "\t<tr><td>5</td><td>Gary    </td><td>843.25</td><td>2015-03-27</td><td>Finance</td></tr>\n",
       "\t<tr><td>8</td><td>Guru    </td><td>722.50</td><td>2014-06-17</td><td>Finance</td></tr>\n",
       "</tbody>\n",
       "</table>\n"
      ],
      "text/latex": [
       "A data.frame: 4 × 5\n",
       "\\begin{tabular}{lllll}\n",
       " id & name & salary & start\\_date & dept\\\\\n",
       " <int> & <chr> & <dbl> & <chr> & <chr>\\\\\n",
       "\\hline\n",
       "\t 3 & Michelle & 611.00 & 2014-11-15 & IT     \\\\\n",
       "\t 4 & Ryan     & 729.00 & 2014-05-11 & HR     \\\\\n",
       "\t 5 & Gary     & 843.25 & 2015-03-27 & Finance\\\\\n",
       "\t 8 & Guru     & 722.50 & 2014-06-17 & Finance\\\\\n",
       "\\end{tabular}\n"
      ],
      "text/markdown": [
       "\n",
       "A data.frame: 4 × 5\n",
       "\n",
       "| id &lt;int&gt; | name &lt;chr&gt; | salary &lt;dbl&gt; | start_date &lt;chr&gt; | dept &lt;chr&gt; |\n",
       "|---|---|---|---|---|\n",
       "| 3 | Michelle | 611.00 | 2014-11-15 | IT      |\n",
       "| 4 | Ryan     | 729.00 | 2014-05-11 | HR      |\n",
       "| 5 | Gary     | 843.25 | 2015-03-27 | Finance |\n",
       "| 8 | Guru     | 722.50 | 2014-06-17 | Finance |\n",
       "\n"
      ],
      "text/plain": [
       "  id name     salary start_date dept   \n",
       "1 3  Michelle 611.00 2014-11-15 IT     \n",
       "2 4  Ryan     729.00 2014-05-11 HR     \n",
       "3 5  Gary     843.25 2015-03-27 Finance\n",
       "4 8  Guru     722.50 2014-06-17 Finance"
      ]
     },
     "metadata": {},
     "output_type": "display_data"
    }
   ],
   "source": [
    "read.csv(\"output.csv\")"
   ]
  },
  {
   "cell_type": "markdown",
   "id": "8ea9408a",
   "metadata": {},
   "source": [
    "**Excel files read**"
   ]
  },
  {
   "cell_type": "code",
   "execution_count": 131,
   "id": "3dea406a",
   "metadata": {},
   "outputs": [
    {
     "data": {
      "text/html": [
       "TRUE"
      ],
      "text/latex": [
       "TRUE"
      ],
      "text/markdown": [
       "TRUE"
      ],
      "text/plain": [
       "[1] TRUE"
      ]
     },
     "metadata": {},
     "output_type": "display_data"
    }
   ],
   "source": [
    "# Verify the package is installed.\n",
    "any(grepl(\"xlsx\",installed.packages()))"
   ]
  },
  {
   "cell_type": "code",
   "execution_count": 129,
   "id": "20e804a6",
   "metadata": {},
   "outputs": [
    {
     "name": "stderr",
     "output_type": "stream",
     "text": [
      "Installing package into 'C:/Users/rakesh.kumar/AppData/Local/R/win-library/4.2'\n",
      "(as 'lib' is unspecified)\n",
      "\n",
      "also installing the dependencies 'rJava', 'xlsxjars'\n",
      "\n",
      "\n"
     ]
    },
    {
     "name": "stdout",
     "output_type": "stream",
     "text": [
      "package 'rJava' successfully unpacked and MD5 sums checked\n",
      "package 'xlsxjars' successfully unpacked and MD5 sums checked\n",
      "package 'xlsx' successfully unpacked and MD5 sums checked\n",
      "\n",
      "The downloaded binary packages are in\n",
      "\tC:\\Users\\rakesh.kumar\\AppData\\Local\\Temp\\Rtmp21y5xD\\downloaded_packages\n"
     ]
    }
   ],
   "source": [
    "install.packages(\"xlsx\")"
   ]
  },
  {
   "cell_type": "code",
   "execution_count": 134,
   "id": "0681990c",
   "metadata": {},
   "outputs": [
    {
     "ename": "ERROR",
     "evalue": "Error: package or namespace load failed for 'xlsx':\n .onLoad failed in loadNamespace() for 'rJava', details:\n  call: fun(libname, pkgname)\n  error: JAVA_HOME cannot be determined from the Registry\n",
     "output_type": "error",
     "traceback": [
      "Error: package or namespace load failed for 'xlsx':\n .onLoad failed in loadNamespace() for 'rJava', details:\n  call: fun(libname, pkgname)\n  error: JAVA_HOME cannot be determined from the Registry\nTraceback:\n",
      "1. library(\"xlsx\")",
      "2. tryCatch({\n .     attr(package, \"LibPath\") <- which.lib.loc\n .     ns <- loadNamespace(package, lib.loc)\n .     env <- attachNamespace(ns, pos = pos, deps, exclude, include.only)\n . }, error = function(e) {\n .     P <- if (!is.null(cc <- conditionCall(e))) \n .         paste(\" in\", deparse(cc)[1L])\n .     else \"\"\n .     msg <- gettextf(\"package or namespace load failed for %s%s:\\n %s\", \n .         sQuote(package), P, conditionMessage(e))\n .     if (logical.return && !quietly) \n .         message(paste(\"Error:\", msg), domain = NA)\n .     else stop(msg, call. = FALSE, domain = NA)\n . })",
      "3. tryCatchList(expr, classes, parentenv, handlers)",
      "4. tryCatchOne(expr, names, parentenv, handlers[[1L]])",
      "5. value[[3L]](cond)",
      "6. stop(msg, call. = FALSE, domain = NA)"
     ]
    }
   ],
   "source": [
    "# Load the library into R workspace.\n",
    "library(\"xlsx\")"
   ]
  },
  {
   "cell_type": "code",
   "execution_count": 133,
   "id": "dcd745d2",
   "metadata": {},
   "outputs": [
    {
     "ename": "ERROR",
     "evalue": "Error in read.xlsx(\"input.xlsx\", sheetIndex = 1): could not find function \"read.xlsx\"\n",
     "output_type": "error",
     "traceback": [
      "Error in read.xlsx(\"input.xlsx\", sheetIndex = 1): could not find function \"read.xlsx\"\nTraceback:\n"
     ]
    }
   ],
   "source": [
    "read.xlsx(\"input.xlsx\", sheetIndex = 1)"
   ]
  },
  {
   "cell_type": "code",
   "execution_count": null,
   "id": "19dc604f",
   "metadata": {},
   "outputs": [],
   "source": []
  }
 ],
 "metadata": {
  "kernelspec": {
   "display_name": "R",
   "language": "R",
   "name": "ir"
  },
  "language_info": {
   "codemirror_mode": "r",
   "file_extension": ".r",
   "mimetype": "text/x-r-source",
   "name": "R",
   "pygments_lexer": "r",
   "version": "4.2.1"
  }
 },
 "nbformat": 4,
 "nbformat_minor": 5
}
