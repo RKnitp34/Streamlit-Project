{
 "cells": [
  {
   "cell_type": "markdown",
   "id": "bad8f4a0",
   "metadata": {},
   "source": [
    "# OOPS CONCEPT IN PYTHON"
   ]
  },
  {
   "cell_type": "markdown",
   "id": "c5075aa4",
   "metadata": {},
   "source": [
    "**What is Python Class And Object?**\n",
    "\n",
    "A class is a collection of objects, and an object is defined as an instance of a class possessing attributes. \n",
    "\n",
    "The object is an entity that has a state and behavior."
   ]
  },
  {
   "cell_type": "code",
   "execution_count": 1,
   "id": "05ac8022",
   "metadata": {},
   "outputs": [],
   "source": [
    "# Classes - Template\n",
    "# Object - Instance Of the Class\n",
    "\n",
    "# DRY - Do not repeat Yourself\n",
    "\n",
    "# get_no_of_films(table)"
   ]
  },
  {
   "cell_type": "code",
   "execution_count": 4,
   "id": "0e42df23",
   "metadata": {},
   "outputs": [
    {
     "name": "stdout",
     "output_type": "stream",
     "text": [
      "Rakesh 34 lpa\n"
     ]
    }
   ],
   "source": [
    "class Student:\n",
    "    '''This is a docstring'''\n",
    "    pass  \n",
    "o1 = Student()\n",
    "o2 = Student()\n",
    "\n",
    "o1.name = 'Rakesh'\n",
    "o1.ctc = 'lpa'\n",
    "o1.roll = 34 \n",
    "print(o1.name , o1.roll , o1.ctc) "
   ]
  },
  {
   "cell_type": "markdown",
   "id": "1ddba830",
   "metadata": {},
   "source": [
    "**Instance variable:**\n",
    "    \n",
    "\"Instance variables are the variables for which the value of the variable is different for every instance.\"\n",
    "\n",
    "**Class variable:** \n",
    "    \n",
    "\"Class attributes are owned by the class directly, which means that they are not tied to any object or instance.\"\n",
    "\n",
    "**The __dict__ attribute** \n",
    "\n",
    "Every object in Python has an attribute that is denoted by __dict__. It maps the attribute name to its value. This dictionary stores all the attributes\n",
    "\n",
    "`object.__dict__`"
   ]
  },
  {
   "cell_type": "code",
   "execution_count": 11,
   "id": "6b91b01d",
   "metadata": {},
   "outputs": [
    {
     "name": "stdout",
     "output_type": "stream",
     "text": [
      "8\n",
      "{'name': 'rohan', 'salary': 4554, 'role': 'Student'}\n",
      "{'name': 'rohan', 'salary': 4554, 'role': 'Student', 'no_of_leaves': 10}\n",
      "{'__module__': '__main__', 'no_of_leaves': 8, '__dict__': <attribute '__dict__' of 'Employee' objects>, '__weakref__': <attribute '__weakref__' of 'Employee' objects>, '__doc__': None}\n",
      "{'__module__': '__main__', 'no_of_leaves': 9, '__dict__': <attribute '__dict__' of 'Employee' objects>, '__weakref__': <attribute '__weakref__' of 'Employee' objects>, '__doc__': None}\n",
      "9\n"
     ]
    }
   ],
   "source": [
    "class Employee:\n",
    "    no_of_leaves = 8\n",
    "    pass\n",
    "\n",
    "harry = Employee()\n",
    "rohan = Employee()\n",
    "\n",
    "harry.name = \"harry\"\n",
    "harry.salary = 455\n",
    "harry.role = \"Instructor\"\n",
    "\n",
    "rohan.name = \"rohan\"\n",
    "rohan.salary = 4554\n",
    "rohan.role = \"Student\"\n",
    "\n",
    "print(Employee.no_of_leaves)\n",
    "print(rohan.__dict__) \n",
    "rohan.no_of_leaves = 10\n",
    "print(rohan.__dict__) \n",
    "print(Employee.__dict__)\n",
    "Employee.no_of_leaves = 9\n",
    "print(Employee.__dict__)\n",
    "print(Employee.no_of_leaves)\n"
   ]
  },
  {
   "cell_type": "markdown",
   "id": "e60d0cae",
   "metadata": {},
   "source": [
    "**Self keyword:**\n",
    "    \n",
    "The self keyword is used in the method to refer to the instance of the current class we are using. The self keyword is passed as a parameter explicitly every time we define a method."
   ]
  },
  {
   "cell_type": "code",
   "execution_count": 19,
   "id": "20b9167c",
   "metadata": {},
   "outputs": [
    {
     "name": "stdout",
     "output_type": "stream",
     "text": [
      "Student name is Rakesh , Roll 34 and Branch EE.\n"
     ]
    }
   ],
   "source": [
    "class Student():\n",
    "    def printdetalis(self):\n",
    "        return f'Student name is {self.name} , Roll {self.roll} and Branch {self.branch}.'\n",
    "\n",
    "    \n",
    "rakesh = Student()\n",
    "\n",
    "rakesh.name = \"Rakesh\"\n",
    "rakesh.roll = '34'\n",
    "rakesh.branch = 'EE'\n",
    "\n",
    "\n",
    "print(rakesh.printdetalis())"
   ]
  },
  {
   "cell_type": "markdown",
   "id": "6c28362b",
   "metadata": {},
   "source": [
    "**__ init __ method:-**\n",
    "    \n",
    "\"__ <b>init</b> __\" is also called a constructor in object-oriented terminology. Whereas a constructor is defined as:\n",
    "\n",
    "\"Constructor in Python is used to assign values to the variables or data members of a class when an object is created.\"\n",
    "\n",
    "or , \n",
    "the purpose of a constructor is to assign values to the instance variables of different objects."
   ]
  },
  {
   "cell_type": "markdown",
   "id": "78ee712f",
   "metadata": {},
   "source": [
    "def __init__(self):\n",
    "\n",
    "    # body of the constructor\n",
    "Here,\n",
    "\n",
    "- The def keyword is used to define the function.\n",
    "- The first argument refers to the current object which binds the instance to the init() method.\n",
    "- In init() method ,arguments are optional. Constructors can be defined with any number of arguments or with no arguments."
   ]
  },
  {
   "cell_type": "markdown",
   "id": "9289dd64",
   "metadata": {},
   "source": [
    "**cls**\n",
    "\n",
    "we cannot change the value of a variable defined in the class from outside using an object. Instead, if we try that, a new instance variable will be created for the class having the value we assigned. But no change will occur in the original value of the variable.\n"
   ]
  },
  {
   "cell_type": "markdown",
   "id": "7fe52f38",
   "metadata": {},
   "source": [
    "**Static**\n",
    "\n",
    "**There are few limitations related to static methods, such as:**\n",
    "\n",
    "- Unlike, class method, a static method cannot alter or change any variable value or state of the class.\n",
    "- mStatic methods do not have any knowledge related to the class.\n",
    "\n",
    "**Advantages of Python static method**\n",
    "\n",
    "Static methods have a very clear use case. When we need some functionality not for an Object but with the complete class, we make a method static. This is advantageous when we need to create utility methods.\n",
    "Finally, note that we do not need the self or cls to be passed as the first argument in a static method."
   ]
  },
  {
   "cell_type": "code",
   "execution_count": 33,
   "id": "687447d4",
   "metadata": {},
   "outputs": [
    {
     "name": "stdout",
     "output_type": "stream",
     "text": [
      "45\n",
      "Student name is Rakesh , Roll 34 and Branch EE.\n",
      "Student name is Rahul , Roll 76 and Branch EE.\n",
      "Student name is Prince , Roll 77 and Branch EE.\n",
      "This is good rakesh\n"
     ]
    }
   ],
   "source": [
    "class Student():\n",
    "    \n",
    "    no_of_leaves = 9 \n",
    "    def __init__(self , aname , aroll , abranch):\n",
    "        self.name = aname \n",
    "        self.roll = aroll\n",
    "        self.branch = abranch\n",
    "        \n",
    "    \n",
    "    @classmethod\n",
    "    def change_leaves(cls , newleaves):\n",
    "        cls.no_of_leaves = newleaves\n",
    "        \n",
    "    @classmethod\n",
    "    \n",
    "    def from_dash(cls , string):\n",
    "        params = string.split('-')\n",
    "        return cls(*string.split('-'))\n",
    "#         return cls(params[0] , params[1] , params[2])\n",
    "\n",
    "    @staticmethod\n",
    "    def printgood(string):\n",
    "        print(\"This is good \" + string)\n",
    "    def printdetalis(self):\n",
    "        return f'Student name is {self.name} , Roll {self.roll} and Branch {self.branch}.'\n",
    "\n",
    "    \n",
    "rakesh = Student(\"Rakesh\" , \"34\" , \"EE\")\n",
    "rahul  = Student(\"Rahul\"  , '76' , 'EE')\n",
    "prince = Student.from_dash('Prince-77-EE')\n",
    "\n",
    "rakesh.change_leaves(45)\n",
    "print(rakesh.no_of_leaves)\n",
    "print(rakesh.printdetalis())\n",
    "print(rahul.printdetalis())\n",
    "print(prince.printdetalis())\n",
    "Student.printgood(\"rakesh\")"
   ]
  },
  {
   "cell_type": "code",
   "execution_count": null,
   "id": "faf08080",
   "metadata": {},
   "outputs": [],
   "source": [
    "\n",
    "\n"
   ]
  },
  {
   "cell_type": "code",
   "execution_count": null,
   "id": "d894992f",
   "metadata": {},
   "outputs": [],
   "source": []
  },
  {
   "cell_type": "markdown",
   "id": "4c1f6246",
   "metadata": {},
   "source": [
    "**List , Dictionary , Set Compreshions**"
   ]
  },
  {
   "cell_type": "code",
   "execution_count": 37,
   "id": "60a79ace",
   "metadata": {},
   "outputs": [
    {
     "data": {
      "text/plain": [
       "[0, 3, 6, 9, 12, 15, 18]"
      ]
     },
     "execution_count": 37,
     "metadata": {},
     "output_type": "execute_result"
    }
   ],
   "source": [
    "div_3 = [i  for i in range(20) if i%3==0] "
   ]
  },
  {
   "cell_type": "code",
   "execution_count": 39,
   "id": "9f0e166f",
   "metadata": {},
   "outputs": [
    {
     "data": {
      "text/plain": [
       "{0: 'Item 0',\n",
       " 1: 'Item 1',\n",
       " 2: 'Item 2',\n",
       " 3: 'Item 3',\n",
       " 4: 'Item 4',\n",
       " 5: 'Item 5',\n",
       " 6: 'Item 6',\n",
       " 7: 'Item 7',\n",
       " 8: 'Item 8'}"
      ]
     },
     "execution_count": 39,
     "metadata": {},
     "output_type": "execute_result"
    }
   ],
   "source": [
    "dict1 = { i:f'Item {i}' for i in range(9)}\n",
    "dict1  "
   ]
  },
  {
   "cell_type": "code",
   "execution_count": 40,
   "id": "e1d5f21d",
   "metadata": {},
   "outputs": [
    {
     "data": {
      "text/plain": [
       "dict_items([(0, 'Item 0'), (1, 'Item 1'), (2, 'Item 2'), (3, 'Item 3'), (4, 'Item 4'), (5, 'Item 5'), (6, 'Item 6'), (7, 'Item 7'), (8, 'Item 8')])"
      ]
     },
     "execution_count": 40,
     "metadata": {},
     "output_type": "execute_result"
    }
   ],
   "source": [
    "dict1.items() "
   ]
  },
  {
   "cell_type": "markdown",
   "id": "74ef7ae7",
   "metadata": {},
   "source": [
    "**Reverse key and values of dict1 using comprehensions.**"
   ]
  },
  {
   "cell_type": "code",
   "execution_count": 41,
   "id": "cb13706b",
   "metadata": {},
   "outputs": [
    {
     "data": {
      "text/plain": [
       "{'Item 0': 0,\n",
       " 'Item 1': 1,\n",
       " 'Item 2': 2,\n",
       " 'Item 3': 3,\n",
       " 'Item 4': 4,\n",
       " 'Item 5': 5,\n",
       " 'Item 6': 6,\n",
       " 'Item 7': 7,\n",
       " 'Item 8': 8}"
      ]
     },
     "execution_count": 41,
     "metadata": {},
     "output_type": "execute_result"
    }
   ],
   "source": [
    "rev_dict = {value:key for key , value in dict1.items()}\n",
    "rev_dict"
   ]
  },
  {
   "cell_type": "markdown",
   "id": "d831498e",
   "metadata": {},
   "source": [
    "**Set comprehension**"
   ]
  },
  {
   "cell_type": "code",
   "execution_count": 42,
   "id": "3fcb3798",
   "metadata": {},
   "outputs": [
    {
     "data": {
      "text/plain": [
       "{'dress1', 'dress2'}"
      ]
     },
     "execution_count": 42,
     "metadata": {},
     "output_type": "execute_result"
    }
   ],
   "source": [
    "dresses ={dress for dress in [\"dress1\" , \"dress1\" , \"dress2\"]}\n",
    "dresses"
   ]
  },
  {
   "cell_type": "markdown",
   "id": "7a87b0f2",
   "metadata": {},
   "source": [
    "**generators comprehension**"
   ]
  },
  {
   "cell_type": "code",
   "execution_count": 50,
   "id": "455d2b89",
   "metadata": {},
   "outputs": [
    {
     "name": "stdout",
     "output_type": "stream",
     "text": [
      "0\n",
      "2\n",
      "4\n",
      "6\n",
      "8\n"
     ]
    }
   ],
   "source": [
    "gen = (i for i in range(10) if i%2==0)\n",
    "print(gen.__next__())\n",
    "print(gen.__next__())\n",
    "\n",
    "for i in gen:\n",
    "    print(i)"
   ]
  },
  {
   "cell_type": "markdown",
   "id": "0054b1b2",
   "metadata": {},
   "source": [
    "**For else Loop**"
   ]
  },
  {
   "cell_type": "code",
   "execution_count": 51,
   "id": "7cb73c14",
   "metadata": {},
   "outputs": [
    {
     "name": "stdout",
     "output_type": "stream",
     "text": [
      "Your item was not found\n"
     ]
    }
   ],
   "source": [
    "fruits = ['apple' , 'banana' , 'orange']\n",
    "for f in fruits:\n",
    "    if f =='rakesh':\n",
    "        break\n",
    "        \n",
    "else:\n",
    "    print(\"Your item was not found\") "
   ]
  },
  {
   "cell_type": "markdown",
   "id": "f4c8d016",
   "metadata": {},
   "source": [
    "**Function Caching**"
   ]
  },
  {
   "cell_type": "code",
   "execution_count": 54,
   "id": "5818b33a",
   "metadata": {},
   "outputs": [
    {
     "name": "stdout",
     "output_type": "stream",
     "text": [
      "Now running some work\n",
      "Done.....Calling again\n",
      "Called again\n"
     ]
    }
   ],
   "source": [
    "import time \n",
    "from functools import lru_cache\n",
    "@lru_cache(maxsize=3)\n",
    "def some_work(n):\n",
    "    #Some task taking n seconds\n",
    "    time.sleep(n)\n",
    "    return n \n",
    "\n",
    "if __name__ ==\"__main__\":\n",
    "    print('Now running some work')\n",
    "    some_work(3)\n",
    "    some_work(1)\n",
    "    some_work(2)\n",
    "    some_work(3)\n",
    "    print('Done.....Calling again')\n",
    "    some_work(3)\n",
    "    print(\"Called again\")"
   ]
  },
  {
   "cell_type": "markdown",
   "id": "5bbf4c16",
   "metadata": {},
   "source": [
    "**Else & Finally in try**"
   ]
  },
  {
   "cell_type": "code",
   "execution_count": 58,
   "id": "92f9d926",
   "metadata": {},
   "outputs": [
    {
     "name": "stdout",
     "output_type": "stream",
     "text": [
      "[Errno 2] No such file or directory: 'Does.txt'\n",
      "Important stuff\n"
     ]
    }
   ],
   "source": [
    "\n",
    "f1 = open(\"harry.txt\")\n",
    "\n",
    "try:\n",
    "    f = open(\"does2.txt\")\n",
    "\n",
    "except EOFError as e:\n",
    "    print(\"Print eof error aa gaya hai\", e)\n",
    "\n",
    "except IOError as e:\n",
    "    print(\"Print IO error aa gaya hai\", e)\n",
    "#except or else me koi ek hi run krti hai\n",
    "else:\n",
    "    print(\"This will run only if except is not running\")\n",
    "\n",
    "finally:\n",
    "    print(\"Run this anyway...\")\n",
    "    # f.close()\n",
    "    f1.close()\n",
    "\n",
    "print(\"Important stuff\")\n"
   ]
  },
  {
   "cell_type": "markdown",
   "id": "813f5426",
   "metadata": {},
   "source": [
    "**Summing Up**\n",
    "- After seeing the difference between these four keywords, we learned about various ways to handle exceptions in Python. In this tutorial, so studied that:\n",
    "\n",
    "- In the try block, all the statements are executed until an exception occurs.\n",
    "- Except block is used to catch and handle the exception(s) that occurs during the execution of the try block.\n",
    "- Else block runs only when no exceptions occur in the execution of the try block.\n",
    "- Finally block always runs; either an exception occurs or not.\n"
   ]
  },
  {
   "cell_type": "markdown",
   "id": "d7e7f255",
   "metadata": {},
   "source": [
    "**Coroutines**"
   ]
  },
  {
   "cell_type": "markdown",
   "id": "9b855c74",
   "metadata": {},
   "source": [
    "**Coroutines** are mostly used in cases of time-consuming programs, such as tasks related to machine learning or deep learning algorithms, or in cases where the program has to read a file containing a large number of data. In such situations, we do not want the program to read the file or data again and again, so we use coroutines to make the program more efficient and faster. Coroutines run endlessly in a program because they use a while loop with a true or 1 condition, so it may run until infinite time. Even after yielding the value to the caller, it still awaits further instruction or calls. We have to stop the execution of the coroutine by calling the coroutine.close() function."
   ]
  },
  {
   "cell_type": "code",
   "execution_count": 59,
   "id": "632e6432",
   "metadata": {},
   "outputs": [
    {
     "name": "stdout",
     "output_type": "stream",
     "text": [
      "search started\n",
      "Next method run\n",
      "Your text is in the book\n"
     ]
    },
    {
     "ename": "StopIteration",
     "evalue": "",
     "output_type": "error",
     "traceback": [
      "\u001b[1;31m---------------------------------------------------------------------------\u001b[0m",
      "\u001b[1;31mStopIteration\u001b[0m                             Traceback (most recent call last)",
      "Input \u001b[1;32mIn [59]\u001b[0m, in \u001b[0;36m<cell line: 21>\u001b[1;34m()\u001b[0m\n\u001b[0;32m     18\u001b[0m search\u001b[38;5;241m.\u001b[39msend(\u001b[38;5;124m\"\u001b[39m\u001b[38;5;124mharry\u001b[39m\u001b[38;5;124m\"\u001b[39m)\n\u001b[0;32m     20\u001b[0m search\u001b[38;5;241m.\u001b[39mclose()\n\u001b[1;32m---> 21\u001b[0m \u001b[43msearch\u001b[49m\u001b[38;5;241;43m.\u001b[39;49m\u001b[43msend\u001b[49m\u001b[43m(\u001b[49m\u001b[38;5;124;43m\"\u001b[39;49m\u001b[38;5;124;43mharry\u001b[39;49m\u001b[38;5;124;43m\"\u001b[39;49m\u001b[43m)\u001b[49m\n",
      "\u001b[1;31mStopIteration\u001b[0m: "
     ]
    }
   ],
   "source": [
    "\n",
    "def searcher():\n",
    "    import time\n",
    "    # Some 4 seconds time consuming task\n",
    "    book = \"This is a book on harry and code with harry and good\"\n",
    "    time.sleep(4)\n",
    "\n",
    "    while True:\n",
    "        text = (yield)\n",
    "        if text in book:\n",
    "            print(\"Your text is in the book\")\n",
    "        else:\n",
    "            print(\"Text is not in the book\")\n",
    "\n",
    "search = searcher()\n",
    "print(\"search started\")\n",
    "next(search)\n",
    "print(\"Next method run\")\n",
    "search.send(\"harry\")\n",
    "\n",
    "search.close()\n",
    "search.send(\"harry\")\n",
    "# input(\"press any key\")\n",
    "# search.send(\"harry and\")\n",
    "# input(\"press any key\")\n",
    "# search.send(\"thi si\")\n",
    "# input(\"press any key\")\n",
    "# search.send(\"joker\")\n",
    "# input(\"press any key\")\n",
    "# search.send(\"like this video\")\n",
    "\n"
   ]
  },
  {
   "cell_type": "markdown",
   "id": "71e53d42",
   "metadata": {},
   "source": [
    "### Healthy Programmer"
   ]
  },
  {
   "cell_type": "code",
   "execution_count": null,
   "id": "a292fd8d",
   "metadata": {},
   "outputs": [],
   "source": [
    "\n",
    "#Healthy Programmer\n",
    "# 9am - 5pm\n",
    "# Water - water.mp3 (3.5 litres) - Drank - log - Every 40 min\n",
    "# Eyes - eyes.mp3 - every 30 min - EyDone - log - Every 30 min\n",
    "# Physical activity - physical.mp3 every - 45 min - ExDone - log\n",
    "# Rules\n",
    "# Pygame module to play audio\n",
    "\n",
    "from pygame import mixer\n",
    "from datetime import datetime\n",
    "from time import time\n",
    "\n",
    "def musiconloop(file, stopper):\n",
    "    mixer.init()\n",
    "    mixer.music.load(file)\n",
    "    mixer.music.play()\n",
    "    while True:\n",
    "        input_of_user = input()\n",
    "        if input_of_user == stopper:\n",
    "            mixer.music.stop()\n",
    "            break\n",
    "\n",
    "def log_now(msg):\n",
    "    with open(\"mylogs.txt\", \"a\") as f:\n",
    "        f.write(f\"{msg} {datetime.now()}\\n\")\n",
    "\n",
    "if __name__ == '__main__':\n",
    "    # musiconloop(\"water.mp3\", \"stop\")\n",
    "    init_water = time()\n",
    "    init_eyes = time()\n",
    "    init_exercise = time()\n",
    "    watersecs = 40*60\n",
    "    exsecs = 30*60\n",
    "    eyessecs = 45*60\n",
    "\n",
    "    while True:\n",
    "        if time() - init_water > watersecs:\n",
    "            print(\"Water Drinking time. Enter 'drank' to stop the alarm.\")\n",
    "            musiconloop('water.mp3', 'drank')\n",
    "            init_water = time()\n",
    "            log_now(\"Drank Water at\")\n",
    "\n",
    "        if time() - init_eyes >eyessecs:\n",
    "            print(\"Eye exercise time. Enter 'doneeyes' to stop the alarm.\")\n",
    "            musiconloop('eyes.mp3', 'doneeyes')\n",
    "            init_eyes = time()\n",
    "            log_now(\"Eyes Relaxed at\")\n",
    "\n",
    "        if time() - init_exercise > exsecs:\n",
    "            print(\"Physical Activity Time. Enter 'donephy' to stop the alarm.\")\n",
    "            musiconloop('physical.mp3', 'donephy')\n",
    "            init_exercise = time()\n",
    "            log_now(\"Physical Activity done at\")\n",
    "\n",
    "\n",
    "\n",
    "\n"
   ]
  },
  {
   "cell_type": "code",
   "execution_count": 5,
   "id": "dde7fbfc",
   "metadata": {},
   "outputs": [
    {
     "data": {
      "text/plain": [
       "5.2"
      ]
     },
     "execution_count": 5,
     "metadata": {},
     "output_type": "execute_result"
    }
   ],
   "source": [
    "mylist = [1 ,  1, 5 ,5 ,7, 8, 10]\n",
    "def avg(mylist):\n",
    "    return int(sum(mylist)-max(mylist)-min(mylist))/(len(mylist)-2))\n",
    "avg(mylist)"
   ]
  },
  {
   "cell_type": "code",
   "execution_count": null,
   "id": "6e8c5f57",
   "metadata": {},
   "outputs": [],
   "source": []
  }
 ],
 "metadata": {
  "kernelspec": {
   "display_name": "Python 3 (ipykernel)",
   "language": "python",
   "name": "python3"
  },
  "language_info": {
   "codemirror_mode": {
    "name": "ipython",
    "version": 3
   },
   "file_extension": ".py",
   "mimetype": "text/x-python",
   "name": "python",
   "nbconvert_exporter": "python",
   "pygments_lexer": "ipython3",
   "version": "3.8.12"
  }
 },
 "nbformat": 4,
 "nbformat_minor": 5
}
