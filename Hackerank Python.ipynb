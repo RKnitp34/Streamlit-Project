{
 "cells": [
  {
   "cell_type": "markdown",
   "id": "444a7ed8",
   "metadata": {},
   "source": [
    "# Problems Name : List"
   ]
  },
  {
   "cell_type": "code",
   "execution_count": 18,
   "id": "62df7664",
   "metadata": {},
   "outputs": [
    {
     "name": "stdout",
     "output_type": "stream",
     "text": [
      "['1']\n",
      "remove(1)\n"
     ]
    }
   ],
   "source": [
    "s = 'insert 1 0'\n",
    "s = s.split()\n",
    "cmd = s[0]\n",
    "args = s[1:]\n",
    "print(args) \n",
    "cmd+=\"(\"+ \",\".join(args)+\")\"  #\",\".join(args) means joins the list seprated by commas\n",
    "print(cmd) "
   ]
  },
  {
   "cell_type": "code",
   "execution_count": 15,
   "id": "8b6d24d2",
   "metadata": {},
   "outputs": [
    {
     "name": "stdout",
     "output_type": "stream",
     "text": [
      "['1', '0']\n",
      "insert(1,0)\n"
     ]
    }
   ],
   "source": [
    "s = 'insert 1 0'\n",
    "s = s.split()\n",
    "cmd = s[0]\n",
    "args = s[1:]\n",
    "print(args) \n",
    "cmd+=\"(\"+ \",\".join(args)+\")\"\n",
    "print(cmd) "
   ]
  },
  {
   "cell_type": "code",
   "execution_count": null,
   "id": "21906a7c",
   "metadata": {},
   "outputs": [],
   "source": []
  },
  {
   "cell_type": "code",
   "execution_count": 19,
   "id": "408cffa6",
   "metadata": {},
   "outputs": [
    {
     "name": "stdout",
     "output_type": "stream",
     "text": [
      "12\n",
      "insert 0 5 \n",
      "insert 1 10\n",
      "insert 0 6\n",
      "print\n",
      "remove 6 \n",
      "append 6 \n",
      "append 1 \n",
      "sort \n",
      "print \n",
      "pop \n",
      "reverse \n",
      "print \n",
      "[['insert', '0', '5'], ['insert', '1', '10'], ['insert', '0', '6'], ['print'], ['remove', '6'], ['append', '6'], ['append', '1'], ['sort'], ['print'], ['pop'], ['reverse'], ['print']]\n"
     ]
    }
   ],
   "source": [
    "if __name__ == '__main__':\n",
    "    N = int(input())\n",
    "    inp = []\n",
    "    conv = []\n",
    "\n",
    "    for i in range(N):\n",
    "        x = input().split()\n",
    "        inp.append(x)\n",
    "    print(inp)"
   ]
  },
  {
   "cell_type": "code",
   "execution_count": 21,
   "id": "8b1273bc",
   "metadata": {},
   "outputs": [
    {
     "name": "stdout",
     "output_type": "stream",
     "text": [
      "[6, 5, 10]\n",
      "[1, 5, 6, 10]\n",
      "[1, 5, 6]\n"
     ]
    }
   ],
   "source": [
    "l = []\n",
    "for cmd in inp:\n",
    "    if cmd[0]=='insert':\n",
    "        l.insert(int(cmd[1]) , int(cmd[2]))\n",
    "    \n",
    "    \n",
    "    elif cmd[0]=='append':\n",
    "        l.append(int(cmd[1]))\n",
    "    elif cmd[0]=='pop':\n",
    "        l.pop()\n",
    "    elif cmd[0]=='sort':\n",
    "        l.sort()\n",
    "        \n",
    "    elif cmd[0]=='reverse':\n",
    "        \n",
    "        l.reverse\n",
    "    elif cmd[0]=='remove':\n",
    "        l.remove(int(cmd[1]))\n",
    "    elif cmd[0]=='print':\n",
    "        print(l)   \n",
    "    "
   ]
  },
  {
   "cell_type": "markdown",
   "id": "9f5b58bb",
   "metadata": {},
   "source": [
    "**Methods 2**"
   ]
  },
  {
   "cell_type": "code",
   "execution_count": 35,
   "id": "75bb63b6",
   "metadata": {},
   "outputs": [
    {
     "name": "stdout",
     "output_type": "stream",
     "text": [
      "12\n",
      "insert 0 5 \n",
      "insert 1 10\n",
      "insert 0 6\n",
      "print\n",
      "[6, 5, 10]\n",
      "remove 6\n",
      "append 6 \n",
      "append 9 \n",
      "append 1 \n",
      "sort \n",
      "print\n",
      "[1, 5, 6, 9, 10]\n",
      "pop\n",
      "reverse \n",
      "['insert(0,5)', 'insert(1,10)', 'insert(0,6)', 'print', 'remove(6)', 'append(6)', 'append(9)', 'append(1)', 'sort()', 'print', 'pop()', 'reverse()']\n"
     ]
    }
   ],
   "source": [
    "l = []\n",
    "if __name__ == '__main__':\n",
    "    N = int(input())\n",
    "    inp = []\n",
    "    conv = []\n",
    "\n",
    "    for i in range(N):\n",
    "        x = input().split()\n",
    "        cmd = x[0]\n",
    "        args=x[1:]\n",
    "        if cmd!='print':\n",
    "            cmd+='('+','.join(args)+')'\n",
    "            eval('l.'+cmd)\n",
    "        else:\n",
    "            print(l)\n",
    "        inp.append(cmd)\n",
    "    print(inp)\n",
    "    "
   ]
  },
  {
   "cell_type": "code",
   "execution_count": 1,
   "id": "b4dab21e",
   "metadata": {},
   "outputs": [
    {
     "data": {
      "text/plain": [
       "4"
      ]
     },
     "execution_count": 1,
     "metadata": {},
     "output_type": "execute_result"
    }
   ],
   "source": [
    "eval('2**2')"
   ]
  },
  {
   "cell_type": "markdown",
   "id": "a23df1f1",
   "metadata": {},
   "source": [
    "# Problem Name : Finding the percentage"
   ]
  },
  {
   "cell_type": "markdown",
   "id": "0cb07281",
   "metadata": {},
   "source": [
    "before solving this problem lets have a look on map funtion\n",
    "\n",
    "**Map Function**"
   ]
  },
  {
   "cell_type": "markdown",
   "id": "f65aa550",
   "metadata": {},
   "source": [
    "**CODE1**"
   ]
  },
  {
   "cell_type": "code",
   "execution_count": 10,
   "id": "38b0e82a",
   "metadata": {},
   "outputs": [
    {
     "name": "stdout",
     "output_type": "stream",
     "text": [
      "[2, 4, 6, 8]\n"
     ]
    }
   ],
   "source": [
    "# Python program to demonstrate working\n",
    "# of map.\n",
    "  \n",
    "# Return double of n\n",
    "def addition(n):\n",
    "    return n + n\n",
    "  \n",
    "# We double all numbers using map()\n",
    "numbers = (1, 2, 3, 4)\n",
    "result = map(addition, numbers)\n",
    "print(list(result))"
   ]
  },
  {
   "cell_type": "markdown",
   "id": "7101e4cc",
   "metadata": {},
   "source": [
    "**CODE 2**"
   ]
  },
  {
   "cell_type": "code",
   "execution_count": 13,
   "id": "9b29a729",
   "metadata": {},
   "outputs": [
    {
     "name": "stdout",
     "output_type": "stream",
     "text": [
      "[5, 7, 9]\n"
     ]
    }
   ],
   "source": [
    "numbers1 = [1, 2, 3]\n",
    "numbers2 = [4, 5, 6]\n",
    "  \n",
    "result = map(lambda x, y: x + y, numbers1, numbers2)\n",
    "# print(result) #<map object at 0x0000021832FE55B0>\n",
    "print(list(result))"
   ]
  },
  {
   "cell_type": "code",
   "execution_count": 1,
   "id": "f6e5a73c",
   "metadata": {},
   "outputs": [
    {
     "name": "stdout",
     "output_type": "stream",
     "text": [
      "3\n",
      "rakesh 12 13 14\n",
      "mahesh 16 18 19\n",
      "mohit 12 12 12 \n",
      "mahesh\n",
      "{'rakesh': [12.0, 13.0, 14.0], 'mahesh': [16.0, 18.0, 19.0], 'mohit': [12.0, 12.0, 12.0]}\n",
      "17.666666666666668\n"
     ]
    }
   ],
   "source": [
    "#Solution of Problem:\n",
    "\n",
    "N = int(input())\n",
    "marks = {}\n",
    "for i in range(N):\n",
    "    name , *line = input().split()\n",
    "    scores = list(map(float , line))\n",
    "    marks[name] = scores\n",
    "query_name = input()  \n",
    "def avg(l):\n",
    "    result = sum(l)/len(l)\n",
    "    result = \"{:.2f}\".format(result)\n",
    "    return result\n",
    "print(marks)\n",
    "for key in marks:\n",
    "    if key==query_name:\n",
    "        print(avg(marks[key]))"
   ]
  },
  {
   "cell_type": "markdown",
   "id": "1f94aea4",
   "metadata": {},
   "source": [
    "**result should be upto two decimal places.**\n",
    "\n",
    "**Python print 2 decimal places**\n",
    "In Python, to print 2 decimal places we will use str.format() with “{:.2f}” as string and float as a number. Call print and it will print the float with 2 decimal places."
   ]
  },
  {
   "cell_type": "code",
   "execution_count": 2,
   "id": "4797330a",
   "metadata": {},
   "outputs": [
    {
     "name": "stdout",
     "output_type": "stream",
     "text": [
      "2.15\n"
     ]
    }
   ],
   "source": [
    "float = 2.154327\n",
    "format_float = \"{:.2f}\".format(float)\n",
    "print(format_float)"
   ]
  },
  {
   "cell_type": "markdown",
   "id": "c3c1b69b",
   "metadata": {},
   "source": [
    "# Linear algebra"
   ]
  },
  {
   "cell_type": "code",
   "execution_count": 5,
   "id": "46a60c7d",
   "metadata": {},
   "outputs": [
    {
     "name": "stdout",
     "output_type": "stream",
     "text": [
      "Enter order of matrix2\n",
      "element of rows:  2 4\n",
      "element of rows:  4 2 \n",
      "Matrix A is: [[2.0, 4.0], [4.0, 2.0]]\n"
     ]
    }
   ],
   "source": [
    "#find det of square matrix\n",
    "\n",
    "A = [] #matrix\n",
    "n = int(input('Enter order of matrix'))\n",
    "for i in range(n):\n",
    "    l= input('element of rows:  ').split()\n",
    "    l = list(map(float , l))\n",
    "    A.append(l)\n",
    "print('Matrix A is:', A)\n"
   ]
  },
  {
   "cell_type": "code",
   "execution_count": 21,
   "id": "faef2e3a",
   "metadata": {},
   "outputs": [
    {
     "name": "stdout",
     "output_type": "stream",
     "text": [
      "Determinant\n",
      " -12.0\n",
      "Eigen values  [ 6. -2.]\n",
      "\n",
      "  and Eigen vecs [[ 0.70710678 -0.70710678]\n",
      " [ 0.70710678  0.70710678]]\n",
      "\n",
      "inverse of matrix is :  [[-0.16666667  0.33333333]\n",
      " [ 0.33333333 -0.16666667]]\n"
     ]
    }
   ],
   "source": [
    "import numpy as np\n",
    "print(\"Determinant\\n\", np.linalg.det(A))\n",
    "\n",
    "#Eigen values and eigen vectors\n",
    "vals, vecs = np.linalg.eig(A)\n",
    "print('Eigen values  {}\\n\\n  and Eigen vecs {}\\n'.format(vals , vecs))\n",
    "\n",
    "#inverse of matrix\n",
    "\n",
    "print('inverse of matrix is : ' , np.linalg.inv(A))"
   ]
  },
  {
   "cell_type": "markdown",
   "id": "1bf96e38",
   "metadata": {},
   "source": [
    "# itertools.combinations()\n",
    "\n"
   ]
  },
  {
   "cell_type": "code",
   "execution_count": 73,
   "id": "76435c90",
   "metadata": {},
   "outputs": [
    {
     "name": "stdout",
     "output_type": "stream",
     "text": [
      "hack 2\n",
      "a\n",
      "c\n",
      "h\n",
      "k\n",
      "ac\n",
      "ah\n",
      "ak\n",
      "ch\n",
      "ck\n",
      "hk\n"
     ]
    }
   ],
   "source": [
    "from itertools import combinations\n",
    "\n",
    "string , n = input().split()\n",
    "n = int(n) \n",
    "string = sorted(string)\n",
    "result = []\n",
    "for i in range(n) :\n",
    "    l = list(combinations(string ,i+1 ))\n",
    "    result.append(l)\n",
    "for i in sorted(result):\n",
    "    for j in i:\n",
    "#         print(j)\n",
    "        print(''.join(j))"
   ]
  },
  {
   "cell_type": "markdown",
   "id": "ff643759",
   "metadata": {},
   "source": [
    "**Hackerank solution:**"
   ]
  },
  {
   "cell_type": "code",
   "execution_count": 72,
   "id": "cc6f0fd2",
   "metadata": {},
   "outputs": [
    {
     "name": "stdout",
     "output_type": "stream",
     "text": [
      "hack 2\n",
      "a\n",
      "c\n",
      "h\n",
      "k\n",
      "ac\n",
      "ah\n",
      "ak\n",
      "ch\n",
      "ck\n",
      "hk\n"
     ]
    }
   ],
   "source": [
    "string , n = input().split()\n",
    "n = int(n) \n",
    "result = []\n",
    "string = sorted(string)\n",
    "for i in range(1,n+1):\n",
    "    for j in list(combinations(string , i)):\n",
    "        print(''.join(j))"
   ]
  },
  {
   "cell_type": "markdown",
   "id": "cdf21c13",
   "metadata": {},
   "source": [
    "# itertools.combinations_with_replacement()\n",
    "\n"
   ]
  },
  {
   "cell_type": "code",
   "execution_count": 74,
   "id": "a7a9fb75",
   "metadata": {},
   "outputs": [],
   "source": [
    "from itertools import combinations_with_replacement"
   ]
  },
  {
   "cell_type": "code",
   "execution_count": 83,
   "id": "9fa0cd40",
   "metadata": {},
   "outputs": [
    {
     "name": "stdout",
     "output_type": "stream",
     "text": [
      "hack 2\n",
      "aa\n",
      "ac\n",
      "ah\n",
      "ak\n",
      "cc\n",
      "ch\n",
      "ck\n",
      "hh\n",
      "hk\n",
      "kk\n"
     ]
    }
   ],
   "source": [
    "string ,  n = input().split()\n",
    "n = int(n)\n",
    "string = sorted(string)\n",
    "for i in list(combinations_with_replacement(string , n)):\n",
    "    print(''.join(i))"
   ]
  },
  {
   "cell_type": "markdown",
   "id": "0bf2d816",
   "metadata": {},
   "source": [
    "# Compress the String"
   ]
  },
  {
   "cell_type": "markdown",
   "id": "0b13f46e",
   "metadata": {},
   "source": [
    "**statement:** You are given a string . Suppose a character '' occurs consecutively  times in the string. Replace these consecutive occurrences of the character '' with  in the string."
   ]
  },
  {
   "cell_type": "code",
   "execution_count": 85,
   "id": "e1bbb2cd",
   "metadata": {},
   "outputs": [],
   "source": [
    "from itertools import groupby\n",
    "groups = []\n",
    "uniquekeys = []\n",
    "data = sorted('1222311')\n",
    "for k, g in groupby(data):\n",
    "    groups.append(list(g))      # Store group iterator as a list\n",
    "    uniquekeys.append(k)"
   ]
  },
  {
   "cell_type": "code",
   "execution_count": 86,
   "id": "ca0fd91e",
   "metadata": {},
   "outputs": [
    {
     "data": {
      "text/plain": [
       "[['1', '1', '1'], ['2', '2', '2'], ['3']]"
      ]
     },
     "execution_count": 86,
     "metadata": {},
     "output_type": "execute_result"
    }
   ],
   "source": [
    "groups "
   ]
  },
  {
   "cell_type": "code",
   "execution_count": 87,
   "id": "df72abb1",
   "metadata": {},
   "outputs": [
    {
     "data": {
      "text/plain": [
       "['1', '2', '3']"
      ]
     },
     "execution_count": 87,
     "metadata": {},
     "output_type": "execute_result"
    }
   ],
   "source": [
    "uniquekeys"
   ]
  },
  {
   "cell_type": "markdown",
   "id": "d34e7d07",
   "metadata": {},
   "source": [
    "# Tuples"
   ]
  },
  {
   "cell_type": "code",
   "execution_count": 1,
   "id": "765f53c5",
   "metadata": {},
   "outputs": [
    {
     "name": "stdout",
     "output_type": "stream",
     "text": [
      "2\n",
      "1 2\n"
     ]
    }
   ],
   "source": [
    "n = input() \n",
    "int_list = map(int , input().split())"
   ]
  },
  {
   "cell_type": "code",
   "execution_count": 5,
   "id": "04cc3d91",
   "metadata": {},
   "outputs": [
    {
     "data": {
      "text/plain": [
       "5740354900026072187"
      ]
     },
     "execution_count": 5,
     "metadata": {},
     "output_type": "execute_result"
    }
   ],
   "source": [
    "t = tuple(int_list)\n",
    "hash(t) "
   ]
  },
  {
   "cell_type": "markdown",
   "id": "26dac052",
   "metadata": {},
   "source": [
    "# Mod Divmod"
   ]
  },
  {
   "cell_type": "markdown",
   "id": "cb451bdd",
   "metadata": {},
   "source": [
    "One of the built-in functions of Python is divmod, which takes two arguments  and  and returns a tuple containing the quotient of  first and then the remainder."
   ]
  },
  {
   "cell_type": "code",
   "execution_count": 6,
   "id": "5d094e61",
   "metadata": {},
   "outputs": [
    {
     "name": "stdout",
     "output_type": "stream",
     "text": [
      "(17, 7)\n"
     ]
    }
   ],
   "source": [
    "print(divmod(177,10))"
   ]
  },
  {
   "cell_type": "code",
   "execution_count": null,
   "id": "fe514c58",
   "metadata": {},
   "outputs": [
    {
     "name": "stdout",
     "output_type": "stream",
     "text": [
      "117 10\n"
     ]
    }
   ],
   "source": [
    "a = input()\n",
    "b = input()"
   ]
  },
  {
   "cell_type": "markdown",
   "id": "3d99f0c3",
   "metadata": {},
   "source": [
    "## Integers Come In All Sizes\n",
    "\n"
   ]
  },
  {
   "cell_type": "markdown",
   "id": "50c07400",
   "metadata": {},
   "source": [
    "Integers in Python can be as big as the bytes in your machine's memory. There is no limit in size as there is:`(2^31 _ 1)`(c++ int) or `(2^63-1)` (C++ long long int)."
   ]
  },
  {
   "cell_type": "markdown",
   "id": "d7e962ff",
   "metadata": {},
   "source": [
    "Note: This result is bigger than `(2^63-1)`. Hence, it won't fit in the long long int of C++ or a 64-bit integer."
   ]
  },
  {
   "cell_type": "code",
   "execution_count": 1,
   "id": "a76bd39a",
   "metadata": {},
   "outputs": [
    {
     "name": "stdout",
     "output_type": "stream",
     "text": [
      "3\n",
      "4\n",
      "9\n",
      "29\n",
      "4710128697246244834921603770\n"
     ]
    }
   ],
   "source": [
    "a =int(input()) \n",
    "b =int(input()) \n",
    "c =int(input()) \n",
    "d =int(input()) \n",
    "\n",
    "print(pow(a,b) + pow(c,d))"
   ]
  },
  {
   "cell_type": "markdown",
   "id": "3f4b1054",
   "metadata": {},
   "source": [
    "## Triangle Quest\n",
    "\n"
   ]
  },
  {
   "cell_type": "markdown",
   "id": "9cd1edb4",
   "metadata": {},
   "source": [
    "You are given a positive integer . Print a numerical triangle of height `(N-1)` like the one below:"
   ]
  },
  {
   "cell_type": "code",
   "execution_count": 20,
   "id": "d90e0b8b",
   "metadata": {},
   "outputs": [
    {
     "name": "stdout",
     "output_type": "stream",
     "text": [
      "10\n",
      "1\n",
      "22\n",
      "333\n",
      "4444\n",
      "55555\n",
      "666666\n",
      "7777777\n",
      "88888888\n",
      "999999999\n"
     ]
    }
   ],
   "source": [
    "n = int(input())\n",
    "for i in range(1,n):\n",
    "    for j in range(1 ,i+1):\n",
    "        print(i , end ='')\n",
    "    print()\n",
    "        "
   ]
  },
  {
   "cell_type": "code",
   "execution_count": 22,
   "id": "b0a6dcf8",
   "metadata": {},
   "outputs": [
    {
     "name": "stdout",
     "output_type": "stream",
     "text": [
      "5\n",
      "1\n",
      "22\n",
      "333\n",
      "4444\n"
     ]
    }
   ],
   "source": [
    "n = int(input())\n",
    "for i in range(1,n):\n",
    "    print((10**(i)//9)*i)\n",
    "    \n"
   ]
  },
  {
   "cell_type": "code",
   "execution_count": 14,
   "id": "0a2179e4",
   "metadata": {},
   "outputs": [
    {
     "name": "stdout",
     "output_type": "stream",
     "text": [
      "2\n"
     ]
    }
   ],
   "source": [
    "i = 3\n",
    "print((i*(10-i)//9))"
   ]
  },
  {
   "cell_type": "markdown",
   "id": "0435f59a",
   "metadata": {},
   "source": [
    "## Python Evaluation\n",
    "\n"
   ]
  },
  {
   "cell_type": "markdown",
   "id": "e5c8c86a",
   "metadata": {},
   "source": [
    "The eval() expression is a very powerful built-in function of Python. It helps in evaluating an expression. The expression can be a Python statement, or a code object."
   ]
  },
  {
   "cell_type": "code",
   "execution_count": 25,
   "id": "c14d8c6d",
   "metadata": {},
   "outputs": [
    {
     "name": "stdout",
     "output_type": "stream",
     "text": [
      "print(2+5)\n",
      "7\n"
     ]
    }
   ],
   "source": [
    "inp = input() \n",
    "eval(inp)"
   ]
  },
  {
   "cell_type": "markdown",
   "id": "6a437075",
   "metadata": {},
   "source": [
    "## Athlete Sort\n",
    "\n"
   ]
  },
  {
   "cell_type": "markdown",
   "id": "d1438d0a",
   "metadata": {},
   "source": [
    "**Sort the list based on markds of students.**"
   ]
  },
  {
   "cell_type": "code",
   "execution_count": 49,
   "id": "de1036f6",
   "metadata": {},
   "outputs": [
    {
     "data": {
      "text/plain": [
       "[['akash', 5], ['rishav', 10], ['gaurav', 15], ['ram', 20]]"
      ]
     },
     "execution_count": 49,
     "metadata": {},
     "output_type": "execute_result"
    }
   ],
   "source": [
    "sub_li =[['rishav', 10], ['akash', 5], ['ram', 20], ['gaurav', 15]]\n",
    "sub_li.sort(key = lambda x: x[1])\n",
    "sub_li"
   ]
  },
  {
   "cell_type": "code",
   "execution_count": 31,
   "id": "383b1a22",
   "metadata": {},
   "outputs": [
    {
     "name": "stdout",
     "output_type": "stream",
     "text": [
      "5 3 \n",
      "10 2 5 \n",
      "7 1 0\n",
      "9 9 9 \n",
      "1 23 12 \n",
      "6 5 9 \n",
      "1 \n"
     ]
    }
   ],
   "source": [
    "n , m = map(int , input().split())\n",
    "l = []\n",
    "for i in range(n):\n",
    "    attr = list(map(int , input().split()))\n",
    "    l.append(attr)\n",
    "k  = int(input())\n",
    "l.sort(key = lambda x:x[k])\n",
    "for i in l:\n",
    "    for j in i:\n",
    "        print(j, end=' ')\n",
    "    print() "
   ]
  },
  {
   "cell_type": "code",
   "execution_count": 42,
   "id": "45d74562",
   "metadata": {},
   "outputs": [
    {
     "data": {
      "text/plain": [
       "[[7, 1, 0], [10, 2, 5], [6, 5, 9], [9, 9, 9], [1, 23, 12]]"
      ]
     },
     "execution_count": 42,
     "metadata": {},
     "output_type": "execute_result"
    }
   ],
   "source": [
    "sorted(l, key = lambda x: x[k]) "
   ]
  },
  {
   "cell_type": "code",
   "execution_count": 51,
   "id": "829676dc",
   "metadata": {},
   "outputs": [
    {
     "name": "stdout",
     "output_type": "stream",
     "text": [
      "5 3\n",
      "10 2 5\n",
      "7 1 0 \n",
      "9 9 9 \n",
      "8 8 8 \n",
      "7 7 7 \n"
     ]
    }
   ],
   "source": [
    "N ,M = map(int , input().split())\n",
    "rows = [input() for _ in range(N)]\n",
    "\n",
    "\n",
    "# for row in sorted(l, key=lambda row: int(row.split()[K])):\n",
    "#     print(row) "
   ]
  },
  {
   "cell_type": "code",
   "execution_count": 52,
   "id": "3f4a61be",
   "metadata": {},
   "outputs": [
    {
     "name": "stdout",
     "output_type": "stream",
     "text": [
      "7 1 0 \n",
      "10 2 5\n",
      "7 7 7 \n",
      "8 8 8 \n",
      "9 9 9 \n"
     ]
    }
   ],
   "source": [
    "for row in sorted(rows, key=lambda row: int(row.split()[1])):\n",
    "    print(row) "
   ]
  },
  {
   "cell_type": "code",
   "execution_count": 53,
   "id": "b57229b4",
   "metadata": {},
   "outputs": [
    {
     "name": "stdout",
     "output_type": "stream",
     "text": [
      "10 2 5\n",
      "7 1 0 \n",
      "9 9 9 \n",
      "8 8 8 \n",
      "7 7 7 \n"
     ]
    }
   ],
   "source": [
    "for i in rows:\n",
    "    print(i)"
   ]
  },
  {
   "cell_type": "markdown",
   "id": "b9106d8a",
   "metadata": {},
   "source": [
    "## Any or All"
   ]
  },
  {
   "cell_type": "markdown",
   "id": "272a8f62",
   "metadata": {},
   "source": [
    "**any()**\n",
    " \n",
    "This expression returns True if any element of the iterable is true.\n",
    "If the iterable is empty, it will return False."
   ]
  },
  {
   "cell_type": "code",
   "execution_count": 55,
   "id": "2e0326e0",
   "metadata": {},
   "outputs": [
    {
     "data": {
      "text/plain": [
       "True"
      ]
     },
     "execution_count": 55,
     "metadata": {},
     "output_type": "execute_result"
    }
   ],
   "source": [
    "any([1>0 , 1==0 , 1<0])"
   ]
  },
  {
   "cell_type": "markdown",
   "id": "991b05aa",
   "metadata": {},
   "source": [
    "**all()**\n",
    "\n",
    "This expression returns True if all of the elements of the iterable are true. If the iterable is empty, it will return True."
   ]
  },
  {
   "cell_type": "code",
   "execution_count": 56,
   "id": "353449ee",
   "metadata": {},
   "outputs": [
    {
     "data": {
      "text/plain": [
       "True"
      ]
     },
     "execution_count": 56,
     "metadata": {},
     "output_type": "execute_result"
    }
   ],
   "source": [
    "all(['a'<'b','b'<'c'])"
   ]
  },
  {
   "cell_type": "code",
   "execution_count": 2,
   "id": "0fee053b",
   "metadata": {},
   "outputs": [
    {
     "name": "stdout",
     "output_type": "stream",
     "text": [
      "5\n",
      "12 61 5 9 14\n"
     ]
    }
   ],
   "source": [
    "n = int(input())\n",
    "numbers = map(int, input().split())"
   ]
  },
  {
   "cell_type": "code",
   "execution_count": 12,
   "id": "680e34b8",
   "metadata": {},
   "outputs": [
    {
     "name": "stdout",
     "output_type": "stream",
     "text": [
      "5\n",
      "12 5 9 14 61\n",
      "True\n"
     ]
    }
   ],
   "source": [
    "N,n = int(input()),input().split()\n",
    "print (all([int(i)>0 for i in n]) and any([j == j[::-1] for j in n])) "
   ]
  },
  {
   "cell_type": "code",
   "execution_count": 8,
   "id": "6a83ce7e",
   "metadata": {},
   "outputs": [
    {
     "data": {
      "text/plain": [
       "[True, False, False, False, False]"
      ]
     },
     "execution_count": 8,
     "metadata": {},
     "output_type": "execute_result"
    }
   ],
   "source": [
    "all([int(i)>0 for i in n]) \n",
    "[j==j[::-1] for j in n]"
   ]
  },
  {
   "cell_type": "code",
   "execution_count": 9,
   "id": "18f8a701",
   "metadata": {},
   "outputs": [
    {
     "name": "stdout",
     "output_type": "stream",
     "text": [
      "121\n",
      "543\n",
      "543216\n",
      "383709\n",
      "35421\n"
     ]
    }
   ],
   "source": [
    "for j in n:\n",
    "    print(j[::-1])"
   ]
  },
  {
   "cell_type": "markdown",
   "id": "dd7952cc",
   "metadata": {},
   "source": [
    "## ginortS\n",
    "\n"
   ]
  },
  {
   "attachments": {
    "image.png": {
     "image/png": "[encoded data removed]"
    }
   },
   "cell_type": "markdown",
   "id": "588883b4",
   "metadata": {},
   "source": [
    "![image.png](attachment:image.png)"
   ]
  },
  {
   "cell_type": "code",
   "execution_count": 14,
   "id": "d27f55ff",
   "metadata": {},
   "outputs": [
    {
     "name": "stdout",
     "output_type": "stream",
     "text": [
      "Sorting1234\n"
     ]
    },
    {
     "data": {
      "text/plain": [
       "'Sorting1234'"
      ]
     },
     "execution_count": 14,
     "metadata": {},
     "output_type": "execute_result"
    }
   ],
   "source": [
    "s = input()\n",
    "s "
   ]
  },
  {
   "cell_type": "code",
   "execution_count": 24,
   "id": "d9b68a24",
   "metadata": {},
   "outputs": [
    {
     "data": {
      "text/plain": [
       "'tronigS4321'"
      ]
     },
     "execution_count": 24,
     "metadata": {},
     "output_type": "execute_result"
    }
   ],
   "source": [
    "# sorted(s).join()\n",
    "''.join(sorted(s , reverse=True))"
   ]
  },
  {
   "cell_type": "markdown",
   "id": "abe21a12",
   "metadata": {},
   "source": [
    "### Swapcase"
   ]
  },
  {
   "cell_type": "code",
   "execution_count": 26,
   "id": "08857299",
   "metadata": {},
   "outputs": [
    {
     "name": "stdout",
     "output_type": "stream",
     "text": [
      "HackerRank.com presents \"Pythonist 2\"\n"
     ]
    }
   ],
   "source": [
    "inp = input()"
   ]
  },
  {
   "cell_type": "code",
   "execution_count": 35,
   "id": "e7da07c8",
   "metadata": {},
   "outputs": [
    {
     "data": {
      "text/plain": [
       "True"
      ]
     },
     "execution_count": 35,
     "metadata": {},
     "output_type": "execute_result"
    }
   ],
   "source": [
    "'a'.isalpha() "
   ]
  },
  {
   "cell_type": "code",
   "execution_count": 44,
   "id": "eb083e52",
   "metadata": {},
   "outputs": [
    {
     "name": "stdout",
     "output_type": "stream",
     "text": [
      "hACKERrANK.COM PRESENTS \"pYTHONIST 2\"\n"
     ]
    }
   ],
   "source": [
    "ans =\"\"\n",
    "for i in inp:\n",
    "    if i.isalpha():\n",
    "        if i.isupper():\n",
    "            ans+=i.lower()\n",
    "        if i.islower():\n",
    "            ans+=i.upper()\n",
    "    else:\n",
    "        ans+=i \n",
    "print(ans)"
   ]
  },
  {
   "cell_type": "markdown",
   "id": "626cfa19",
   "metadata": {},
   "source": [
    "## String Split and Join\n",
    "\n"
   ]
  },
  {
   "cell_type": "code",
   "execution_count": 51,
   "id": "b26a4416",
   "metadata": {},
   "outputs": [
    {
     "name": "stdout",
     "output_type": "stream",
     "text": [
      "this is string\n"
     ]
    },
    {
     "data": {
      "text/plain": [
       "'this-is-string'"
      ]
     },
     "execution_count": 51,
     "metadata": {},
     "output_type": "execute_result"
    }
   ],
   "source": [
    "inp = input()\n",
    "'-'.join(inp.split()) "
   ]
  },
  {
   "cell_type": "markdown",
   "id": "72a5faab",
   "metadata": {},
   "source": [
    "## String Validators"
   ]
  },
  {
   "cell_type": "markdown",
   "id": "1af283a8",
   "metadata": {},
   "source": [
    "Python has built-in string validation methods for basic data. It can check if a string is composed of alphabetical characters, alphanumeric characters, digits, etc."
   ]
  },
  {
   "cell_type": "markdown",
   "id": "9864e44d",
   "metadata": {},
   "source": [
    "**str.isalnum()**\n",
    "This method checks if all the characters of a string are alphanumeric (a-z, A-Z and 0-9).\n",
    "'ab123'.isalnum()"
   ]
  },
  {
   "cell_type": "markdown",
   "id": "df84eb0e",
   "metadata": {},
   "source": [
    "**str.isalpha()**\n",
    "This method checks if all the characters of a string are alphabetical (a-z and A-Z)."
   ]
  },
  {
   "cell_type": "markdown",
   "id": "49b62dfd",
   "metadata": {},
   "source": [
    "**str.isdigit()**\n",
    "This method checks if all the characters of a string are digits (0-9)."
   ]
  },
  {
   "cell_type": "markdown",
   "id": "81f2ae1e",
   "metadata": {},
   "source": [
    "**str.islower()**\n",
    "This method checks if all the characters of a string are lowercase characters (a-z)."
   ]
  },
  {
   "cell_type": "markdown",
   "id": "4c480452",
   "metadata": {},
   "source": [
    "**str.isupper()**\n",
    "This method checks if all the characters of a string are uppercase characters (A-Z)."
   ]
  },
  {
   "cell_type": "code",
   "execution_count": 54,
   "id": "dc88bf56",
   "metadata": {},
   "outputs": [
    {
     "name": "stdout",
     "output_type": "stream",
     "text": [
      "aA2\n",
      "True\n",
      "True\n",
      "True\n",
      "True\n",
      "True\n"
     ]
    }
   ],
   "source": [
    "s = input()\n",
    "print(any([i.isalnum() for i in s]))\n",
    "print(any([i.isalpha() for i in s]))\n",
    "print(any([i.isdigit() for i in s]))\n",
    "print(any([i.islower() for i in s]))\n",
    "print(any([i.isupper() for i in s]))"
   ]
  },
  {
   "cell_type": "code",
   "execution_count": 56,
   "id": "f1d10e69",
   "metadata": {},
   "outputs": [
    {
     "name": "stdout",
     "output_type": "stream",
     "text": [
      "qA2\n",
      "True\n",
      "True\n",
      "True\n",
      "True\n",
      "True\n"
     ]
    }
   ],
   "source": [
    "s = input()\n",
    "for test in ('isalnum', 'isalpha', 'isdigit', 'islower', 'isupper'):\n",
    "        print(any(eval(\"c.\" + test + \"()\") for c in s))"
   ]
  },
  {
   "cell_type": "markdown",
   "id": "1520e341",
   "metadata": {},
   "source": [
    "#### textwrap"
   ]
  },
  {
   "cell_type": "code",
   "execution_count": 60,
   "id": "d1a5bef2",
   "metadata": {},
   "outputs": [
    {
     "name": "stdout",
     "output_type": "stream",
     "text": [
      "ABCDEFGHIJKLMNOPQRSTUVWXYZ\n",
      "4\n",
      "ABCD\n",
      "EFGH\n",
      "IJKL\n",
      "MNOP\n",
      "QRST\n",
      "UVWX\n",
      "YZ\n"
     ]
    }
   ],
   "source": [
    "import textwrap\n",
    "string , max_width = input() , int(input())\n",
    "def wrap(string, max_width):\n",
    "    return textwrap.fill(string,max_width)\n",
    "print(wrap(string , max_width))"
   ]
  },
  {
   "cell_type": "markdown",
   "id": "dae55407",
   "metadata": {},
   "source": [
    "### Capitalize"
   ]
  },
  {
   "cell_type": "code",
   "execution_count": 95,
   "id": "c0c69833",
   "metadata": {},
   "outputs": [
    {
     "name": "stdout",
     "output_type": "stream",
     "text": [
      "rakesh kuamr\n"
     ]
    }
   ],
   "source": [
    "s = input()"
   ]
  },
  {
   "cell_type": "code",
   "execution_count": 96,
   "id": "ce064e13",
   "metadata": {},
   "outputs": [],
   "source": [
    "ans = \"\"\n",
    "ans+=l[0][0].upper()+l[0][1:] + ' '\n",
    "ans+=l[-1][0].upper() + l[-1][1:]\n",
    "# l[-1][0].upper()"
   ]
  },
  {
   "cell_type": "code",
   "execution_count": 97,
   "id": "7ebd90f2",
   "metadata": {},
   "outputs": [
    {
     "data": {
      "text/plain": [
       "'Rakesh Kuamr'"
      ]
     },
     "execution_count": 97,
     "metadata": {},
     "output_type": "execute_result"
    }
   ],
   "source": [
    "' '.join([elem.capitalize() for elem in s.split(' ')])"
   ]
  },
  {
   "cell_type": "code",
   "execution_count": 98,
   "id": "07a27fdb",
   "metadata": {},
   "outputs": [
    {
     "data": {
      "text/plain": [
       "'Rakesh Kuamr'"
      ]
     },
     "execution_count": 98,
     "metadata": {},
     "output_type": "execute_result"
    }
   ],
   "source": [
    "s.title()"
   ]
  },
  {
   "cell_type": "code",
   "execution_count": null,
   "id": "22c60ada",
   "metadata": {},
   "outputs": [],
   "source": []
  },
  {
   "cell_type": "markdown",
   "id": "50c8aeee",
   "metadata": {},
   "source": [
    "## Sets Introduction"
   ]
  },
  {
   "cell_type": "markdown",
   "id": "fc568b77",
   "metadata": {},
   "source": [
    "- A set is an unordered collection of elements without duplicate entries.\n",
    "\n",
    "- Sets are an unordered collection of unique values. A single set contains values of any immutable data type.\n",
    "\n",
    "- When printed, iterated or converted into a sequence, its elements will appear in an arbitrary order."
   ]
  },
  {
   "cell_type": "code",
   "execution_count": 104,
   "id": "93503150",
   "metadata": {},
   "outputs": [
    {
     "data": {
      "text/plain": [
       "{'a', 'c', 'e', 'h', 'k', 'n', 'r'}"
      ]
     },
     "execution_count": 104,
     "metadata": {},
     "output_type": "execute_result"
    }
   ],
   "source": [
    "set('hackerank')"
   ]
  },
  {
   "cell_type": "code",
   "execution_count": 105,
   "id": "97f26be9",
   "metadata": {},
   "outputs": [
    {
     "data": {
      "text/plain": [
       "{-98, 0, 1, 8, 9}"
      ]
     },
     "execution_count": 105,
     "metadata": {},
     "output_type": "execute_result"
    }
   ],
   "source": [
    "set([1,9,8,0,9,-98])"
   ]
  },
  {
   "cell_type": "code",
   "execution_count": 106,
   "id": "6fe4e721",
   "metadata": {},
   "outputs": [
    {
     "data": {
      "text/plain": [
       "{'Hacker', 'Rank'}"
      ]
     },
     "execution_count": 106,
     "metadata": {},
     "output_type": "execute_result"
    }
   ],
   "source": [
    "set({'Hacker' : 'DOSHI', 'Rank' : 616 })"
   ]
  },
  {
   "cell_type": "markdown",
   "id": "2e17dbb4",
   "metadata": {},
   "source": [
    "### Symmetric Difference\n",
    "\n"
   ]
  },
  {
   "cell_type": "code",
   "execution_count": 5,
   "id": "fa589750",
   "metadata": {},
   "outputs": [
    {
     "name": "stdout",
     "output_type": "stream",
     "text": [
      "5 4 3 2\n",
      "['5', '4', '3', '2'] [5, 4, 3, 2]\n"
     ]
    }
   ],
   "source": [
    "a = input().split()\n",
    "newlist = list(map(int , a))\n",
    "print(a , newlist)"
   ]
  },
  {
   "cell_type": "markdown",
   "id": "2842dcd7",
   "metadata": {},
   "source": [
    "If the list values are all integer types, use the map() method to convert all the strings to integers."
   ]
  },
  {
   "cell_type": "markdown",
   "id": "e5fb215b",
   "metadata": {},
   "source": [
    "**1. Creating Sets**"
   ]
  },
  {
   "cell_type": "code",
   "execution_count": 8,
   "id": "b3e4a112",
   "metadata": {},
   "outputs": [
    {
     "name": "stdout",
     "output_type": "stream",
     "text": [
      "{1, 2}\n"
     ]
    },
    {
     "data": {
      "text/plain": [
       "{'a', 'b'}"
      ]
     },
     "execution_count": 8,
     "metadata": {},
     "output_type": "execute_result"
    }
   ],
   "source": [
    "myset = {1,2}\n",
    "print(myset)\n",
    "myset = set()\n",
    "myset = set(['a' , 'b'])\n",
    "myset"
   ]
  },
  {
   "cell_type": "markdown",
   "id": "21a72e20",
   "metadata": {},
   "source": [
    "**2.MODIFYING SETS**"
   ]
  },
  {
   "cell_type": "code",
   "execution_count": 11,
   "id": "96ac369e",
   "metadata": {},
   "outputs": [
    {
     "name": "stdout",
     "output_type": "stream",
     "text": [
      "{'b', 'a', 'c'}\n"
     ]
    },
    {
     "data": {
      "text/plain": [
       "{(5, 4), 'a', 'b', 'c'}"
      ]
     },
     "execution_count": 11,
     "metadata": {},
     "output_type": "execute_result"
    }
   ],
   "source": [
    "myset.add('c')\n",
    "print(myset) # As 'a' already exists in the set, nothing happens\n",
    "myset.add('a')\n",
    "myset.add((5,4))\n",
    "myset"
   ]
  },
  {
   "cell_type": "markdown",
   "id": "642e941e",
   "metadata": {},
   "source": [
    "**3.Update function**\n",
    "\n",
    "update() only works for iterable objects"
   ]
  },
  {
   "cell_type": "code",
   "execution_count": 17,
   "id": "930b6a32",
   "metadata": {},
   "outputs": [
    {
     "name": "stdout",
     "output_type": "stream",
     "text": [
      "{1, 2, 3, 'b', 4, (5, 4), 'a', 'c'}\n",
      "{1, 2, 3, 'b', 4, (5, 4), 'kumar', 'a', 'c', 'rakesh'}\n",
      "{1, 2, 3, 'b', 4, 6, 7, 8, 5, (5, 4), 'kumar', 13, 'a', 'c', 'rakesh'}\n"
     ]
    }
   ],
   "source": [
    "myset = {(5, 4), 'a', 'b', 'c'}\n",
    "myset.update([1,2,3,4])\n",
    "print(myset)\n",
    "myset.update(['rakesh' , 'kumar'])\n",
    "print(myset)\n",
    "myset.update({1,6,7,8} , [5,13])\n",
    "print(myset)"
   ]
  },
  {
   "cell_type": "markdown",
   "id": "1a4e11a9",
   "metadata": {},
   "source": [
    "**REMOVING ITEMS**"
   ]
  },
  {
   "cell_type": "markdown",
   "id": "beeb0e50",
   "metadata": {},
   "source": [
    "Both the `discard()` and `remove()` functions take a single value as an argument and removes that value from the set. If that value is not present, `discard()` does nothing, but `remove()` will raise a` KeyError exception`."
   ]
  },
  {
   "cell_type": "code",
   "execution_count": 18,
   "id": "d9b4c8ff",
   "metadata": {},
   "outputs": [
    {
     "name": "stdout",
     "output_type": "stream",
     "text": [
      "{(5, 4), 'b', 'a', 'c'}\n"
     ]
    }
   ],
   "source": [
    "myset = {(5, 4), 'a', 'b', 'c'}\n",
    "print(myset)\n",
    "myset.remove('a')\n",
    "myset.discard('c')"
   ]
  },
  {
   "cell_type": "code",
   "execution_count": 21,
   "id": "0429d436",
   "metadata": {},
   "outputs": [
    {
     "ename": "KeyError",
     "evalue": "1",
     "output_type": "error",
     "traceback": [
      "\u001b[1;31m---------------------------------------------------------------------------\u001b[0m",
      "\u001b[1;31mKeyError\u001b[0m                                  Traceback (most recent call last)",
      "Input \u001b[1;32mIn [21]\u001b[0m, in \u001b[0;36m<cell line: 4>\u001b[1;34m()\u001b[0m\n\u001b[0;32m      2\u001b[0m s\u001b[38;5;241m.\u001b[39mremove(\u001b[38;5;241m1\u001b[39m)\n\u001b[0;32m      3\u001b[0m s\u001b[38;5;241m.\u001b[39mdiscard(\u001b[38;5;241m1\u001b[39m)\n\u001b[1;32m----> 4\u001b[0m \u001b[43ms\u001b[49m\u001b[38;5;241;43m.\u001b[39;49m\u001b[43mremove\u001b[49m\u001b[43m(\u001b[49m\u001b[38;5;241;43m1\u001b[39;49m\u001b[43m)\u001b[49m\n",
      "\u001b[1;31mKeyError\u001b[0m: 1"
     ]
    }
   ],
   "source": [
    "s = {1}\n",
    "s.remove(1)\n",
    "s.discard(1)\n",
    "s.remove(1)"
   ]
  },
  {
   "cell_type": "markdown",
   "id": "570f2f0e",
   "metadata": {},
   "source": [
    "**COMMON SET OPERATIONS** \n",
    "\n",
    "Using union(), intersection() and difference() functions."
   ]
  },
  {
   "cell_type": "code",
   "execution_count": 24,
   "id": "5ae9c519",
   "metadata": {},
   "outputs": [
    {
     "name": "stdout",
     "output_type": "stream",
     "text": [
      "Union of a and b is {2, 4, 6, 9, 11, 12}\n",
      "Intersection of a and b is {9, 2}\n",
      "Difference of a and b is {4, 6}\n",
      "Difference of b and a is {11, 12}\n"
     ]
    }
   ],
   "source": [
    "a = {2,4,6,9}\n",
    "b = {2,9,11,12}\n",
    "\n",
    "print('Union of a and b is {}'.format(a.union(b)))\n",
    "print('Intersection of a and b is {}'.format(a.intersection(b)))\n",
    "print('Difference of a and b is {}'.format(a.difference(b)))\n",
    "print('Difference of b and a is {}'.format(b.difference(a)))"
   ]
  },
  {
   "cell_type": "markdown",
   "id": "8613789c",
   "metadata": {},
   "source": [
    "The union() and intersection() functions are symmetric methods:\n",
    "\n",
    "a.union(b) == b.union(a)\n",
    "True\n",
    "\n",
    "a.intersection(b) == b.intersection(a)\n",
    "True\n",
    "\n",
    "a.difference(b) == b.difference(a)\n",
    "False"
   ]
  },
  {
   "cell_type": "code",
   "execution_count": 28,
   "id": "32745820",
   "metadata": {},
   "outputs": [
    {
     "name": "stdout",
     "output_type": "stream",
     "text": [
      "4\n",
      "2 4 5 9 \n",
      "4\n",
      "2 4 11 12 \n"
     ]
    }
   ],
   "source": [
    "M = int(input())\n",
    "m_int = set(map(int , input().split()))\n",
    "N = int(input())\n",
    "n_int = set(map(int , input().split()))"
   ]
  },
  {
   "cell_type": "code",
   "execution_count": null,
   "id": "61d1d99d",
   "metadata": {},
   "outputs": [],
   "source": []
  },
  {
   "cell_type": "code",
   "execution_count": 32,
   "id": "8bf538ea",
   "metadata": {},
   "outputs": [
    {
     "name": "stdout",
     "output_type": "stream",
     "text": [
      "5\n",
      "9\n",
      "11\n",
      "12\n"
     ]
    }
   ],
   "source": [
    "for i in sorted(list(m_int.difference(n_int).union(n_int.difference(m_int)))):\n",
    "    print(i) "
   ]
  },
  {
   "cell_type": "markdown",
   "id": "b2c5d826",
   "metadata": {},
   "source": [
    "### No Idea!\n",
    "https://www.hackerrank.com/challenges/no-idea/problem?h_r=next-challenge&h_v=zen\n",
    "\n",
    "There is an array of  integers. There are also  disjoint sets,  and , each containing  integers. You like all the integers in set  and dislike all the integers in set . Your initial happiness is . For each  integer in the array, if , you add  to your happiness. If , you add  to your happiness. Otherwise, your happiness does not change. Output your final happiness at the end.\n",
    "\n",
    "Note: Since  and  are sets, they have no repeated elements. However, the array might contain duplicate elements.\n"
   ]
  },
  {
   "cell_type": "code",
   "execution_count": 37,
   "id": "44ce71fa",
   "metadata": {},
   "outputs": [
    {
     "name": "stdout",
     "output_type": "stream",
     "text": [
      "3 2 \n",
      "1 5 3 \n",
      "3 1 \n",
      "5 7 \n"
     ]
    }
   ],
   "source": [
    "N , M = (map(int , input().split()))\n",
    "array =list(map(int , input().split()))\n",
    "A = set(map(int , input().split()))\n",
    "B = set(map(int , input().split()))"
   ]
  },
  {
   "cell_type": "code",
   "execution_count": 43,
   "id": "f4335b58",
   "metadata": {},
   "outputs": [
    {
     "name": "stdout",
     "output_type": "stream",
     "text": [
      "1\n",
      "3\n"
     ]
    }
   ],
   "source": []
  },
  {
   "cell_type": "code",
   "execution_count": 44,
   "id": "8ede1abb",
   "metadata": {},
   "outputs": [
    {
     "data": {
      "text/plain": [
       "1"
      ]
     },
     "execution_count": 44,
     "metadata": {},
     "output_type": "execute_result"
    }
   ],
   "source": [
    "happ = 0 \n",
    "for i in array:\n",
    "    if i in A:\n",
    "        happ+=1\n",
    "    if i in B:\n",
    "        happ-=1\n",
    "happ "
   ]
  },
  {
   "cell_type": "code",
   "execution_count": 47,
   "id": "34090637",
   "metadata": {},
   "outputs": [
    {
     "name": "stdout",
     "output_type": "stream",
     "text": [
      "1\n"
     ]
    }
   ],
   "source": [
    "print (sum([(i in A) - (i in B) for i in array]))"
   ]
  },
  {
   "cell_type": "code",
   "execution_count": 53,
   "id": "a2373a90",
   "metadata": {},
   "outputs": [
    {
     "name": "stdout",
     "output_type": "stream",
     "text": [
      "7\n",
      "UK\n",
      "CHIna\n",
      "USa\n",
      "france\n",
      "new\n",
      "UK\n",
      "france\n",
      "{'new', 'USa', 'CHIna', 'france', 'UK'}\n"
     ]
    }
   ],
   "source": [
    "n = int(input())\n",
    "s =set()\n",
    "for i in range(n):\n",
    "    s.add(input())\n",
    "print(s)"
   ]
  },
  {
   "cell_type": "markdown",
   "id": "78d6a340",
   "metadata": {},
   "source": [
    "### Set .discard(), .remove() & .pop()\n",
    "\n"
   ]
  },
  {
   "cell_type": "markdown",
   "id": "7e6ba8cb",
   "metadata": {},
   "source": [
    "**.pop()** \n",
    "\n",
    "This operation removes and return an arbitrary element from the set.\n",
    "If there are no elements to remove, it raises a KeyError."
   ]
  },
  {
   "cell_type": "code",
   "execution_count": 56,
   "id": "d4f76eb2",
   "metadata": {},
   "outputs": [
    {
     "name": "stdout",
     "output_type": "stream",
     "text": [
      "9\n",
      "1 2 3 4 5 6 7 8 9\n",
      "10\n",
      "pop\n",
      "remove 9\n",
      "discard 8\n",
      "remove 7 \n",
      "pop \n",
      "discard 6\n",
      "remove 5\n",
      "pop \n",
      "discard 5\n",
      "pop\n"
     ]
    }
   ],
   "source": [
    "n = int(input())\n",
    "s = set(map(int ,input().split()))\n",
    "N =int(input())\n",
    "l = []\n",
    "for i in range(N):\n",
    "    l.append(input())"
   ]
  },
  {
   "cell_type": "code",
   "execution_count": 2,
   "id": "85af14b9",
   "metadata": {},
   "outputs": [
    {
     "name": "stdout",
     "output_type": "stream",
     "text": [
      "3\n",
      "1 2 3\n",
      "3\n"
     ]
    }
   ],
   "source": [
    "n = int(input())\n",
    "s = set(map(int ,input().split()))\n",
    "N =int(input())\n",
    "\n",
    "#     eval(sp[0]+ '(' + ','.join(input) + ')') \n"
   ]
  },
  {
   "cell_type": "code",
   "execution_count": 8,
   "id": "1a3378ad",
   "metadata": {},
   "outputs": [
    {
     "name": "stdout",
     "output_type": "stream",
     "text": [
      "3 \n",
      "1 2 3 \n",
      "2\n",
      "remove 1\n",
      "add 69\n",
      "{2, 3, 69}\n",
      "74\n"
     ]
    }
   ],
   "source": [
    "n = int(input())\n",
    "s = set(map(int ,input().split()))\n",
    "N =int(input())\n",
    "for i in range(N):\n",
    "    sp = input().split()\n",
    "    cmd = sp[0]\n",
    "    inp = sp[1:]\n",
    "    command = sp[0]+ '(' + ','.join(inp) + ')'\n",
    "    eval('s'+'.'+command) \n",
    "print(s)\n",
    "print(sum(list(s)))"
   ]
  },
  {
   "cell_type": "markdown",
   "id": "0640dc6c",
   "metadata": {},
   "source": [
    "### Set .union() Operation\n",
    "\n",
    "The .union() operator returns the union of a set and the set of elements in an iterable.\n",
    "Sometimes, the | operator is used in place of .union() operator, but it operates only on the set of elements in set.\n",
    "Set is immutable to the .union() operation (or | operation)."
   ]
  },
  {
   "cell_type": "code",
   "execution_count": 4,
   "id": "49f3860b",
   "metadata": {},
   "outputs": [
    {
     "name": "stdout",
     "output_type": "stream",
     "text": [
      "9\n",
      "1 2 3 4 5 6 7 8 9\n",
      "9\n",
      "10 1 2 3 11 21 55 6 8\n"
     ]
    }
   ],
   "source": [
    "n = int(input())\n",
    "a = set(map(int , input().split()))\n",
    "m = int(input())\n",
    "b = set(map(int , input().split()))"
   ]
  },
  {
   "cell_type": "code",
   "execution_count": 10,
   "id": "0fc4a5b4",
   "metadata": {},
   "outputs": [
    {
     "data": {
      "text/plain": [
       "13"
      ]
     },
     "execution_count": 10,
     "metadata": {},
     "output_type": "execute_result"
    }
   ],
   "source": [
    "len(a.difference(b)) + len(b.difference(a)) + len(a.intersection(b))"
   ]
  },
  {
   "cell_type": "markdown",
   "id": "373ce776",
   "metadata": {},
   "source": [
    "### Set .intersection() Operation\n",
    "\n",
    "**.intersection()**\n",
    "\n",
    "The .intersection() operator returns the intersection of a set and the set of elements in an iterable.\n",
    "Sometimes, the & operator is used in place of the .intersection() operator, but it only operates on the set of elements in set.\n",
    "The set is immutable to the .intersection() operation (or & operation)."
   ]
  },
  {
   "cell_type": "markdown",
   "id": "0fba69c5",
   "metadata": {},
   "source": [
    "### zipped"
   ]
  },
  {
   "cell_type": "code",
   "execution_count": 32,
   "id": "d2e655ff",
   "metadata": {},
   "outputs": [
    {
     "name": "stdout",
     "output_type": "stream",
     "text": [
      "5 3 \n",
      "1 2 3 4 5\n",
      "1 2 3 4 5\n",
      "1 2 3 4 5\n",
      "1.0\n",
      "2.0\n",
      "3.0\n",
      "4.0\n",
      "5.0\n"
     ]
    }
   ],
   "source": [
    "n , m = map(int , (input().split()))\n",
    "l=[]\n",
    "for i in range(m):\n",
    "    l.append(list(map(int , (input().split()))))\n",
    "for i in zip(*l):\n",
    "    print(sum(i)/len(i)) "
   ]
  },
  {
   "cell_type": "markdown",
   "id": "0bda6c91",
   "metadata": {},
   "source": [
    "### Map and Lambda Function\n",
    "\n",
    "The map() function applies a function to every member of an iterable and returns the result. It takes two parameters: first, the function that is to be applied and secondly, the iterables.\n",
    "Let's say you are given a list of names, and you have to print a list that contains the length of each name.\n",
    "\n",
    "`>> print (list(map(len, ['Tina', 'Raj', 'Tom'])))  \n",
    "[4, 3, 3]\n",
    "`"
   ]
  },
  {
   "cell_type": "markdown",
   "id": "af109996",
   "metadata": {},
   "source": [
    "Lambda is a single expression anonymous function often used as an inline function. In simple words, it is a function that has only one line in its body. It proves very handy in functional and GUI programming.\n",
    "\n",
    "`>> sum = lambda a, b, c: a + b + c`\n",
    "`>> sum(1, 2, 3) 6`"
   ]
  },
  {
   "cell_type": "code",
   "execution_count": null,
   "id": "3ef990e4",
   "metadata": {},
   "outputs": [],
   "source": [
    "a = 0\n",
    "b= 1 \n",
    "l =[0,1]\n",
    "for i in range(5):\n",
    "    c = a+b\n",
    "    l.append(c)\n",
    "    a=b\n",
    "    b=c\n",
    "cube = lambda n : n*n*n\n",
    "print(list(map(cube , l)))   "
   ]
  },
  {
   "cell_type": "code",
   "execution_count": 57,
   "id": "92bcc38d",
   "metadata": {},
   "outputs": [
    {
     "name": "stdout",
     "output_type": "stream",
     "text": [
      "5\n",
      "[0, 1, 1, 2, 3]\n"
     ]
    }
   ],
   "source": [
    "n = int(input())\n",
    "lis=  [ 0,1]\n",
    "for i in range(2,n):\n",
    "    lis.append(lis[i-2] + lis[i-1])\n",
    "print(lis[0:n]) \n"
   ]
  },
  {
   "cell_type": "markdown",
   "id": "3c193e8b",
   "metadata": {},
   "source": [
    "### Validating Email Addresses With a Filter\n",
    "\n",
    "**Concept**\n",
    "\n",
    "A filter takes a function returning True or False and applies it to a sequence, returning a list of only those members of the sequence where the function returned True. A Lambda function can be used with filters."
   ]
  },
  {
   "cell_type": "code",
   "execution_count": 63,
   "id": "83715379",
   "metadata": {},
   "outputs": [
    {
     "data": {
      "text/plain": [
       "[0, 1, 4, 9, 16, 25, 36, 49, 64]"
      ]
     },
     "execution_count": 63,
     "metadata": {},
     "output_type": "execute_result"
    }
   ],
   "source": [
    "l = list(range(0,9))\n",
    "l = list(map(lambda x:x*x , l))\n",
    "l"
   ]
  },
  {
   "cell_type": "markdown",
   "id": "668ec6d4",
   "metadata": {},
   "source": [
    "Now, you only require those elements that are greater than 10 but less than 80."
   ]
  },
  {
   "cell_type": "code",
   "execution_count": 64,
   "id": "42ab7a20",
   "metadata": {},
   "outputs": [
    {
     "data": {
      "text/plain": [
       "[16, 25, 36, 49, 64]"
      ]
     },
     "execution_count": 64,
     "metadata": {},
     "output_type": "execute_result"
    }
   ],
   "source": [
    "list(filter(lambda x:x>10 and x<80 , l))"
   ]
  },
  {
   "cell_type": "code",
   "execution_count": 65,
   "id": "b2fbc4a8",
   "metadata": {},
   "outputs": [
    {
     "name": "stdout",
     "output_type": "stream",
     "text": [
      "['brian-23', 'hackerrank.com']\n",
      "['britts_54', 'hackerrank.com']\n",
      "['lara', 'hackerrank.com']\n"
     ]
    }
   ],
   "source": [
    "for email in emails:\n",
    "    user = email.split('@')[0]\n",
    "    website = email.split('@')[0].split('.')\n",
    "    ext = email.split('@')[1].split('.')\n",
    "    for ch in email[0]:\n",
    "        if ch.isalum() or ch=='-' or ch=='_':\n",
    "            ans.append(True)\n",
    "        else:\n",
    "            ans.append(False)\n",
    "    for ch in email[1]:\n",
    "        if ch.isalum():\n",
    "            ans.append(True)\n",
    "        else:\n",
    "            ans.append(False)\n",
    "    \n"
   ]
  },
  {
   "cell_type": "code",
   "execution_count": 10,
   "id": "57dfb103",
   "metadata": {},
   "outputs": [
    {
     "name": "stdout",
     "output_type": "stream",
     "text": [
      "4\n"
     ]
    },
    {
     "data": {
      "text/plain": [
       "[]"
      ]
     },
     "execution_count": 10,
     "metadata": {},
     "output_type": "execute_result"
    }
   ],
   "source": [
    "n = int(input())\n",
    "# emails = []\n",
    "# for i in range(n):\n",
    "#     emails.append(input().split())\n",
    "emails = [ 'iota_98@hackerrank.com', 'lara@hackerrank.com']\n",
    "ans1 = []\n",
    "for e in emails:\n",
    "    ans = [] \n",
    "    l  =  e.split('@')\n",
    "    user = l[0]\n",
    "    web = l[1].split('.')[0]\n",
    "    ext = l[1].split('.')[1:]\n",
    "#     print(user , web ,ext)   \n",
    "    ans.append(all([i.isalnum() for i in web]))\n",
    "    ans.append(all([i.isalnum() or i=='-' or i=='_' for i in user]))\n",
    "    \n",
    "    if ext==3:\n",
    "        ans.append(True)\n",
    "    else:\n",
    "        ans.append(False)\n",
    "        \n",
    "    if all(ans):\n",
    "        ans1.append(e)\n",
    "ans1 "
   ]
  },
  {
   "cell_type": "code",
   "execution_count": 100,
   "id": "54db8f36",
   "metadata": {},
   "outputs": [
    {
     "data": {
      "text/plain": [
       "[]"
      ]
     },
     "execution_count": 100,
     "metadata": {},
     "output_type": "execute_result"
    }
   ],
   "source": [
    "s = 'harsh@gmail'\n",
    "l =s.split('@') \n",
    "user = l[0]\n",
    "web = l[1].split('.')\n",
    "l[1].split('.')[1:]"
   ]
  },
  {
   "cell_type": "code",
   "execution_count": 4,
   "id": "20a2a328",
   "metadata": {},
   "outputs": [
    {
     "name": "stdout",
     "output_type": "stream",
     "text": [
      "['harsh@gmail']\n",
      "['iota_98@hackerrank.com']\n"
     ]
    }
   ],
   "source": [
    "for e in emails:\n",
    "    print(e) "
   ]
  },
  {
   "cell_type": "code",
   "execution_count": null,
   "id": "5416ff11",
   "metadata": {},
   "outputs": [],
   "source": []
  }
 ],
 "metadata": {
  "kernelspec": {
   "display_name": "Python 3 (ipykernel)",
   "language": "python",
   "name": "python3"
  },
  "language_info": {
   "codemirror_mode": {
    "name": "ipython",
    "version": 3
   },
   "file_extension": ".py",
   "mimetype": "text/x-python",
   "name": "python",
   "nbconvert_exporter": "python",
   "pygments_lexer": "ipython3",
   "version": "3.8.12"
  }
 },
 "nbformat": 4,
 "nbformat_minor": 5
}
